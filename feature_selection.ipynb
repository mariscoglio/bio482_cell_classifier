{
 "cells": [
  {
   "cell_type": "code",
   "execution_count": null,
   "metadata": {},
   "outputs": [],
   "source": [
    "# Notebook imports\n",
    "\n",
    "# Used to define paths to files for data import and export\n",
    "import os\n",
    "import os.path as op\n",
    "\n",
    "# Basic libraries\n",
    "import numpy as np\n",
    "import matplotlib.pyplot as plt\n",
    "import pandas as pd\n",
    "import seaborn as sns \n",
    "\n",
    "# Used for preprocessing and splitting of data \n",
    "from sklearn.model_selection import train_test_split\n",
    "\n",
    "# Different models for feature selection\n",
    "from sklearn.model_selection import StratifiedKFold\n",
    "from sklearn.feature_selection import RFECV\n",
    "from sklearn.feature_selection import SelectFromModel\n",
    "from sklearn.feature_selection import SequentialFeatureSelector\n",
    "\n",
    "# Different models that can be used as classifiers for feature selection\n",
    "from sklearn.linear_model import LogisticRegression\n",
    "from sklearn.linear_model import RidgeClassifier\n",
    "from sklearn.svm import SVC\n",
    "from sklearn.svm import NuSVC\n",
    "from sklearn.tree import DecisionTreeClassifier\n",
    "from sklearn.tree import ExtraTreeClassifier\n",
    "# import xgboost as xgb\n",
    "\n"
   ]
  },
  {
   "cell_type": "markdown",
   "metadata": {},
   "source": [
    "# Feature selection notebook\n",
    "\n",
    "### Part 1 : Loading preprocessed data"
   ]
  },
  {
   "cell_type": "code",
   "execution_count": null,
   "metadata": {},
   "outputs": [],
   "source": []
  },
  {
   "cell_type": "markdown",
   "metadata": {},
   "source": [
    "### Part 2 : Splitting in train and test sets\n",
    "\n",
    "We need train and test sets to be able to do feature selection using the sklearn models."
   ]
  },
  {
   "cell_type": "code",
   "execution_count": null,
   "metadata": {},
   "outputs": [],
   "source": [
    "# Sepatate train and test data \n",
    "df_train, df_test = train_test_split(df, test_size=0.2, random_state=42)\n",
    "\n",
    "# Get X and y matrices for feature classification\n",
    "X_train = df_train.drop(columns=[\"\"])\n",
    "y_train = df_train[\"\"]\n",
    "X_test = df_test.drop(columns=[\"\"])\n",
    "y_test = df_test[\"\"]\n",
    "\n",
    "# Get feature names\n",
    "features = X_train.columns"
   ]
  },
  {
   "cell_type": "markdown",
   "metadata": {},
   "source": [
    "### Part 3 : Feature selection\n",
    "#### 3.1 Choosing classifier"
   ]
  },
  {
   "cell_type": "code",
   "execution_count": null,
   "metadata": {},
   "outputs": [],
   "source": [
    "# Choosing the classifier\n",
    "classifier = LogisticRegression(max_iter = 500, multi_class=\"multinomial\")\n",
    "name_classifier = 'LogisticRegression' # give the name of the classifier to save the file at the end\n",
    "\n",
    "# Choosing the minimum number of features so consider\n",
    "min_features_to_select = 15 \n",
    "\n",
    "# List of other possible classifiers :\n",
    "    # LogisticRegression(max_iter = 500, multi_class=\"ovr\")\n",
    "    # RidgeClassifier()\n",
    "    # SVC(kernel=\"linear\")\n",
    "    # NuSVC(kernel=\"linear\")\n",
    "    # DecisionTreeClassifier()\n",
    "    # ExtraTreeClassifier()"
   ]
  },
  {
   "cell_type": "markdown",
   "metadata": {},
   "source": [
    "#### 3.2 Recursive feature elimination (RFE) with cross-validation"
   ]
  },
  {
   "cell_type": "code",
   "execution_count": null,
   "metadata": {},
   "outputs": [],
   "source": [
    "# Create the RFE object and compute a cross-validated score\n",
    "rfecv = RFECV(estimator=classifier,\n",
    "              step=1,\n",
    "              cv=StratifiedKFold(4),\n",
    "              scoring='f1',\n",
    "              min_features_to_select=min_features_to_select)\n",
    "rfecv.fit(X_train, y_train)"
   ]
  },
  {
   "cell_type": "code",
   "execution_count": null,
   "metadata": {},
   "outputs": [],
   "source": [
    "# Optimal number of features\n",
    "print(\"Optimal number of features : %d\" % rfecv.n_features_)\n",
    "\n",
    "# Plot number of features VS. cross-validation scores\n",
    "plt.figure()\n",
    "plt.xlabel(\"Number of features selected\")\n",
    "plt.ylabel(\"Cross validation score (f1_score)\")\n",
    "plt.plot(range(min_features_to_select, len(rfecv.grid_scores_) + min_features_to_select),\n",
    "         rfecv.grid_scores_)\n",
    "plt.show()"
   ]
  },
  {
   "cell_type": "code",
   "execution_count": null,
   "metadata": {},
   "outputs": [],
   "source": [
    "# See feature ranking\n",
    "df_rfecv = pd.DataFrame(list(zip(features, rfecv.ranking_)), columns =['Feature', 'Rank']).sort_values(by='Rank')\n",
    "df_rfecv.head(40)"
   ]
  },
  {
   "cell_type": "code",
   "execution_count": null,
   "metadata": {},
   "outputs": [],
   "source": [
    "# Columns selected\n",
    "features_rfecv = features[rfecv.support_]\n",
    "features_rfecv"
   ]
  },
  {
   "cell_type": "markdown",
   "metadata": {},
   "source": [
    "#### 3.3 Sequential Feature Selection\n",
    "##### 3.3.1 SelectFromModel\n",
    "\n",
    "First we get an idea of the importance of the features with a logistic regression. Features with the highest absolute coefficient are considered most important"
   ]
  },
  {
   "cell_type": "code",
   "execution_count": null,
   "metadata": {},
   "outputs": [],
   "source": [
    "# Feature importance from coefficients\n",
    "importance_fit = classifier.fit(X_train, y_train)\n",
    "\n",
    "if len(importance_fit.coef_.tolist())>1:\n",
    "       importance = np.abs(importance_fit.coef_)  \n",
    "else:\n",
    "       importance = np.abs(importance_fit.coef_.tolist()[0])\n",
    "\n",
    "df_importance = pd.DataFrame(list(zip(features, importance)), columns =['Feature', 'Importance']).sort_values(by='Importance', ascending=False)\n",
    "\n",
    "plt.figure(figsize=(25, 7))\n",
    "plt.bar('Feature', 'Importance', data=df_importance)\n",
    "plt.title(\"Feature importances via coefficients\")\n",
    "plt.xticks(rotation=90)\n",
    "plt.show()"
   ]
  },
  {
   "cell_type": "code",
   "execution_count": null,
   "metadata": {},
   "outputs": [],
   "source": [
    "# See feature ranking\n",
    "df_importance.head(10)"
   ]
  },
  {
   "cell_type": "markdown",
   "metadata": {},
   "source": [
    "Now we select the features which are most important according to the coefficients using SelectFromModel."
   ]
  },
  {
   "cell_type": "code",
   "execution_count": null,
   "metadata": {},
   "outputs": [],
   "source": [
    "threshold = np.sort(importance)[-35] + 0.01\n",
    "sfm = SelectFromModel(classifier, threshold=threshold).fit(X_train, y_train)\n",
    "\n",
    "features_sfm = features[sfm.get_support()]\n",
    "print(f\"Features selected by SelectFromModel: {features_sfm}\")"
   ]
  },
  {
   "cell_type": "markdown",
   "metadata": {},
   "source": [
    "##### 3.3.2 SequentialFeatureSelection"
   ]
  },
  {
   "cell_type": "code",
   "execution_count": null,
   "metadata": {},
   "outputs": [],
   "source": [
    "# Forward sequential feature selection\n",
    "sfs_forward = SequentialFeatureSelector(classifier, n_features_to_select=20, direction=\"forward\").fit(X_train, y_train)"
   ]
  },
  {
   "cell_type": "code",
   "execution_count": null,
   "metadata": {},
   "outputs": [],
   "source": [
    "# Backwards sequential feature selection, takes a lot of time to run\n",
    "sfs_backward = SequentialFeatureSelector(classifier, n_features_to_select=20, direction=\"backward\").fit(X_train, y_train)"
   ]
  },
  {
   "cell_type": "code",
   "execution_count": null,
   "metadata": {},
   "outputs": [],
   "source": [
    "# Selected features\n",
    "features_sfs_forward = features[sfs_forward.get_support()]\n",
    "print(\"Features selected by forward sequential selection:\\n \" f\"{features_sfs_forward}\")\n",
    "\n",
    "#print('------')\n",
    "\n",
    "features_sfs_backward = features[sfs_backward.get_support()]\n",
    "print(\"Features selected by backward sequential selection:\\n \" f\"{features_sfs_backward}\")"
   ]
  },
  {
   "cell_type": "markdown",
   "metadata": {},
   "source": [
    "### Part 4 : Discussion"
   ]
  }
 ],
 "metadata": {
  "kernelspec": {
   "display_name": "bio482",
   "language": "python",
   "name": "python3"
  },
  "language_info": {
   "name": "python",
   "version": "3.11.5"
  }
 },
 "nbformat": 4,
 "nbformat_minor": 2
}
