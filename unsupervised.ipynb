{
 "cells": [
  {
   "cell_type": "code",
   "execution_count": 1,
   "metadata": {},
   "outputs": [],
   "source": [
    "from sklearn.decomposition import PCA\n",
    "import pandas as pd\n",
    "import seaborn as sns\n",
    "import numpy as np\n",
    "from sklearn.impute import SimpleImputer\n",
    "from sklearn.preprocessing import StandardScaler, OneHotEncoder, MinMaxScaler\n",
    "from sklearn.compose import make_column_transformer\n",
    "from sklearn.pipeline import Pipeline\n",
    "from sklearn.feature_selection import VarianceThreshold\n",
    "from neurasort.bio482.helpers import *\n",
    "\n",
    "import numpy as np\n",
    "from sklearn.experimental import enable_iterative_imputer\n",
    "from sklearn.impute import IterativeImputer"
   ]
  },
  {
   "cell_type": "code",
   "execution_count": 2,
   "metadata": {},
   "outputs": [],
   "source": [
    "raw_data = pd.read_csv('raw_predictors_free_whisking.csv')\n",
    "#raw_data = pd.read_csv('raw_predictors.csv')"
   ]
  },
  {
   "cell_type": "code",
   "execution_count": 3,
   "metadata": {},
   "outputs": [
    {
     "data": {
      "text/html": [
       "<div>\n",
       "<style scoped>\n",
       "    .dataframe tbody tr th:only-of-type {\n",
       "        vertical-align: middle;\n",
       "    }\n",
       "\n",
       "    .dataframe tbody tr th {\n",
       "        vertical-align: top;\n",
       "    }\n",
       "\n",
       "    .dataframe thead th {\n",
       "        text-align: right;\n",
       "    }\n",
       "</style>\n",
       "<table border=\"1\" class=\"dataframe\">\n",
       "  <thead>\n",
       "    <tr style=\"text-align: right;\">\n",
       "      <th></th>\n",
       "      <th>cell_type</th>\n",
       "      <th>firing_rate</th>\n",
       "      <th>ap_threshold</th>\n",
       "      <th>ap_duration</th>\n",
       "      <th>mean_vm</th>\n",
       "      <th>std_vm</th>\n",
       "      <th>fft_low</th>\n",
       "      <th>fft_high</th>\n",
       "    </tr>\n",
       "  </thead>\n",
       "  <tbody>\n",
       "    <tr>\n",
       "      <th>0</th>\n",
       "      <td>EXC</td>\n",
       "      <td>3.25</td>\n",
       "      <td>-0.028422</td>\n",
       "      <td>0.563846</td>\n",
       "      <td>-0.038375</td>\n",
       "      <td>0.005196</td>\n",
       "      <td>0.000043</td>\n",
       "      <td>0.000518</td>\n",
       "    </tr>\n",
       "    <tr>\n",
       "      <th>1</th>\n",
       "      <td>EXC</td>\n",
       "      <td>0.20</td>\n",
       "      <td>-0.033953</td>\n",
       "      <td>1.012500</td>\n",
       "      <td>-0.049049</td>\n",
       "      <td>0.004335</td>\n",
       "      <td>0.000053</td>\n",
       "      <td>0.000485</td>\n",
       "    </tr>\n",
       "    <tr>\n",
       "      <th>2</th>\n",
       "      <td>EXC</td>\n",
       "      <td>0.05</td>\n",
       "      <td>-0.039291</td>\n",
       "      <td>3.350000</td>\n",
       "      <td>-0.050940</td>\n",
       "      <td>0.005286</td>\n",
       "      <td>0.000063</td>\n",
       "      <td>0.000519</td>\n",
       "    </tr>\n",
       "    <tr>\n",
       "      <th>3</th>\n",
       "      <td>EXC</td>\n",
       "      <td>0.00</td>\n",
       "      <td>0.000000</td>\n",
       "      <td>0.000000</td>\n",
       "      <td>-0.047544</td>\n",
       "      <td>0.004778</td>\n",
       "      <td>0.000057</td>\n",
       "      <td>0.000557</td>\n",
       "    </tr>\n",
       "    <tr>\n",
       "      <th>4</th>\n",
       "      <td>EXC</td>\n",
       "      <td>0.15</td>\n",
       "      <td>-0.033361</td>\n",
       "      <td>1.733333</td>\n",
       "      <td>-0.046490</td>\n",
       "      <td>0.002881</td>\n",
       "      <td>0.000031</td>\n",
       "      <td>0.000403</td>\n",
       "    </tr>\n",
       "    <tr>\n",
       "      <th>...</th>\n",
       "      <td>...</td>\n",
       "      <td>...</td>\n",
       "      <td>...</td>\n",
       "      <td>...</td>\n",
       "      <td>...</td>\n",
       "      <td>...</td>\n",
       "      <td>...</td>\n",
       "      <td>...</td>\n",
       "    </tr>\n",
       "    <tr>\n",
       "      <th>492</th>\n",
       "      <td>SST</td>\n",
       "      <td>6.60</td>\n",
       "      <td>-0.047992</td>\n",
       "      <td>0.564015</td>\n",
       "      <td>-0.056633</td>\n",
       "      <td>0.003752</td>\n",
       "      <td>0.000066</td>\n",
       "      <td>0.000438</td>\n",
       "    </tr>\n",
       "    <tr>\n",
       "      <th>493</th>\n",
       "      <td>SST</td>\n",
       "      <td>6.80</td>\n",
       "      <td>-0.047427</td>\n",
       "      <td>0.578676</td>\n",
       "      <td>-0.056827</td>\n",
       "      <td>0.004175</td>\n",
       "      <td>0.000071</td>\n",
       "      <td>0.000514</td>\n",
       "    </tr>\n",
       "    <tr>\n",
       "      <th>494</th>\n",
       "      <td>SST</td>\n",
       "      <td>7.50</td>\n",
       "      <td>-0.047400</td>\n",
       "      <td>0.589667</td>\n",
       "      <td>-0.056011</td>\n",
       "      <td>0.004038</td>\n",
       "      <td>0.000067</td>\n",
       "      <td>0.000460</td>\n",
       "    </tr>\n",
       "    <tr>\n",
       "      <th>495</th>\n",
       "      <td>SST</td>\n",
       "      <td>5.50</td>\n",
       "      <td>-0.048279</td>\n",
       "      <td>0.580455</td>\n",
       "      <td>-0.056918</td>\n",
       "      <td>0.003525</td>\n",
       "      <td>0.000054</td>\n",
       "      <td>0.000430</td>\n",
       "    </tr>\n",
       "    <tr>\n",
       "      <th>496</th>\n",
       "      <td>SST</td>\n",
       "      <td>7.15</td>\n",
       "      <td>-0.047629</td>\n",
       "      <td>0.591608</td>\n",
       "      <td>-0.056780</td>\n",
       "      <td>0.004055</td>\n",
       "      <td>0.000073</td>\n",
       "      <td>0.000469</td>\n",
       "    </tr>\n",
       "  </tbody>\n",
       "</table>\n",
       "<p>497 rows × 8 columns</p>\n",
       "</div>"
      ],
      "text/plain": [
       "    cell_type  firing_rate  ap_threshold  ap_duration   mean_vm    std_vm  \\\n",
       "0         EXC         3.25     -0.028422     0.563846 -0.038375  0.005196   \n",
       "1         EXC         0.20     -0.033953     1.012500 -0.049049  0.004335   \n",
       "2         EXC         0.05     -0.039291     3.350000 -0.050940  0.005286   \n",
       "3         EXC         0.00      0.000000     0.000000 -0.047544  0.004778   \n",
       "4         EXC         0.15     -0.033361     1.733333 -0.046490  0.002881   \n",
       "..        ...          ...           ...          ...       ...       ...   \n",
       "492       SST         6.60     -0.047992     0.564015 -0.056633  0.003752   \n",
       "493       SST         6.80     -0.047427     0.578676 -0.056827  0.004175   \n",
       "494       SST         7.50     -0.047400     0.589667 -0.056011  0.004038   \n",
       "495       SST         5.50     -0.048279     0.580455 -0.056918  0.003525   \n",
       "496       SST         7.15     -0.047629     0.591608 -0.056780  0.004055   \n",
       "\n",
       "      fft_low  fft_high  \n",
       "0    0.000043  0.000518  \n",
       "1    0.000053  0.000485  \n",
       "2    0.000063  0.000519  \n",
       "3    0.000057  0.000557  \n",
       "4    0.000031  0.000403  \n",
       "..        ...       ...  \n",
       "492  0.000066  0.000438  \n",
       "493  0.000071  0.000514  \n",
       "494  0.000067  0.000460  \n",
       "495  0.000054  0.000430  \n",
       "496  0.000073  0.000469  \n",
       "\n",
       "[497 rows x 8 columns]"
      ]
     },
     "execution_count": 3,
     "metadata": {},
     "output_type": "execute_result"
    }
   ],
   "source": [
    "raw_data"
   ]
  },
  {
   "cell_type": "code",
   "execution_count": 4,
   "metadata": {},
   "outputs": [],
   "source": [
    "def free_whisking_preprocessing_pipe()->Pipeline:\n",
    "    \"\"\"Create free whisking pre-processing pipeline\"\"\"\n",
    "    scaler= StandardScaler()\n",
    "    constant_remover = VarianceThreshold(threshold=0.)\n",
    "    # cell_depth_imputer = IterativeImputer(max_iter=10, random_state=0)\n",
    "\n",
    "    scaler.set_output(transform=\"pandas\")\n",
    "    constant_remover.set_output(transform=\"pandas\")\n",
    "    # cell_depth_imputer.set_output(transform=\"pandas\")\n",
    "\n",
    "    return Pipeline(\n",
    "        [\n",
    "            (\"scaling\", scaler),\n",
    "            (\"remove_constants\", constant_remover),\n",
    "            # (\"impute cell depth\", cell_depth_imputer),\n",
    "        ]\n",
    "    )"
   ]
  },
  {
   "cell_type": "code",
   "execution_count": 5,
   "metadata": {},
   "outputs": [],
   "source": [
    "preprocessing_pipe=free_whisking_preprocessing_pipe()\n"
   ]
  },
  {
   "cell_type": "markdown",
   "metadata": {},
   "source": [
    "## PCA"
   ]
  },
  {
   "cell_type": "code",
   "execution_count": 6,
   "metadata": {},
   "outputs": [
    {
     "data": {
      "text/html": [
       "<div>\n",
       "<style scoped>\n",
       "    .dataframe tbody tr th:only-of-type {\n",
       "        vertical-align: middle;\n",
       "    }\n",
       "\n",
       "    .dataframe tbody tr th {\n",
       "        vertical-align: top;\n",
       "    }\n",
       "\n",
       "    .dataframe thead th {\n",
       "        text-align: right;\n",
       "    }\n",
       "</style>\n",
       "<table border=\"1\" class=\"dataframe\">\n",
       "  <thead>\n",
       "    <tr style=\"text-align: right;\">\n",
       "      <th></th>\n",
       "      <th>pca0</th>\n",
       "      <th>pca1</th>\n",
       "      <th>pca2</th>\n",
       "      <th>pca3</th>\n",
       "      <th>pca4</th>\n",
       "      <th>pca5</th>\n",
       "      <th>pca6</th>\n",
       "      <th>cell_type</th>\n",
       "    </tr>\n",
       "  </thead>\n",
       "  <tbody>\n",
       "    <tr>\n",
       "      <th>0</th>\n",
       "      <td>-0.633070</td>\n",
       "      <td>-1.566721</td>\n",
       "      <td>-1.416348</td>\n",
       "      <td>1.878278</td>\n",
       "      <td>-1.109381</td>\n",
       "      <td>-1.014479</td>\n",
       "      <td>0.279458</td>\n",
       "      <td>EXC</td>\n",
       "    </tr>\n",
       "    <tr>\n",
       "      <th>1</th>\n",
       "      <td>-0.989507</td>\n",
       "      <td>-0.169828</td>\n",
       "      <td>-0.782045</td>\n",
       "      <td>0.651289</td>\n",
       "      <td>-0.586602</td>\n",
       "      <td>0.015980</td>\n",
       "      <td>0.053527</td>\n",
       "      <td>EXC</td>\n",
       "    </tr>\n",
       "    <tr>\n",
       "      <th>2</th>\n",
       "      <td>-0.417878</td>\n",
       "      <td>2.758763</td>\n",
       "      <td>-2.568904</td>\n",
       "      <td>1.503917</td>\n",
       "      <td>-0.360573</td>\n",
       "      <td>2.166833</td>\n",
       "      <td>0.161659</td>\n",
       "      <td>EXC</td>\n",
       "    </tr>\n",
       "    <tr>\n",
       "      <th>3</th>\n",
       "      <td>-1.382382</td>\n",
       "      <td>-2.314005</td>\n",
       "      <td>1.455236</td>\n",
       "      <td>2.458732</td>\n",
       "      <td>-1.092710</td>\n",
       "      <td>0.240114</td>\n",
       "      <td>0.018446</td>\n",
       "      <td>EXC</td>\n",
       "    </tr>\n",
       "    <tr>\n",
       "      <th>4</th>\n",
       "      <td>-1.999743</td>\n",
       "      <td>0.281313</td>\n",
       "      <td>-1.982932</td>\n",
       "      <td>1.214432</td>\n",
       "      <td>-0.137824</td>\n",
       "      <td>0.291762</td>\n",
       "      <td>-0.346604</td>\n",
       "      <td>EXC</td>\n",
       "    </tr>\n",
       "    <tr>\n",
       "      <th>...</th>\n",
       "      <td>...</td>\n",
       "      <td>...</td>\n",
       "      <td>...</td>\n",
       "      <td>...</td>\n",
       "      <td>...</td>\n",
       "      <td>...</td>\n",
       "      <td>...</td>\n",
       "      <td>...</td>\n",
       "    </tr>\n",
       "    <tr>\n",
       "      <th>492</th>\n",
       "      <td>-0.697944</td>\n",
       "      <td>0.031012</td>\n",
       "      <td>-0.195480</td>\n",
       "      <td>-1.376564</td>\n",
       "      <td>-0.013467</td>\n",
       "      <td>-0.053578</td>\n",
       "      <td>0.059766</td>\n",
       "      <td>SST</td>\n",
       "    </tr>\n",
       "    <tr>\n",
       "      <th>493</th>\n",
       "      <td>-0.314488</td>\n",
       "      <td>0.131059</td>\n",
       "      <td>-0.019668</td>\n",
       "      <td>-1.257436</td>\n",
       "      <td>-0.124989</td>\n",
       "      <td>-0.005413</td>\n",
       "      <td>-0.000832</td>\n",
       "      <td>SST</td>\n",
       "    </tr>\n",
       "    <tr>\n",
       "      <th>494</th>\n",
       "      <td>-0.522412</td>\n",
       "      <td>0.019880</td>\n",
       "      <td>-0.219525</td>\n",
       "      <td>-1.216644</td>\n",
       "      <td>-0.050933</td>\n",
       "      <td>-0.055270</td>\n",
       "      <td>0.107425</td>\n",
       "      <td>SST</td>\n",
       "    </tr>\n",
       "    <tr>\n",
       "      <th>495</th>\n",
       "      <td>-1.031856</td>\n",
       "      <td>0.170265</td>\n",
       "      <td>-0.238293</td>\n",
       "      <td>-1.292805</td>\n",
       "      <td>0.198116</td>\n",
       "      <td>-0.304880</td>\n",
       "      <td>0.020634</td>\n",
       "      <td>SST</td>\n",
       "    </tr>\n",
       "    <tr>\n",
       "      <th>496</th>\n",
       "      <td>-0.408638</td>\n",
       "      <td>0.063296</td>\n",
       "      <td>-0.106499</td>\n",
       "      <td>-1.355019</td>\n",
       "      <td>-0.128056</td>\n",
       "      <td>0.100597</td>\n",
       "      <td>0.077276</td>\n",
       "      <td>SST</td>\n",
       "    </tr>\n",
       "  </tbody>\n",
       "</table>\n",
       "<p>497 rows × 8 columns</p>\n",
       "</div>"
      ],
      "text/plain": [
       "         pca0      pca1      pca2      pca3      pca4      pca5      pca6  \\\n",
       "0   -0.633070 -1.566721 -1.416348  1.878278 -1.109381 -1.014479  0.279458   \n",
       "1   -0.989507 -0.169828 -0.782045  0.651289 -0.586602  0.015980  0.053527   \n",
       "2   -0.417878  2.758763 -2.568904  1.503917 -0.360573  2.166833  0.161659   \n",
       "3   -1.382382 -2.314005  1.455236  2.458732 -1.092710  0.240114  0.018446   \n",
       "4   -1.999743  0.281313 -1.982932  1.214432 -0.137824  0.291762 -0.346604   \n",
       "..        ...       ...       ...       ...       ...       ...       ...   \n",
       "492 -0.697944  0.031012 -0.195480 -1.376564 -0.013467 -0.053578  0.059766   \n",
       "493 -0.314488  0.131059 -0.019668 -1.257436 -0.124989 -0.005413 -0.000832   \n",
       "494 -0.522412  0.019880 -0.219525 -1.216644 -0.050933 -0.055270  0.107425   \n",
       "495 -1.031856  0.170265 -0.238293 -1.292805  0.198116 -0.304880  0.020634   \n",
       "496 -0.408638  0.063296 -0.106499 -1.355019 -0.128056  0.100597  0.077276   \n",
       "\n",
       "    cell_type  \n",
       "0         EXC  \n",
       "1         EXC  \n",
       "2         EXC  \n",
       "3         EXC  \n",
       "4         EXC  \n",
       "..        ...  \n",
       "492       SST  \n",
       "493       SST  \n",
       "494       SST  \n",
       "495       SST  \n",
       "496       SST  \n",
       "\n",
       "[497 rows x 8 columns]"
      ]
     },
     "execution_count": 6,
     "metadata": {},
     "output_type": "execute_result"
    }
   ],
   "source": [
    "pca = PCA()\n",
    "pca.set_output(transform=\"pandas\")\n",
    "pca_data = pca.fit_transform(preprocessing_pipe.fit_transform(raw_data.drop('cell_type', axis=1)))\n",
    "pca_data['cell_type'] = raw_data['cell_type']\n",
    "pca_data"
   ]
  },
  {
   "cell_type": "code",
   "execution_count": 7,
   "metadata": {},
   "outputs": [
    {
     "data": {
      "text/plain": [
       "<Axes: xlabel='pca0', ylabel='pca1'>"
      ]
     },
     "execution_count": 7,
     "metadata": {},
     "output_type": "execute_result"
    },
    {
     "data": {
      "image/png": "[encoded data removed]",
      "text/plain": [
       "<Figure size 640x480 with 1 Axes>"
      ]
     },
     "metadata": {},
     "output_type": "display_data"
    }
   ],
   "source": [
    "sns.scatterplot(\n",
    "    data=pca_data,\n",
    "    x='pca0',\n",
    "    y='pca1',\n",
    "    hue='cell_type'\n",
    ")"
   ]
  },
  {
   "cell_type": "code",
   "execution_count": 8,
   "metadata": {},
   "outputs": [
    {
     "data": {
      "application/vnd.plotly.v1+json": {
       "config": {
        "plotlyServerURL": "https://plot.ly"
       },
       "data": [
        {
         "hovertemplate": "cell_type=EXC<br>pca0=%{x}<br>pca1=%{y}<br>pca2=%{z}<extra></extra>",
         "legendgroup": "EXC",
         "marker": {
          "color": "#636efa",
          "symbol": "circle"
         },
         "mode": "markers",
         "name": "EXC",
         "scene": "scene",
         "showlegend": true,
         "type": "scatter3d",
         "x": [
          -0.633069610354481,
          -0.9895065759556241,
          -0.41787791334725033,
          -1.3823816548199752,
          -1.9997427397332814,
          -2.0220993066055866,
          1.44982581377474,
          -1.2532510538993569,
          -0.9851503948554867,
          0.20716502509193568,
          -0.5883963471866769,
          -1.2268028333583632,
          -0.24685856758304267,
          -1.4884217757170324,
          -2.5015131437699663,
          -0.3223497271825133,
          -1.8021589093200134,
          -0.006505466177620765,
          -0.23149274487770885,
          -1.1748111669467778,
          -1.019222223927038,
          1.2242553820144675,
          -0.07000304797731272,
          -0.3934612928013519,
          -0.3125654212834946,
          -2.232253600474526,
          -1.302338703564382,
          -1.0469906280871495,
          -0.9072659447879076,
          -0.747953047217386,
          -0.5640974594839979,
          -0.8608705342963425,
          -1.4924850177729099,
          -1.434776172070935,
          -1.0457031243842085,
          -2.797248516119944,
          -1.7824518877266198,
          -1.3240762430401438,
          -0.8789957015324356,
          -0.8724845149437468,
          -1.101401074536647,
          -1.2810318952542883,
          -1.3682833653768043,
          -1.3038419614167898,
          -2.293366155365249,
          -2.193548207789938,
          -2.2927757653477387,
          -2.0396172071128267,
          -2.0529025902983244,
          -0.937810891775889,
          -0.6487537223982296,
          -0.4614283580722741,
          -0.037111593273617974,
          -3.4120386272846392,
          -3.65262352519011,
          -3.328611286352494,
          -3.1744683796341984,
          -0.15223331611835064,
          -1.040446940848043,
          -1.3705171329367694,
          1.1149924522630603,
          0.3511959192775596,
          -1.7839879274010861,
          1.1552083937227051,
          -0.1283377133387563,
          -0.2983708654105583,
          -0.4446091717262101,
          -1.2039507866350307,
          0.2293017883529903,
          0.26438196326181,
          0.3341874301330749,
          -1.7093794642110045,
          -1.6733789903410463,
          -2.142015812965619,
          -1.0702791859732161,
          -0.49448158958759164,
          -1.0139015733321795,
          -1.2033256385871587,
          2.0628289212225024,
          0.26982243726247024,
          0.14709418750396294,
          0.24046276391877772,
          0.008138313064216635,
          -0.25545604703058483,
          -0.4191765093779307,
          -0.8994139303524934,
          0.5837473980403173,
          -0.596742927280151,
          -0.8471985599019476,
          0.35359667650891763,
          -0.9547833310309273,
          -0.6949265996760714,
          -0.3416107382705003,
          0.36191138456659744,
          -0.11351634065805588,
          -2.0160385911026246,
          0.7390470815762259,
          -0.6838960099076763,
          1.480390896630598,
          1.4804843557088632,
          0.7356742333218971,
          -0.3323066821351964,
          1.206997743691223,
          0.36728686181244863,
          -1.1855424218691142,
          -0.1459444620157307,
          1.456498152803712,
          -0.22371091982744726,
          -0.6725381796691989,
          -0.061526483325764436,
          -0.10332002119891656,
          0.306436662648389,
          0.2613207642039812,
          1.4057773880669877,
          1.2749867075983132,
          -0.19697330571009414,
          0.12164900229931833,
          0.21262821530206022,
          0.12026862698614663,
          0.002205009263946133,
          -0.8449152011468106,
          -0.005622409953340761,
          -1.1621454497255213,
          -1.0609293737781635,
          -1.1196994249689702,
          -0.8780122959016828,
          -0.04962189581824042,
          0.7336545559260715,
          0.7293967861201924,
          -0.6931714823583227,
          -0.38770982574366675,
          -1.191257300940556,
          -0.02285106837392017,
          1.167037843035997,
          0.8293881162570059,
          0.717199311529464,
          0.4247034749570242,
          -0.33301076046368155,
          0.15036307142464597,
          -0.9589790615915053,
          -1.1110527483846913,
          0.5240554435351903,
          0.3404897337644465,
          0.19825129656251955,
          0.34631743769288453,
          0.2772685586206912
         ],
         "y": [
          -1.5667214725267276,
          -0.16982773697429637,
          2.758762628090434,
          -2.3140048347341,
          0.2813129904249592,
          0.2204522317608483,
          2.51988116692373,
          1.1634982991816964,
          3.6229334638375805,
          3.3804712120930143,
          3.033474120769677,
          0.77986343468814,
          3.725911903894011,
          1.677568760336233,
          -1.065299860638809,
          2.5010652876745523,
          0.0771534818293506,
          1.0826754902400921,
          1.1083519829556798,
          2.4844985298194926,
          2.7203251523194028,
          1.1109281377900153,
          0.729914710815324,
          0.7836497868566873,
          1.8218669952149578,
          -0.8137244664511312,
          1.8492671638753277,
          1.5443995751193367,
          0.9885636045044421,
          0.9612261810699747,
          0.8998547376087755,
          0.7170119597095925,
          0.16188675550383472,
          0.28777595736988776,
          0.5093742784250712,
          -0.496974655232742,
          2.9750203515861577,
          3.0490301401629814,
          2.755382735266216,
          0.4553167968580307,
          0.4519299461850794,
          0.5192484107016785,
          0.6042907813818678,
          0.5042753420277793,
          -1.6224416447394163,
          -1.6221821092580464,
          -1.7132453890845505,
          -1.5926143324778608,
          -1.6636505482565378,
          0.7348206257857177,
          1.2634528384681418,
          0.9777024588064495,
          2.324296766559078,
          -1.7134887782961072,
          -1.9182186012360112,
          -1.777817966490438,
          -1.9085802573554416,
          1.8269184342384226,
          1.5811593098342955,
          1.3504274198367578,
          2.1482566916679944,
          2.141133225446887,
          1.8580758011984577,
          2.8515861127187088,
          0.493405253512843,
          0.5331793445920434,
          0.3860494632228206,
          0.9637144745354598,
          0.06297473308294586,
          2.846227964161657,
          2.8219488563295543,
          1.1577648102120592,
          1.30998905082391,
          1.1322641999707852,
          0.025114336884519695,
          0.7656252356648393,
          1.4524368627541813,
          1.3435598510795503,
          1.2978228075309692,
          0.8743826014873674,
          1.2303964532425422,
          1.7948870465680649,
          1.6382183084484185,
          0.8305331993596483,
          0.7647933164822728,
          0.2740807244228667,
          1.6758717491518302,
          1.2936632451184888,
          1.1488015310214061,
          1.0064761079449212,
          1.7812474272189796,
          7.33742072697415,
          1.729954429356251,
          0.8380939274623783,
          2.0001495247546455,
          0.09497104452318249,
          1.3764868883485657,
          1.0527709047982756,
          1.329159118487546,
          0.9428072193794137,
          0.8505158771294601,
          0.021648939989532698,
          1.3861408862568139,
          0.5007768702911969,
          1.518882755957962,
          0.965266849688613,
          2.2865008805024805,
          1.685687533876415,
          1.7100375760557003,
          1.5123760351398083,
          2.4707953652399346,
          1.0609450325679022,
          0.8585403747142729,
          1.6692748090954688,
          1.8291401896460673,
          1.4108403761317525,
          1.137516037531847,
          -0.09933711837362195,
          0.04274088258863146,
          0.6234643458341216,
          1.458545532447794,
          0.9572916709985732,
          0.9075839842295685,
          0.5055641675860499,
          0.5087546934789322,
          0.7170263744502852,
          1.5682529771540898,
          0.6280104076437977,
          1.3515594089109875,
          0.03383907438770711,
          0.09877103684419301,
          0.11640599500920051,
          1.1280848874051408,
          1.4646192516725909,
          1.365819676050204,
          0.026177853225661275,
          0.8617031732963722,
          1.466082168625595,
          1.3646977346579976,
          1.1929814594422514,
          0.4839040025619333,
          0.6999173555501212,
          0.4021865112626809,
          1.011321554543895,
          0.5359114182363279,
          1.2453647720295544
         ],
         "z": [
          -1.4163483178821918,
          -0.7820448661090486,
          -2.568903884504511,
          1.455235625035798,
          -1.9829319087804165,
          -2.0360531853265234,
          1.0154475671305536,
          -0.0664848275703276,
          -2.1843556831084734,
          0.5172595605301387,
          -0.45464565848328314,
          0.9825558640977334,
          -0.39310253930609884,
          0.708024777825273,
          2.977008017537688,
          1.3390003835513666,
          4.286789044862857,
          0.47022556532107795,
          0.5144498736436658,
          -1.1234944629141708,
          -1.3228263304504824,
          0.15586629174034888,
          0.10513454167119837,
          0.08544013000744281,
          0.37894403734992965,
          3.2980919739849344,
          -0.5923345695091412,
          0.6925625612044674,
          -0.7886024564095708,
          -0.044089940933248965,
          0.11346907607594962,
          0.17917616108756862,
          -0.7567411762791855,
          -0.7911062584665425,
          -0.7874523078161823,
          3.718074072354584,
          -0.04302191548033045,
          0.107229516235114,
          0.6101397649861543,
          -0.34965815226671104,
          -0.10717329085993808,
          -0.1229274309666656,
          -0.15610848763325,
          -0.10114469151049518,
          2.3525606169479105,
          2.3727778761188465,
          2.2995371248137157,
          2.4269809178631374,
          2.324275896928144,
          -0.07980159746873758,
          -0.17786336350589285,
          -0.20587109390832925,
          -0.6239390544739879,
          2.030217644066059,
          1.802796353004711,
          1.9730269729687733,
          1.7431121458995624,
          -0.4714121210880388,
          -0.9946183425034463,
          -1.3722670443165943,
          0.03454886238833174,
          -0.524734448688686,
          -1.915394725720467,
          -2.5332324308730834,
          -0.6889927628900804,
          -0.7512529958893737,
          -1.0036855836447558,
          -0.9024349932791912,
          -0.1263944458118674,
          -0.7419163741727024,
          1.3276901036950273,
          -1.1176150232967916,
          -0.769537801967457,
          -1.0933790120035998,
          -1.8744032225378269,
          -1.1286799769935427,
          -1.5660185031560556,
          -1.3635486589651524,
          -1.1848730541404104,
          -1.3684858984403712,
          0.9660312103020177,
          1.0148846270750276,
          -0.13737515145252888,
          -0.11358179020169591,
          0.015139392574902181,
          -0.4505298190536962,
          0.7565236783127685,
          0.8613694205072162,
          0.8166792702346591,
          1.062181144421964,
          1.03415615518394,
          -3.5428208699998285,
          0.9201488800114492,
          0.31223656730107063,
          1.6034691140364967,
          -0.1744217094061832,
          0.2987363737324443,
          0.3975292463794563,
          1.9859159225298153,
          0.7117768657373427,
          1.066643859631345,
          -0.5268669746727005,
          1.3870088285050788,
          0.7984989844076066,
          0.44335934402339733,
          0.9647311425108311,
          2.298072821658638,
          1.1951521974383457,
          -0.009537166997400759,
          0.4038555000696433,
          1.5858751636974036,
          1.5601056588641562,
          1.6320381528284684,
          2.456782467730627,
          2.7388876285675923,
          1.043051093696639,
          1.0178873231127754,
          -0.22709863233198432,
          -0.08654391313521102,
          -0.0941440709967201,
          1.424257436037209,
          0.9277660009948652,
          -0.08671454754539551,
          -0.39946366300479985,
          -0.3523167923169832,
          0.02123136895413891,
          2.2408827987348783,
          0.24800634065988136,
          1.6038710646760244,
          0.003937680027654317,
          0.11479210849979575,
          -0.37344232666536836,
          1.2458034333874175,
          0.4787023880467645,
          0.5326475762311746,
          -0.2592939657281913,
          0.7112173932472319,
          1.6454874940624535,
          1.4065048954522148,
          0.8612814064231624,
          0.16181422865658182,
          0.8864669734285592,
          0.7581454351334225,
          0.9247464190738537,
          0.1650103845207578,
          1.6877074669061916
         ]
        },
        {
         "hovertemplate": "cell_type=PV<br>pca0=%{x}<br>pca1=%{y}<br>pca2=%{z}<extra></extra>",
         "legendgroup": "PV",
         "marker": {
          "color": "#EF553B",
          "symbol": "circle"
         },
         "mode": "markers",
         "name": "PV",
         "scene": "scene",
         "showlegend": true,
         "type": "scatter3d",
         "x": [
          -0.45105761530977206,
          2.26200203880895,
          0.46315494685441555,
          0.9522406010729143,
          1.6862988536444055,
          2.080368078594172,
          0.35441196743004966,
          1.830816980344151,
          1.219658141772388,
          1.4578876520930641,
          2.4007382369799073,
          0.9187436436925354,
          0.8630198929545602,
          3.023370137406275,
          1.188447732016895,
          2.2584142753807437,
          2.809154636505473,
          -0.8979327275822288,
          1.5548043507493847,
          1.4244231682025066,
          1.3996952836365706,
          1.8457904014212971,
          1.4373146995742423,
          1.0315438312632121,
          1.176143492812189,
          2.775292769670969,
          3.566457346692016,
          4.068578331369776,
          1.1384053425427174,
          3.8098456006347794,
          5.041072356558441,
          4.036382549339069,
          3.891656733103547,
          3.5790962788185747,
          3.5320623675168283,
          3.2919747670774067,
          3.1614873123466003,
          2.9897137476672553,
          0.847112643489807,
          1.3488623622468026,
          2.083678871085052,
          2.856966661334531,
          2.5181089198438684,
          2.317901759769833,
          2.0880704521741915,
          1.6564433103611107,
          1.7763684213767397,
          4.377017598684968,
          0.6592285524241736,
          1.1006906670225274,
          0.6167407139028493,
          1.1076329655160588,
          0.8716095320925801,
          -1.288166547584757,
          -3.078646928456878,
          1.709406495325126,
          1.730923653169316,
          1.3952965784721538,
          2.0656368790072483,
          1.7791007870516802,
          1.175573108928809,
          1.4999030016641572,
          1.994993850287035,
          2.4234332102512246,
          2.2907565614401997,
          1.953234488324147,
          2.266655541882755,
          1.6102256726656334,
          2.5164451702812434,
          1.5665979819410227,
          2.0404539311786154,
          1.620451989461147,
          1.094853289203591,
          2.0921786261492974,
          2.637745117517664,
          1.5181387049511568,
          2.8301828462309437,
          2.6094736365703755,
          1.8704814604680664,
          1.7834910844156877,
          1.8639050252832274,
          2.086266233934964,
          2.1934524069269816,
          1.6387152136748857,
          1.8895318913408274,
          1.3731204734330837,
          1.8531103870962071,
          2.838080543740938,
          1.7668337433685148,
          2.9083516239420346,
          2.0913164934936868,
          3.3201320760432984,
          1.776851565021426,
          2.9991671984030153,
          1.6780595057732546,
          2.1816986907117424,
          2.0421265988581045,
          2.037214500945629,
          2.503422754378475,
          2.2024779455095875,
          2.208408915621259,
          3.0695005743332895,
          3.154563922010511,
          3.3379015609292773,
          2.4521685020414146,
          1.801995152179631,
          2.6787429226049433,
          0.7942349676206972,
          1.601471663743763,
          2.039183150858726,
          2.4704273375398302,
          2.301954938662546,
          2.900200344623339,
          1.7969747961864468,
          2.800026124735954,
          1.784068808781428,
          3.3786192328366433,
          2.9961857043025715,
          1.7826791097554677,
          0.8623506986157192,
          2.312157150868114
         ],
         "y": [
          -0.36110957745510014,
          -0.17275266386903548,
          -2.2539373634110027,
          -1.4298927354741617,
          -0.49313199846655065,
          -2.9595299034274034,
          -0.7559100441116338,
          -0.5044959153006758,
          -0.7813253805458821,
          -0.7051351426374323,
          -0.4510598382977486,
          -1.4229429698497842,
          -1.5973042011695333,
          -0.48125344291901323,
          -1.8827711719361695,
          -0.6867387926057902,
          -0.3748566382218684,
          -1.0138653866988003,
          0.3633874235425146,
          -0.20833647381089157,
          0.7546204064002908,
          -2.053845680717693,
          -0.5183986475325151,
          -0.5036286363537766,
          -0.8063147178991311,
          -0.5468069241154778,
          0.6511225209651424,
          0.7976073302879965,
          -1.83821202881745,
          -0.4772833571742582,
          0.8330468778391137,
          0.06405004497916421,
          -0.21431895175077798,
          0.3247509781089154,
          0.1402000285132373,
          -0.2730600061489695,
          -0.8506601692809962,
          0.5039353018098471,
          -1.6916657105712252,
          -1.2792730336705704,
          -0.28483702552815304,
          -1.5645137991227844,
          1.0665792288555742,
          -1.6143737460605165,
          -1.9388106370114566,
          0.31324792313289573,
          -0.12007835945454248,
          -4.242375207475206,
          -0.6767403256707539,
          -1.1374753008827454,
          -0.37071822626586465,
          -0.5923839536583869,
          -0.6413428036918132,
          -0.37842016632062353,
          -1.346958052746308,
          -0.6683333783686671,
          -0.8562992087338254,
          -1.2221925228737534,
          -1.0849930058702488,
          -1.3741614562693167,
          -1.037637909177232,
          -0.07652876102044597,
          -0.35917926332783867,
          0.061314603116729274,
          0.17076199100302372,
          -0.8036321542924894,
          -0.889339298502423,
          -1.506544044765085,
          -0.7591586627420436,
          -0.3296584649791318,
          -1.0608216490192839,
          -1.3019987435830875,
          -1.75032618404875,
          -1.3494292451230063,
          -1.4707055001507299,
          -1.981648376336838,
          -1.1790160435918708,
          -1.542623254182214,
          -0.3056660554000402,
          -0.5516307164545543,
          -0.8211844106718647,
          -0.7211830179632464,
          -0.847562616322249,
          -1.3181220593987626,
          -1.5382615625593903,
          -1.7006645031761336,
          -1.5255628694542078,
          -0.9028045274864818,
          -0.5405893283888976,
          -1.910026522081838,
          -1.7139683699831225,
          -1.2393176035326032,
          -0.6238433621202637,
          -0.07510349221550262,
          -0.920498386002419,
          -0.7617169888818861,
          -0.8715921910316544,
          -0.9056752683612189,
          -0.6578579168654431,
          -1.5823555867020023,
          -1.4563368753226424,
          -0.7501035649708784,
          -1.5209448177875509,
          -1.3136161087013392,
          -0.10207160505539178,
          -1.61173414975582,
          -0.4632302253043063,
          -0.8780210927777518,
          -0.9442246559944881,
          -0.9014212154160118,
          -0.8361547778028868,
          -1.0850587245795713,
          -0.8733481516007188,
          -1.295781910336233,
          -1.055434067735357,
          -1.9429600702992351,
          -1.898363354612329,
          -1.8624770993133575,
          -0.7008027596448884,
          -0.47182364918177877,
          -1.0351809848319689
         ],
         "z": [
          -0.6138918586619202,
          0.5357604611403207,
          -1.6305291007619824,
          -0.387456554166332,
          0.31576853904292607,
          -1.6706652655103964,
          -0.5532370993049848,
          -0.6009677060974251,
          -0.8681924914225486,
          -0.8052434078365367,
          0.5095482176273936,
          -0.5079896280086641,
          -0.5204171524924017,
          0.8167428552750584,
          -0.678039096370138,
          0.7644029508463978,
          1.0719291010912735,
          -0.5556409122168933,
          1.6304601857701968,
          0.9861074370046793,
          1.3382295056449045,
          -0.5088187511545677,
          0.7410315297387201,
          0.7342482608626667,
          0.40816737172826384,
          0.5007649082650741,
          1.428094007924154,
          1.788022010008064,
          -0.6145314434565533,
          0.779250374358337,
          2.125870297097862,
          1.3519927946732189,
          1.2020043392099617,
          1.4229865649729507,
          1.4926672133267211,
          0.9030073981423069,
          0.5324863376724447,
          1.6767977993806995,
          -0.7336621003399688,
          -0.3137603577313631,
          0.9271421840984645,
          0.38524501761459745,
          1.8026598856310647,
          -0.5936449192600382,
          -0.8876631499500401,
          1.2946360343133936,
          1.2723770915488555,
          -1.6622402849419455,
          0.4495456912256167,
          0.18668411603515173,
          0.9509623848751982,
          0.7862262047090516,
          0.38927015305220114,
          0.15034731593059608,
          3.0597842676788107,
          0.38937611300426644,
          0.17155609710981193,
          -0.18301443879891166,
          0.003129008987641834,
          -0.3248956935875476,
          -0.39830194674497843,
          0.653884137945243,
          0.438912590421622,
          0.6731813252484241,
          0.9307462544386474,
          -0.02104658509699007,
          -0.12136304798029952,
          -0.6010990127053858,
          0.13743235522861533,
          0.37836951589035434,
          0.08478947551079807,
          -0.15730892842658611,
          -0.6311496265988922,
          -0.1245523985974045,
          -0.20231923369165442,
          -0.7153843218883883,
          0.06811710889864818,
          -0.2699480552175893,
          0.5610077278957272,
          0.34185026898280474,
          0.07658076803056227,
          0.1819464622219664,
          0.05649232433265554,
          -0.37584204643054614,
          -0.5034200947785853,
          -0.6582250617271539,
          -0.5207683858656995,
          0.10311870475419052,
          0.22293250619872348,
          -0.46381792681904865,
          -0.4930066410554024,
          0.09275690765325004,
          0.2413075103176951,
          0.987028928272072,
          0.11397733936007774,
          0.32474451460676945,
          0.13390981107581834,
          0.205371464186131,
          0.41552886058837935,
          -0.3777995835935661,
          -0.2635960266102991,
          0.4688330531919922,
          -0.2380833571067334,
          -0.0002456639791562921,
          0.8841663063558859,
          -0.33560330807602984,
          0.6953444754079201,
          -0.02034579354395878,
          0.0780063113407353,
          0.17209453665845365,
          0.2048104931409025,
          -0.002538776392051935,
          0.23250986746975058,
          -0.33522609097817874,
          -0.021977691886690878,
          -0.9191194386392829,
          -0.5613661511174527,
          -0.6684644279717461,
          0.3945668828221059,
          0.426909828453943,
          0.5052999417389777
         ]
        },
        {
         "hovertemplate": "cell_type=VIP<br>pca0=%{x}<br>pca1=%{y}<br>pca2=%{z}<extra></extra>",
         "legendgroup": "VIP",
         "marker": {
          "color": "#00cc96",
          "symbol": "circle"
         },
         "mode": "markers",
         "name": "VIP",
         "scene": "scene",
         "showlegend": true,
         "type": "scatter3d",
         "x": [
          2.610228928928245,
          0.35921828682928103,
          1.4947378213449323,
          -0.35173289197996027,
          -0.7875811584984154,
          -0.6502385782103912,
          -0.017290329334026598,
          2.255204255744439,
          1.4401475077645394,
          0.7938443063443702,
          0.9635984284973834,
          0.42886217183202063,
          -0.6016624819671791,
          3.603971339920889,
          3.494516468916281,
          1.2149293642542733,
          -0.971937831287622,
          -0.9552228266885101,
          -0.6583493045231161,
          -0.8368004378030984,
          -0.7220321639597331,
          -2.408945753047248,
          -1.3920318511497687,
          -1.2932448576753375,
          -0.9663801918441901,
          -1.0532581291453562,
          -4.640659058667086,
          -2.870094914877895,
          -1.2461390058857114,
          -0.8929441237199859,
          -4.537093023629314,
          -4.231126251518561,
          -4.188275837199498,
          -4.311384538991911,
          -4.071474826645378,
          -4.011984843030363,
          -4.230119331856306,
          -3.953781398628457,
          -4.206575991708309,
          -4.133389417930407,
          -4.1048425558076875,
          -4.078575645874009,
          -4.041568797363847,
          -3.1155947170412492,
          -3.9830480488390156,
          -3.0433560132850306,
          -1.9931562603750612,
          -1.4008352148088077,
          -1.2202788624771979,
          -1.25017316299251,
          -1.9845836286676197,
          -0.41975510928437604,
          0.12264783380364552,
          -0.23360371334719035,
          0.21688604231644326,
          0.43600892645614864,
          0.2454460436300746,
          0.5259619822635433,
          -0.6273593828034069,
          0.04435859347964827,
          0.0516269313990443,
          0.07703487170214857,
          0.2221772455574739,
          0.3145543685825839,
          1.1240889833408076,
          0.6442040492669739,
          0.4736917656146047,
          0.8155748538517167,
          0.5757209731370961,
          -2.7999709859477844,
          1.4518458123167426,
          1.6338124918735955,
          1.7010946248866883,
          1.1074277963075654,
          1.902814252742112,
          1.5725077255109763,
          2.238427477066474
         ],
         "y": [
          0.8411168096324126,
          -0.42168459552316995,
          -0.9327198253881958,
          -0.04788071442155204,
          0.5165629627339395,
          0.3303225602913656,
          -0.5930400333060778,
          -0.08221358988295047,
          0.18178255947413174,
          0.17383439407481943,
          -1.0772976830007086,
          0.2817740090415835,
          -0.26696284732789155,
          -1.0705085197326818,
          -0.9050687131042403,
          -1.2029722174525896,
          0.5898084343526373,
          0.42506403909964735,
          0.5745761007694267,
          0.030915764219302738,
          -0.1389165898670076,
          -0.3159085252317508,
          -0.8333790284365392,
          -0.9388361736721876,
          -0.9611761748303841,
          -0.8170228773669554,
          -1.9663098391629719,
          0.26002901891269076,
          0.31892643860453057,
          -0.09879083227089522,
          -2.308113090265186,
          -2.271971768312169,
          -2.3314791736827574,
          -2.482841506234631,
          -2.3633787099249255,
          -2.3299549791765397,
          -2.381643828611168,
          -2.369045892061134,
          -2.4191598663168485,
          -2.4855979718968495,
          -2.5623153058384203,
          -2.6365815075872683,
          -2.834255556091398,
          -1.241538320781961,
          -2.9243643035179705,
          -1.3504731934261023,
          0.3430333333134802,
          -0.3315665054368851,
          -0.3095081335784038,
          -0.6379812064384957,
          0.3419380526889659,
          0.26952631147181183,
          0.18549689961725976,
          0.9966411864472379,
          1.277625155283713,
          1.3259720489436893,
          1.133899301364777,
          1.2470794166396881,
          0.8812928830326856,
          0.7325752045859092,
          0.8468437686260618,
          0.6992041672517488,
          0.3627678925896299,
          2.701115956583999,
          3.1384063047235724,
          2.8229026846747134,
          2.957997648119352,
          3.1756713826302927,
          3.0860423748950336,
          0.2390441319749138,
          0.40070513188315343,
          -0.0012004662234106045,
          0.0922604904715228,
          0.3774016579125932,
          0.20681820155056593,
          -0.21851847359463142,
          -0.07207503715758012
         ],
         "z": [
          0.05316826181052722,
          -0.8453156239234064,
          -1.3650712987343598,
          -0.26991452535349064,
          0.20201765597557564,
          0.0796813099872082,
          -0.9219979304761685,
          0.24481799302454693,
          0.4856132969243279,
          0.47283975204886314,
          -1.3021676463363607,
          -0.008557863504459164,
          -1.8721429974391761,
          -0.8433780326087845,
          -1.1265833262107492,
          -0.8368947684405181,
          0.06426721988095246,
          -0.23291309450382755,
          -0.2017275992524891,
          -0.5945102592031152,
          -0.7392851488514569,
          -1.6110506845556947,
          -1.6836754784159516,
          -1.729917221691947,
          -1.8385744624055842,
          -1.6803427949248626,
          1.81320402441644,
          -0.18014979419689797,
          -0.1696442147155546,
          -0.6599738962491998,
          1.3458835165825758,
          1.4072568025088554,
          1.348316521145581,
          1.1371537309040958,
          1.2940835709938627,
          1.3341149455295147,
          1.2866683952554214,
          1.2598984299586524,
          1.2152121444539155,
          1.1043486545989118,
          0.9910298486341521,
          0.8655343604948036,
          0.5972292349234152,
          -1.383963656249001,
          0.4538414559899739,
          -1.6066939907550386,
          -0.3732075179144797,
          -1.0338618899616143,
          -0.9988047488129465,
          -1.3137408965592177,
          -0.4789710307795174,
          -0.5487449994013182,
          -0.6828529769719491,
          -0.3293579500610711,
          -0.48559846598218115,
          -0.2938317527188029,
          -0.667776627961872,
          -0.3157812492687871,
          0.025907744289095393,
          0.08553035553213408,
          0.025867326254658523,
          -0.6270218390641257,
          -0.6251203107076373,
          -0.30299929290126976,
          -0.43230834972988796,
          -0.4944020374298203,
          -0.8048776562283468,
          -0.7877414337077334,
          -0.9025608557735005,
          -0.5310838668660955,
          -0.0038503714452894303,
          -0.37697556145252314,
          -0.35091589247708976,
          -0.015076774538680138,
          -0.3029796556649417,
          -1.0738650080176768,
          -1.2450673561692263
         ]
        },
        {
         "hovertemplate": "cell_type=SST<br>pca0=%{x}<br>pca1=%{y}<br>pca2=%{z}<extra></extra>",
         "legendgroup": "SST",
         "marker": {
          "color": "#ab63fa",
          "symbol": "circle"
         },
         "mode": "markers",
         "name": "SST",
         "scene": "scene",
         "showlegend": true,
         "type": "scatter3d",
         "x": [
          -1.6344117508712803,
          -0.9813364675499148,
          -0.2830401341247541,
          -0.6426973291145194,
          0.9752719776448908,
          -1.1872452766710024,
          -1.1290591243859056,
          -1.0581340143744105,
          0.412341431413241,
          -1.1253634680881235,
          -0.6917088792036494,
          -0.9387572476722299,
          -0.5565175494682969,
          -1.4465453263372519,
          -1.711020939484806,
          -0.6777841195854084,
          -0.9291179538154144,
          -1.6426730547180097,
          -1.3860174173294901,
          -1.1976013179783338,
          -0.3912663229872529,
          -1.4340573629894564,
          -0.33228391185947853,
          -0.7022672463103761,
          -0.9238325742142032,
          -1.4036446898687585,
          -0.7324313657558499,
          -0.8567959454676259,
          0.38755948598123524,
          -1.1342005159846855,
          -0.057249004976211375,
          0.3770968242861982,
          -1.9175238851117264,
          -1.1966414748251788,
          -1.2434620943977832,
          -1.1380932309758356,
          0.01938208042667097,
          -1.4298634915116932,
          -1.469499499032725,
          -1.6659739930424,
          0.2433836007362425,
          -1.6293249738579836,
          -0.7508632615671865,
          -1.4141379704651866,
          -0.28268148665281745,
          0.32203159803053416,
          -0.3015777071297479,
          0.49101781205686523,
          0.024793178836363776,
          -0.9708086276887207,
          -1.4194083610685444,
          2.1353103609308324,
          2.1541750922349925,
          -1.2620954017356787,
          -1.1660968070518865,
          -1.3658524224273503,
          -1.4364948502340182,
          -1.2704566674857407,
          0.6758210323214439,
          1.5382638586605297,
          -1.6981819222384034,
          -0.7864692072234176,
          -0.977301351213439,
          -1.0716227131141287,
          -1.479925019403933,
          -1.8291647467668537,
          -1.7214065909884584,
          -0.14532828378581553,
          -0.6177236025879842,
          -0.6266903026906404,
          -1.060845446824711,
          -1.54745869122218,
          -0.9909752049943605,
          -1.029554722599401,
          -0.9006417820625727,
          -0.7846325613600045,
          -0.5444124548678144,
          -1.6490978366963946,
          -4.514384465449814,
          -1.6928541286359247,
          -1.312505639187991,
          -1.6022217231638571,
          -1.1751814729078534,
          -1.4722960033220378,
          -1.4160641906192666,
          -1.4198291970225918,
          -1.1841555484398485,
          -4.368940675844378,
          -0.9724282143675369,
          0.10338578177172862,
          -0.21025267819486926,
          0.2565462450728415,
          -2.020154833107663,
          -1.3525380744524278,
          -1.2582430592467666,
          -0.9431190109490981,
          -0.26854699443490077,
          -0.5760632568024151,
          -0.3596480424721514,
          -0.5149994976326076,
          0.12773163529845957,
          -0.21794001765874857,
          -0.07908816259031738,
          0.1999525526992749,
          0.43525542693160124,
          0.12855702768351424,
          -0.21559876151771473,
          0.4108324070837745,
          -0.9115253047131826,
          -0.9680446570052783,
          -0.8475960312554526,
          -0.6841003051259914,
          -0.7020612606436167,
          0.5910822711216069,
          0.6424251123555667,
          0.6706990870820498,
          0.6221202552727954,
          0.6959456322609807,
          0.7313264563832065,
          0.6326106878628596,
          0.6257906045958502,
          0.9731008423977204,
          0.603743001478854,
          1.291169201013882,
          0.5632050584573396,
          1.0348832938803927,
          -0.9410163553834747,
          -1.088700924836956,
          -0.9969197142141409,
          -0.5740364005122056,
          -0.8177186312350235,
          -0.21578588524578354,
          -0.6152357057699831,
          -0.3531753852077103,
          -0.33718651367361624,
          -0.625676855241696,
          -0.7393722303618975,
          -0.08048595298192428,
          -0.4123284050588819,
          -0.5474286106385562,
          -0.5270918052425537,
          -0.6783401843484694,
          -0.47120065235864494,
          -0.4257296221588125,
          -0.5627135587485412,
          0.001548783811507539,
          -0.649479169552685,
          -0.5046004899979807,
          -0.6979436226998895,
          -0.3144878169623741,
          -0.5224120797038916,
          -1.0318556469272415,
          -0.4086381585891218
         ],
         "y": [
          -0.5358415876334156,
          -0.7357495715940225,
          1.481337388020871,
          -0.3823302152932605,
          -1.451704503296448,
          0.0184637738395254,
          -0.08725210043238263,
          0.4166010378918149,
          0.06260815240064876,
          -0.277160602480289,
          0.2926383494944543,
          -0.4051472887131879,
          -0.3048762815517462,
          -0.2470832477459657,
          -0.1127495750911743,
          0.2046255533730968,
          0.24615376369250266,
          0.13910904842268934,
          0.008926163604150278,
          -0.5792124698194342,
          0.3804027746494969,
          -1.086451879721608,
          -1.226569554233691,
          -0.8864334291873494,
          -0.9260035452667013,
          -0.4684271686374804,
          -0.4544050333796098,
          -0.07809148607720418,
          -0.9888292522750458,
          -0.44475969776284807,
          -0.060863049582515996,
          -0.3893155749890423,
          0.10839199848363172,
          -0.02436468655584412,
          0.008061940578685537,
          -0.6126749471000636,
          -0.7706711679810809,
          -1.384529350426676,
          -0.9138018696143004,
          -0.4575077531427217,
          -0.12471638708333994,
          -1.0569196537855214,
          -0.8285705764748057,
          -0.5431039090129562,
          -1.0729100975806516,
          -0.8860614365972969,
          -0.1321552172407413,
          -0.19830241872043897,
          -0.7557317897515913,
          -1.000295285708287,
          -0.39441110564667065,
          -0.52125993166362,
          0.012101872164522447,
          0.16649333383107465,
          0.38938205903518663,
          -0.25188398499588655,
          -0.3668948278833734,
          -0.37406666691684676,
          -0.667093614359462,
          0.1635358612445858,
          -0.33424982867964503,
          -0.747900718180451,
          -0.29221552522738736,
          -0.6170728010376708,
          -0.18403404756125596,
          0.39251774448380855,
          0.09939341661463376,
          -0.2606990663021247,
          -0.6309191220513095,
          -0.28354757957965465,
          -0.8324982079823477,
          -0.1610959953189135,
          -0.7958244066885624,
          -0.44349514825445174,
          -0.40841459325741863,
          0.10684209055117905,
          -0.03411375234599022,
          -0.6660977905169166,
          -1.8303243281839583,
          0.44663940559519344,
          0.5952841910838376,
          -0.7072211399985967,
          -0.08309038253930881,
          0.029377357649437913,
          0.11904380084879211,
          -0.35481446322911137,
          -0.2937065188301622,
          -1.180653976031981,
          1.2989802157902193,
          0.6205377057339891,
          0.7980895082241298,
          0.7868261888886454,
          0.4985511231871803,
          0.6030116557189461,
          0.6667809677772305,
          -0.22170951485674364,
          -0.125561581826809,
          -0.4725231767887012,
          -0.7459043781039111,
          -0.5918887738366745,
          -0.8543909075281814,
          -0.9184898811843767,
          -1.0521345523806735,
          2.3614725668415475,
          2.4908464087521196,
          2.282753045063298,
          2.127600521289951,
          2.3884326322867317,
          0.1832519576630566,
          0.17547890921752335,
          0.2024784555900812,
          0.2303209635461818,
          0.09774039577833063,
          -0.32586570008829685,
          -0.5642140231666475,
          -0.664971521962391,
          -0.7261051547599243,
          -0.8724745196399839,
          -0.9018338901934765,
          -0.8882171332826052,
          -0.9626415248234108,
          -1.0908141432985443,
          -0.8090828364041867,
          -0.8036976815255079,
          -0.9120793426582181,
          -0.9647775951772688,
          0.30169077656992416,
          0.141496031458475,
          0.22640509572334191,
          0.12159981246580343,
          0.3709893505802722,
          0.22757326604368422,
          0.19123425107897937,
          0.30505425673701353,
          0.27838858652133763,
          0.23920647768424888,
          0.20488963617168357,
          0.21302828824816394,
          0.30811675700190677,
          0.001185499778620404,
          0.1764694156773292,
          0.1273133254514074,
          0.06533743733016656,
          0.13758610450585193,
          0.2307771831536053,
          0.09330837719598359,
          0.16132205247350448,
          0.03216013470346174,
          0.031012170283485085,
          0.13105878006491564,
          0.019880106377755384,
          0.17026510455362184,
          0.0632962356602196
         ],
         "z": [
          -1.6027836205172898,
          -1.5662549082870478,
          -1.0477111356769981,
          -0.4699384356037684,
          -1.1533604130766826,
          -0.32458814647981127,
          -0.5574449695173711,
          -1.281157227303911,
          -1.0421308458053367,
          -1.3701853566203164,
          -1.2833841297776278,
          -1.5231829243654094,
          -1.2243073140876537,
          -0.9146546469333082,
          -0.6748700985822592,
          -0.11581582443462332,
          -0.38280933526027966,
          -0.37625436454603356,
          -0.3370282775252076,
          -1.6068051877046832,
          0.18823819398880973,
          -1.3803385694100476,
          -1.0462023413764119,
          -0.9313751689730201,
          -0.9408385064099682,
          -0.7417518118187658,
          -0.31172425619225,
          -0.06561300062523355,
          -0.6195083259672404,
          -0.6370100027275029,
          0.6312609181906885,
          0.25896486784591566,
          -0.49682025850859823,
          -0.25531059723314603,
          -0.3002758942690604,
          -0.830690440598112,
          -0.30142684599050007,
          -1.4805933754882756,
          -1.1724474655646662,
          -0.48916899818649834,
          0.2877971669856988,
          -1.1435109801522592,
          -0.8778493597388797,
          -0.6951160553823007,
          -1.3147244240088984,
          -0.9519412257228086,
          -0.07416773340771227,
          -0.10318151620239545,
          -0.9104749725931509,
          -0.7995281785886409,
          -1.127194525822004,
          0.7442152579286382,
          1.173588525506846,
          0.04817920395174109,
          0.22279067748480047,
          -0.48845056515076213,
          -0.7931072524235014,
          -0.8079753314454385,
          0.06348136473764218,
          0.9860101443768127,
          -0.36397289375566,
          -0.5123393830880983,
          -0.10369710451411229,
          -0.5858406704687953,
          0.1284505552682181,
          0.659763458888012,
          0.32477494831228193,
          0.17753934345406336,
          -1.0781729704253729,
          -0.403326586823898,
          -0.9116164154720744,
          0.017956671649259275,
          -0.5301299763719518,
          -0.2950514610476444,
          -0.21571584707983094,
          0.7064869113049432,
          0.6036401349954804,
          -0.835090075875385,
          1.9781861096754811,
          -0.07982767178275622,
          -0.016130058374454498,
          -1.4829315477687863,
          -1.0113019319123349,
          -0.9881552764122139,
          -0.7373424066281464,
          -0.8795428829958833,
          -0.8584218076916192,
          3.1093537344257887,
          0.16905053763191336,
          0.9847457368996866,
          1.1438742949742065,
          1.123228618215144,
          0.13333662303345253,
          0.6065306958721769,
          0.42931644742257635,
          -0.3093557802746579,
          -0.1259666131697443,
          -0.5078971872548323,
          -0.7458699783474606,
          -0.6072797122990871,
          -0.7687439892529988,
          -0.9867359416708049,
          -0.9785539214787731,
          0.6823897648356714,
          0.9673455334392035,
          0.6525530435844762,
          0.48931639277493005,
          -0.13317844928173286,
          0.1280615798772507,
          -0.1896343971111509,
          0.09082763228026097,
          0.11029930845043541,
          -0.23473144821308425,
          -0.19349554339575542,
          -0.1887291101050725,
          -0.4429701601648364,
          -0.5438892206739153,
          -0.5929457526645283,
          -0.735925176203962,
          -0.7601882124556185,
          -0.8328441833062296,
          -0.803558994350441,
          -0.6278727997144284,
          -0.5456846163704229,
          -0.7358525659242027,
          -0.758608199144273,
          0.0006378631287120079,
          -0.19717628584048427,
          -0.06562920043983962,
          -0.09192173336694484,
          -0.13750435379083634,
          0.1506470574889339,
          -0.17215046875103618,
          0.055868932962005374,
          0.1294329594560862,
          -0.06083688317034943,
          -0.1498385430005737,
          0.13990490197471164,
          0.12890751007523107,
          -0.19678385181055638,
          -0.04950421983165483,
          -0.17435577038582153,
          -0.12003564891535708,
          -0.07627046177754719,
          -0.04280105776965017,
          0.10126445432041813,
          -0.15186393103570545,
          -0.12563087117202149,
          -0.19547964992751377,
          -0.019667871085525934,
          -0.2195253974400039,
          -0.2382932923605106,
          -0.10649892997007715
         ]
        }
       ],
       "layout": {
        "legend": {
         "title": {
          "text": "cell_type"
         },
         "tracegroupgap": 0
        },
        "margin": {
         "t": 60
        },
        "scene": {
         "domain": {
          "x": [
           0,
           1
          ],
          "y": [
           0,
           1
          ]
         },
         "xaxis": {
          "title": {
           "text": "pca0"
          }
         },
         "yaxis": {
          "title": {
           "text": "pca1"
          }
         },
         "zaxis": {
          "title": {
           "text": "pca2"
          }
         }
        },
        "template": {
         "data": {
          "bar": [
           {
            "error_x": {
             "color": "#2a3f5f"
            },
            "error_y": {
             "color": "#2a3f5f"
            },
            "marker": {
             "line": {
              "color": "#E5ECF6",
              "width": 0.5
             },
             "pattern": {
              "fillmode": "overlay",
              "size": 10,
              "solidity": 0.2
             }
            },
            "type": "bar"
           }
          ],
          "barpolar": [
           {
            "marker": {
             "line": {
              "color": "#E5ECF6",
              "width": 0.5
             },
             "pattern": {
              "fillmode": "overlay",
              "size": 10,
              "solidity": 0.2
             }
            },
            "type": "barpolar"
           }
          ],
          "carpet": [
           {
            "aaxis": {
             "endlinecolor": "#2a3f5f",
             "gridcolor": "white",
             "linecolor": "white",
             "minorgridcolor": "white",
             "startlinecolor": "#2a3f5f"
            },
            "baxis": {
             "endlinecolor": "#2a3f5f",
             "gridcolor": "white",
             "linecolor": "white",
             "minorgridcolor": "white",
             "startlinecolor": "#2a3f5f"
            },
            "type": "carpet"
           }
          ],
          "choropleth": [
           {
            "colorbar": {
             "outlinewidth": 0,
             "ticks": ""
            },
            "type": "choropleth"
           }
          ],
          "contour": [
           {
            "colorbar": {
             "outlinewidth": 0,
             "ticks": ""
            },
            "colorscale": [
             [
              0,
              "#0d0887"
             ],
             [
              0.1111111111111111,
              "#46039f"
             ],
             [
              0.2222222222222222,
              "#7201a8"
             ],
             [
              0.3333333333333333,
              "#9c179e"
             ],
             [
              0.4444444444444444,
              "#bd3786"
             ],
             [
              0.5555555555555556,
              "#d8576b"
             ],
             [
              0.6666666666666666,
              "#ed7953"
             ],
             [
              0.7777777777777778,
              "#fb9f3a"
             ],
             [
              0.8888888888888888,
              "#fdca26"
             ],
             [
              1,
              "#f0f921"
             ]
            ],
            "type": "contour"
           }
          ],
          "contourcarpet": [
           {
            "colorbar": {
             "outlinewidth": 0,
             "ticks": ""
            },
            "type": "contourcarpet"
           }
          ],
          "heatmap": [
           {
            "colorbar": {
             "outlinewidth": 0,
             "ticks": ""
            },
            "colorscale": [
             [
              0,
              "#0d0887"
             ],
             [
              0.1111111111111111,
              "#46039f"
             ],
             [
              0.2222222222222222,
              "#7201a8"
             ],
             [
              0.3333333333333333,
              "#9c179e"
             ],
             [
              0.4444444444444444,
              "#bd3786"
             ],
             [
              0.5555555555555556,
              "#d8576b"
             ],
             [
              0.6666666666666666,
              "#ed7953"
             ],
             [
              0.7777777777777778,
              "#fb9f3a"
             ],
             [
              0.8888888888888888,
              "#fdca26"
             ],
             [
              1,
              "#f0f921"
             ]
            ],
            "type": "heatmap"
           }
          ],
          "heatmapgl": [
           {
            "colorbar": {
             "outlinewidth": 0,
             "ticks": ""
            },
            "colorscale": [
             [
              0,
              "#0d0887"
             ],
             [
              0.1111111111111111,
              "#46039f"
             ],
             [
              0.2222222222222222,
              "#7201a8"
             ],
             [
              0.3333333333333333,
              "#9c179e"
             ],
             [
              0.4444444444444444,
              "#bd3786"
             ],
             [
              0.5555555555555556,
              "#d8576b"
             ],
             [
              0.6666666666666666,
              "#ed7953"
             ],
             [
              0.7777777777777778,
              "#fb9f3a"
             ],
             [
              0.8888888888888888,
              "#fdca26"
             ],
             [
              1,
              "#f0f921"
             ]
            ],
            "type": "heatmapgl"
           }
          ],
          "histogram": [
           {
            "marker": {
             "pattern": {
              "fillmode": "overlay",
              "size": 10,
              "solidity": 0.2
             }
            },
            "type": "histogram"
           }
          ],
          "histogram2d": [
           {
            "colorbar": {
             "outlinewidth": 0,
             "ticks": ""
            },
            "colorscale": [
             [
              0,
              "#0d0887"
             ],
             [
              0.1111111111111111,
              "#46039f"
             ],
             [
              0.2222222222222222,
              "#7201a8"
             ],
             [
              0.3333333333333333,
              "#9c179e"
             ],
             [
              0.4444444444444444,
              "#bd3786"
             ],
             [
              0.5555555555555556,
              "#d8576b"
             ],
             [
              0.6666666666666666,
              "#ed7953"
             ],
             [
              0.7777777777777778,
              "#fb9f3a"
             ],
             [
              0.8888888888888888,
              "#fdca26"
             ],
             [
              1,
              "#f0f921"
             ]
            ],
            "type": "histogram2d"
           }
          ],
          "histogram2dcontour": [
           {
            "colorbar": {
             "outlinewidth": 0,
             "ticks": ""
            },
            "colorscale": [
             [
              0,
              "#0d0887"
             ],
             [
              0.1111111111111111,
              "#46039f"
             ],
             [
              0.2222222222222222,
              "#7201a8"
             ],
             [
              0.3333333333333333,
              "#9c179e"
             ],
             [
              0.4444444444444444,
              "#bd3786"
             ],
             [
              0.5555555555555556,
              "#d8576b"
             ],
             [
              0.6666666666666666,
              "#ed7953"
             ],
             [
              0.7777777777777778,
              "#fb9f3a"
             ],
             [
              0.8888888888888888,
              "#fdca26"
             ],
             [
              1,
              "#f0f921"
             ]
            ],
            "type": "histogram2dcontour"
           }
          ],
          "mesh3d": [
           {
            "colorbar": {
             "outlinewidth": 0,
             "ticks": ""
            },
            "type": "mesh3d"
           }
          ],
          "parcoords": [
           {
            "line": {
             "colorbar": {
              "outlinewidth": 0,
              "ticks": ""
             }
            },
            "type": "parcoords"
           }
          ],
          "pie": [
           {
            "automargin": true,
            "type": "pie"
           }
          ],
          "scatter": [
           {
            "fillpattern": {
             "fillmode": "overlay",
             "size": 10,
             "solidity": 0.2
            },
            "type": "scatter"
           }
          ],
          "scatter3d": [
           {
            "line": {
             "colorbar": {
              "outlinewidth": 0,
              "ticks": ""
             }
            },
            "marker": {
             "colorbar": {
              "outlinewidth": 0,
              "ticks": ""
             }
            },
            "type": "scatter3d"
           }
          ],
          "scattercarpet": [
           {
            "marker": {
             "colorbar": {
              "outlinewidth": 0,
              "ticks": ""
             }
            },
            "type": "scattercarpet"
           }
          ],
          "scattergeo": [
           {
            "marker": {
             "colorbar": {
              "outlinewidth": 0,
              "ticks": ""
             }
            },
            "type": "scattergeo"
           }
          ],
          "scattergl": [
           {
            "marker": {
             "colorbar": {
              "outlinewidth": 0,
              "ticks": ""
             }
            },
            "type": "scattergl"
           }
          ],
          "scattermapbox": [
           {
            "marker": {
             "colorbar": {
              "outlinewidth": 0,
              "ticks": ""
             }
            },
            "type": "scattermapbox"
           }
          ],
          "scatterpolar": [
           {
            "marker": {
             "colorbar": {
              "outlinewidth": 0,
              "ticks": ""
             }
            },
            "type": "scatterpolar"
           }
          ],
          "scatterpolargl": [
           {
            "marker": {
             "colorbar": {
              "outlinewidth": 0,
              "ticks": ""
             }
            },
            "type": "scatterpolargl"
           }
          ],
          "scatterternary": [
           {
            "marker": {
             "colorbar": {
              "outlinewidth": 0,
              "ticks": ""
             }
            },
            "type": "scatterternary"
           }
          ],
          "surface": [
           {
            "colorbar": {
             "outlinewidth": 0,
             "ticks": ""
            },
            "colorscale": [
             [
              0,
              "#0d0887"
             ],
             [
              0.1111111111111111,
              "#46039f"
             ],
             [
              0.2222222222222222,
              "#7201a8"
             ],
             [
              0.3333333333333333,
              "#9c179e"
             ],
             [
              0.4444444444444444,
              "#bd3786"
             ],
             [
              0.5555555555555556,
              "#d8576b"
             ],
             [
              0.6666666666666666,
              "#ed7953"
             ],
             [
              0.7777777777777778,
              "#fb9f3a"
             ],
             [
              0.8888888888888888,
              "#fdca26"
             ],
             [
              1,
              "#f0f921"
             ]
            ],
            "type": "surface"
           }
          ],
          "table": [
           {
            "cells": {
             "fill": {
              "color": "#EBF0F8"
             },
             "line": {
              "color": "white"
             }
            },
            "header": {
             "fill": {
              "color": "#C8D4E3"
             },
             "line": {
              "color": "white"
             }
            },
            "type": "table"
           }
          ]
         },
         "layout": {
          "annotationdefaults": {
           "arrowcolor": "#2a3f5f",
           "arrowhead": 0,
           "arrowwidth": 1
          },
          "autotypenumbers": "strict",
          "coloraxis": {
           "colorbar": {
            "outlinewidth": 0,
            "ticks": ""
           }
          },
          "colorscale": {
           "diverging": [
            [
             0,
             "#8e0152"
            ],
            [
             0.1,
             "#c51b7d"
            ],
            [
             0.2,
             "#de77ae"
            ],
            [
             0.3,
             "#f1b6da"
            ],
            [
             0.4,
             "#fde0ef"
            ],
            [
             0.5,
             "#f7f7f7"
            ],
            [
             0.6,
             "#e6f5d0"
            ],
            [
             0.7,
             "#b8e186"
            ],
            [
             0.8,
             "#7fbc41"
            ],
            [
             0.9,
             "#4d9221"
            ],
            [
             1,
             "#276419"
            ]
           ],
           "sequential": [
            [
             0,
             "#0d0887"
            ],
            [
             0.1111111111111111,
             "#46039f"
            ],
            [
             0.2222222222222222,
             "#7201a8"
            ],
            [
             0.3333333333333333,
             "#9c179e"
            ],
            [
             0.4444444444444444,
             "#bd3786"
            ],
            [
             0.5555555555555556,
             "#d8576b"
            ],
            [
             0.6666666666666666,
             "#ed7953"
            ],
            [
             0.7777777777777778,
             "#fb9f3a"
            ],
            [
             0.8888888888888888,
             "#fdca26"
            ],
            [
             1,
             "#f0f921"
            ]
           ],
           "sequentialminus": [
            [
             0,
             "#0d0887"
            ],
            [
             0.1111111111111111,
             "#46039f"
            ],
            [
             0.2222222222222222,
             "#7201a8"
            ],
            [
             0.3333333333333333,
             "#9c179e"
            ],
            [
             0.4444444444444444,
             "#bd3786"
            ],
            [
             0.5555555555555556,
             "#d8576b"
            ],
            [
             0.6666666666666666,
             "#ed7953"
            ],
            [
             0.7777777777777778,
             "#fb9f3a"
            ],
            [
             0.8888888888888888,
             "#fdca26"
            ],
            [
             1,
             "#f0f921"
            ]
           ]
          },
          "colorway": [
           "#636efa",
           "#EF553B",
           "#00cc96",
           "#ab63fa",
           "#FFA15A",
           "#19d3f3",
           "#FF6692",
           "#B6E880",
           "#FF97FF",
           "#FECB52"
          ],
          "font": {
           "color": "#2a3f5f"
          },
          "geo": {
           "bgcolor": "white",
           "lakecolor": "white",
           "landcolor": "#E5ECF6",
           "showlakes": true,
           "showland": true,
           "subunitcolor": "white"
          },
          "hoverlabel": {
           "align": "left"
          },
          "hovermode": "closest",
          "mapbox": {
           "style": "light"
          },
          "paper_bgcolor": "white",
          "plot_bgcolor": "#E5ECF6",
          "polar": {
           "angularaxis": {
            "gridcolor": "white",
            "linecolor": "white",
            "ticks": ""
           },
           "bgcolor": "#E5ECF6",
           "radialaxis": {
            "gridcolor": "white",
            "linecolor": "white",
            "ticks": ""
           }
          },
          "scene": {
           "xaxis": {
            "backgroundcolor": "#E5ECF6",
            "gridcolor": "white",
            "gridwidth": 2,
            "linecolor": "white",
            "showbackground": true,
            "ticks": "",
            "zerolinecolor": "white"
           },
           "yaxis": {
            "backgroundcolor": "#E5ECF6",
            "gridcolor": "white",
            "gridwidth": 2,
            "linecolor": "white",
            "showbackground": true,
            "ticks": "",
            "zerolinecolor": "white"
           },
           "zaxis": {
            "backgroundcolor": "#E5ECF6",
            "gridcolor": "white",
            "gridwidth": 2,
            "linecolor": "white",
            "showbackground": true,
            "ticks": "",
            "zerolinecolor": "white"
           }
          },
          "shapedefaults": {
           "line": {
            "color": "#2a3f5f"
           }
          },
          "ternary": {
           "aaxis": {
            "gridcolor": "white",
            "linecolor": "white",
            "ticks": ""
           },
           "baxis": {
            "gridcolor": "white",
            "linecolor": "white",
            "ticks": ""
           },
           "bgcolor": "#E5ECF6",
           "caxis": {
            "gridcolor": "white",
            "linecolor": "white",
            "ticks": ""
           }
          },
          "title": {
           "x": 0.05
          },
          "xaxis": {
           "automargin": true,
           "gridcolor": "white",
           "linecolor": "white",
           "ticks": "",
           "title": {
            "standoff": 15
           },
           "zerolinecolor": "white",
           "zerolinewidth": 2
          },
          "yaxis": {
           "automargin": true,
           "gridcolor": "white",
           "linecolor": "white",
           "ticks": "",
           "title": {
            "standoff": 15
           },
           "zerolinecolor": "white",
           "zerolinewidth": 2
          }
         }
        }
       }
      }
     },
     "metadata": {},
     "output_type": "display_data"
    }
   ],
   "source": [
    "import plotly.express as px\n",
    "fig = px.scatter_3d(pca_data, x='pca0', y='pca1', z='pca2',\n",
    "              color='cell_type'\n",
    "              \n",
    "              )\n",
    "fig.show()"
   ]
  },
  {
   "cell_type": "markdown",
   "metadata": {},
   "source": [
    "## TSNE"
   ]
  },
  {
   "cell_type": "code",
   "execution_count": 9,
   "metadata": {},
   "outputs": [
    {
     "data": {
      "text/html": [
       "<div>\n",
       "<style scoped>\n",
       "    .dataframe tbody tr th:only-of-type {\n",
       "        vertical-align: middle;\n",
       "    }\n",
       "\n",
       "    .dataframe tbody tr th {\n",
       "        vertical-align: top;\n",
       "    }\n",
       "\n",
       "    .dataframe thead th {\n",
       "        text-align: right;\n",
       "    }\n",
       "</style>\n",
       "<table border=\"1\" class=\"dataframe\">\n",
       "  <thead>\n",
       "    <tr style=\"text-align: right;\">\n",
       "      <th></th>\n",
       "      <th>tsne0</th>\n",
       "      <th>tsne1</th>\n",
       "      <th>cell_type</th>\n",
       "    </tr>\n",
       "  </thead>\n",
       "  <tbody>\n",
       "    <tr>\n",
       "      <th>0</th>\n",
       "      <td>0.701720</td>\n",
       "      <td>-8.833846</td>\n",
       "      <td>EXC</td>\n",
       "    </tr>\n",
       "    <tr>\n",
       "      <th>1</th>\n",
       "      <td>-1.337833</td>\n",
       "      <td>-6.142178</td>\n",
       "      <td>EXC</td>\n",
       "    </tr>\n",
       "    <tr>\n",
       "      <th>2</th>\n",
       "      <td>-6.423613</td>\n",
       "      <td>16.831316</td>\n",
       "      <td>EXC</td>\n",
       "    </tr>\n",
       "    <tr>\n",
       "      <th>3</th>\n",
       "      <td>-37.315063</td>\n",
       "      <td>-21.459259</td>\n",
       "      <td>EXC</td>\n",
       "    </tr>\n",
       "    <tr>\n",
       "      <th>4</th>\n",
       "      <td>-3.866603</td>\n",
       "      <td>-4.295914</td>\n",
       "      <td>EXC</td>\n",
       "    </tr>\n",
       "    <tr>\n",
       "      <th>...</th>\n",
       "      <td>...</td>\n",
       "      <td>...</td>\n",
       "      <td>...</td>\n",
       "    </tr>\n",
       "    <tr>\n",
       "      <th>492</th>\n",
       "      <td>-17.810923</td>\n",
       "      <td>2.468085</td>\n",
       "      <td>SST</td>\n",
       "    </tr>\n",
       "    <tr>\n",
       "      <th>493</th>\n",
       "      <td>-19.659039</td>\n",
       "      <td>3.818729</td>\n",
       "      <td>SST</td>\n",
       "    </tr>\n",
       "    <tr>\n",
       "      <th>494</th>\n",
       "      <td>-17.922802</td>\n",
       "      <td>3.174651</td>\n",
       "      <td>SST</td>\n",
       "    </tr>\n",
       "    <tr>\n",
       "      <th>495</th>\n",
       "      <td>-18.797022</td>\n",
       "      <td>-1.561457</td>\n",
       "      <td>SST</td>\n",
       "    </tr>\n",
       "    <tr>\n",
       "      <th>496</th>\n",
       "      <td>-18.985231</td>\n",
       "      <td>4.152715</td>\n",
       "      <td>SST</td>\n",
       "    </tr>\n",
       "  </tbody>\n",
       "</table>\n",
       "<p>497 rows × 3 columns</p>\n",
       "</div>"
      ],
      "text/plain": [
       "         tsne0      tsne1 cell_type\n",
       "0     0.701720  -8.833846       EXC\n",
       "1    -1.337833  -6.142178       EXC\n",
       "2    -6.423613  16.831316       EXC\n",
       "3   -37.315063 -21.459259       EXC\n",
       "4    -3.866603  -4.295914       EXC\n",
       "..         ...        ...       ...\n",
       "492 -17.810923   2.468085       SST\n",
       "493 -19.659039   3.818729       SST\n",
       "494 -17.922802   3.174651       SST\n",
       "495 -18.797022  -1.561457       SST\n",
       "496 -18.985231   4.152715       SST\n",
       "\n",
       "[497 rows x 3 columns]"
      ]
     },
     "execution_count": 9,
     "metadata": {},
     "output_type": "execute_result"
    }
   ],
   "source": [
    "from sklearn.manifold import TSNE\n",
    "tsne2D = TSNE(n_components=2)\n",
    "tsne2D.set_output(transform=\"pandas\")\n",
    "tsne2D_data = tsne2D.fit_transform(preprocessing_pipe.fit_transform(raw_data.drop('cell_type', axis=1)))\n",
    "tsne2D_data['cell_type'] = raw_data['cell_type']\n",
    "tsne2D_data"
   ]
  },
  {
   "cell_type": "code",
   "execution_count": 24,
   "metadata": {},
   "outputs": [
    {
     "data": {
      "text/plain": [
       "<Axes: xlabel='tsne0', ylabel='tsne1'>"
      ]
     },
     "execution_count": 24,
     "metadata": {},
     "output_type": "execute_result"
    },
    {
     "data": {
      "image/png": "[encoded data removed]",
      "text/plain": [
       "<Figure size 640x480 with 1 Axes>"
      ]
     },
     "metadata": {},
     "output_type": "display_data"
    }
   ],
   "source": [
    "sns.scatterplot(\n",
    "    data=tsne2D_data,\n",
    "    x='tsne0',\n",
    "    y='tsne1',\n",
    "    hue='cell_type'\n",
    ")"
   ]
  },
  {
   "cell_type": "code",
   "execution_count": 27,
   "metadata": {},
   "outputs": [
    {
     "data": {
      "text/html": [
       "<div>\n",
       "<style scoped>\n",
       "    .dataframe tbody tr th:only-of-type {\n",
       "        vertical-align: middle;\n",
       "    }\n",
       "\n",
       "    .dataframe tbody tr th {\n",
       "        vertical-align: top;\n",
       "    }\n",
       "\n",
       "    .dataframe thead th {\n",
       "        text-align: right;\n",
       "    }\n",
       "</style>\n",
       "<table border=\"1\" class=\"dataframe\">\n",
       "  <thead>\n",
       "    <tr style=\"text-align: right;\">\n",
       "      <th></th>\n",
       "      <th>tsne0</th>\n",
       "      <th>tsne1</th>\n",
       "      <th>tsne2</th>\n",
       "      <th>cell_type</th>\n",
       "    </tr>\n",
       "  </thead>\n",
       "  <tbody>\n",
       "    <tr>\n",
       "      <th>0</th>\n",
       "      <td>-0.715986</td>\n",
       "      <td>-3.943084</td>\n",
       "      <td>-1.298630</td>\n",
       "      <td>EXC</td>\n",
       "    </tr>\n",
       "    <tr>\n",
       "      <th>1</th>\n",
       "      <td>-2.583239</td>\n",
       "      <td>-2.414486</td>\n",
       "      <td>-2.050945</td>\n",
       "      <td>EXC</td>\n",
       "    </tr>\n",
       "    <tr>\n",
       "      <th>2</th>\n",
       "      <td>-1.880317</td>\n",
       "      <td>1.762924</td>\n",
       "      <td>-7.251938</td>\n",
       "      <td>EXC</td>\n",
       "    </tr>\n",
       "    <tr>\n",
       "      <th>3</th>\n",
       "      <td>-15.589977</td>\n",
       "      <td>-4.418333</td>\n",
       "      <td>0.797949</td>\n",
       "      <td>EXC</td>\n",
       "    </tr>\n",
       "    <tr>\n",
       "      <th>4</th>\n",
       "      <td>-4.329190</td>\n",
       "      <td>-3.540961</td>\n",
       "      <td>-3.390049</td>\n",
       "      <td>EXC</td>\n",
       "    </tr>\n",
       "    <tr>\n",
       "      <th>...</th>\n",
       "      <td>...</td>\n",
       "      <td>...</td>\n",
       "      <td>...</td>\n",
       "      <td>...</td>\n",
       "    </tr>\n",
       "    <tr>\n",
       "      <th>492</th>\n",
       "      <td>-3.056383</td>\n",
       "      <td>1.691013</td>\n",
       "      <td>5.114854</td>\n",
       "      <td>SST</td>\n",
       "    </tr>\n",
       "    <tr>\n",
       "      <th>493</th>\n",
       "      <td>-1.877298</td>\n",
       "      <td>2.603233</td>\n",
       "      <td>4.899360</td>\n",
       "      <td>SST</td>\n",
       "    </tr>\n",
       "    <tr>\n",
       "      <th>494</th>\n",
       "      <td>-2.420195</td>\n",
       "      <td>1.690567</td>\n",
       "      <td>4.989435</td>\n",
       "      <td>SST</td>\n",
       "    </tr>\n",
       "    <tr>\n",
       "      <th>495</th>\n",
       "      <td>-4.546826</td>\n",
       "      <td>1.506559</td>\n",
       "      <td>3.808184</td>\n",
       "      <td>SST</td>\n",
       "    </tr>\n",
       "    <tr>\n",
       "      <th>496</th>\n",
       "      <td>-1.989576</td>\n",
       "      <td>2.383080</td>\n",
       "      <td>5.292751</td>\n",
       "      <td>SST</td>\n",
       "    </tr>\n",
       "  </tbody>\n",
       "</table>\n",
       "<p>497 rows × 4 columns</p>\n",
       "</div>"
      ],
      "text/plain": [
       "         tsne0     tsne1     tsne2 cell_type\n",
       "0    -0.715986 -3.943084 -1.298630       EXC\n",
       "1    -2.583239 -2.414486 -2.050945       EXC\n",
       "2    -1.880317  1.762924 -7.251938       EXC\n",
       "3   -15.589977 -4.418333  0.797949       EXC\n",
       "4    -4.329190 -3.540961 -3.390049       EXC\n",
       "..         ...       ...       ...       ...\n",
       "492  -3.056383  1.691013  5.114854       SST\n",
       "493  -1.877298  2.603233  4.899360       SST\n",
       "494  -2.420195  1.690567  4.989435       SST\n",
       "495  -4.546826  1.506559  3.808184       SST\n",
       "496  -1.989576  2.383080  5.292751       SST\n",
       "\n",
       "[497 rows x 4 columns]"
      ]
     },
     "execution_count": 27,
     "metadata": {},
     "output_type": "execute_result"
    }
   ],
   "source": [
    "tsne3D = TSNE(n_components=3)\n",
    "tsne3D.set_output(transform=\"pandas\")\n",
    "tsne3D_data = tsne3D.fit_transform(preprocessing_pipe.fit_transform(raw_data.drop('cell_type', axis=1)))\n",
    "tsne3D_data['cell_type'] = raw_data['cell_type']\n",
    "tsne3D_data"
   ]
  },
  {
   "cell_type": "code",
   "execution_count": 28,
   "metadata": {},
   "outputs": [
    {
     "data": {
      "application/vnd.plotly.v1+json": {
       "config": {
        "plotlyServerURL": "https://plot.ly"
       },
       "data": [
        {
         "hovertemplate": "cell_type=EXC<br>tsne0=%{x}<br>tsne1=%{y}<br>tsne2=%{z}<extra></extra>",
         "legendgroup": "EXC",
         "marker": {
          "color": "#636efa",
          "symbol": "circle"
         },
         "mode": "markers",
         "name": "EXC",
         "scene": "scene",
         "showlegend": true,
         "type": "scatter3d",
         "x": [
          -0.7159862518310547,
          -2.5832388401031494,
          -1.8803167343139648,
          -15.589977264404297,
          -4.329190254211426,
          -4.316074848175049,
          1.9593197107315063,
          -3.0701332092285156,
          -1.9596128463745117,
          0.29457715153694153,
          -1.3814399242401123,
          -1.467380166053772,
          -1.435928463935852,
          -1.646026611328125,
          -16.124391555786133,
          0.22619999945163727,
          -16.585397720336914,
          0.8580157160758972,
          0.73403400182724,
          -2.243474245071411,
          -2.0027172565460205,
          2.4231982231140137,
          -0.38724833726882935,
          -1.5374290943145752,
          -1.0419706106185913,
          -16.290973663330078,
          -3.2050068378448486,
          -1.5098114013671875,
          -3.906952142715454,
          -2.541195869445801,
          -2.3197128772735596,
          -3.6470954418182373,
          -5.635631561279297,
          -5.513805866241455,
          -4.674105644226074,
          -16.417171478271484,
          -1.7867319583892822,
          -1.6928231716156006,
          -1.3123184442520142,
          -4.261831760406494,
          -3.884655475616455,
          -4.211987495422363,
          -4.275819301605225,
          -4.36555814743042,
          -15.783473014831543,
          -15.80109691619873,
          -15.758431434631348,
          -15.832048416137695,
          -15.780899047851562,
          -3.1041769981384277,
          -2.259596109390259,
          -2.137190341949463,
          -0.45341017842292786,
          -15.387965202331543,
          -15.474780082702637,
          -15.435746192932129,
          -15.250935554504395,
          -0.13745836913585663,
          -3.074232578277588,
          -3.4122025966644287,
          1.5647424459457397,
          0.24906450510025024,
          -3.5710437297821045,
          -0.043282072991132736,
          -1.3438113927841187,
          -1.5892928838729858,
          -1.727417230606079,
          -3.3971457481384277,
          -0.04187176376581192,
          -0.4295927584171295,
          0.5793693661689758,
          -4.10964822769165,
          -4.143309116363525,
          -4.3595781326293945,
          -3.5111303329467773,
          -2.037370204925537,
          -3.236630439758301,
          -3.427680730819702,
          3.472175359725952,
          -1.122341275215149,
          1.1847412586212158,
          0.889081597328186,
          -0.1821330189704895,
          -0.9345728754997253,
          -2.2190282344818115,
          -2.983368158340454,
          1.880728840827942,
          -0.6356379389762878,
          -0.9618701338768005,
          1.6650456190109253,
          -1.1122111082077026,
          -1.9809470176696777,
          0.06628739833831787,
          1.1367157697677612,
          0.6491474509239197,
          -6.60577917098999,
          1.7538950443267822,
          -1.633941888809204,
          3.644742488861084,
          3.5998871326446533,
          2.3657073974609375,
          -1.5615806579589844,
          3.3674988746643066,
          1.2443069219589233,
          -1.6189875602722168,
          0.9530622363090515,
          3.5765132904052734,
          0.26315632462501526,
          -1.5934152603149414,
          0.021177146583795547,
          0.46275004744529724,
          1.780696988105774,
          1.5144295692443848,
          3.5924980640411377,
          3.5485575199127197,
          0.5792943239212036,
          1.2922581434249878,
          1.1831516027450562,
          1.039777159690857,
          -0.36053743958473206,
          -0.7775207757949829,
          1.1426098346710205,
          -3.156895875930786,
          -3.520709753036499,
          -3.5557000637054443,
          -2.986393451690674,
          1.2805129289627075,
          1.9110749959945679,
          2.4742846488952637,
          -0.918455183506012,
          -0.606982409954071,
          -3.5050435066223145,
          1.089341402053833,
          2.0068864822387695,
          1.9188871383666992,
          1.50736665725708,
          1.8722859621047974,
          0.6426013112068176,
          1.2861610651016235,
          -1.3319168090820312,
          -3.966453790664673,
          2.081139087677002,
          2.030207395553589,
          1.3593181371688843,
          1.160226583480835,
          1.6981967687606812
         ],
         "y": [
          -3.9430840015411377,
          -2.4144864082336426,
          1.7629237174987793,
          -4.418333053588867,
          -3.5409610271453857,
          -3.5507700443267822,
          1.725646734237671,
          1.8315552473068237,
          1.9806488752365112,
          3.662824869155884,
          2.515778064727783,
          5.856170177459717,
          2.9053328037261963,
          5.028133392333984,
          -3.7015280723571777,
          4.892942905426025,
          -3.1120760440826416,
          3.8196682929992676,
          3.8910417556762695,
          1.652645230293274,
          1.673670768737793,
          0.1566312611103058,
          0.6171426773071289,
          1.368420124053955,
          3.064931631088257,
          -3.4942967891693115,
          1.600506067276001,
          4.899517059326172,
          0.9596603512763977,
          1.9217281341552734,
          1.9939066171646118,
          2.541724920272827,
          0.9105350375175476,
          0.9441095590591431,
          0.9643861055374146,
          -3.321706533432007,
          4.723514556884766,
          4.6795549392700195,
          4.819764614105225,
          1.4063934087753296,
          1.4628334045410156,
          1.7882447242736816,
          1.8688784837722778,
          1.8738245964050293,
          -4.1550092697143555,
          -4.135501861572266,
          -4.190754413604736,
          -4.100317478179932,
          -4.164305210113525,
          1.3753620386123657,
          1.6197636127471924,
          1.3059042692184448,
          1.3449941873550415,
          -4.350859642028809,
          -4.740301132202148,
          -4.521657466888428,
          -4.739620685577393,
          0.9379733204841614,
          0.907812774181366,
          0.7197219729423523,
          1.2366667985916138,
          1.0154664516448975,
          0.8674368858337402,
          0.8865536451339722,
          -1.326711893081665,
          -1.3683980703353882,
          -1.629335641860962,
          0.6037731766700745,
          -0.1551753431558609,
          1.5421335697174072,
          4.207547187805176,
          1.1426780223846436,
          1.3145294189453125,
          1.240106463432312,
          -3.443075180053711,
          -1.4589005708694458,
          0.6209011673927307,
          0.7177879810333252,
          -2.267923593521118,
          -0.9968079328536987,
          4.6697163581848145,
          4.154148101806641,
          1.3454800844192505,
          0.7969565391540527,
          1.6733283996582031,
          -0.7141183614730835,
          1.3457380533218384,
          3.772151470184326,
          3.7286787033081055,
          3.875622510910034,
          5.327998638153076,
          2.4749128818511963,
          4.167382717132568,
          3.511995792388916,
          5.101545810699463,
          0.6039904952049255,
          0.9970566034317017,
          2.6603052616119385,
          4.674370288848877,
          2.6441307067871094,
          3.516951084136963,
          -1.6831414699554443,
          3.231084108352661,
          3.704179286956787,
          5.098287582397461,
          4.3253092765808105,
          4.718890190124512,
          4.100654602050781,
          2.609811305999756,
          2.4134433269500732,
          4.834848403930664,
          4.709866523742676,
          5.702728271484375,
          4.931850433349609,
          5.044102668762207,
          4.300009727478027,
          3.931162118911743,
          -0.46733710169792175,
          -0.3418329656124115,
          0.4069807231426239,
          5.742733955383301,
          3.9943196773529053,
          1.6943837404251099,
          0.6334956288337708,
          0.7325795292854309,
          1.5481008291244507,
          5.948609352111816,
          0.9968797564506531,
          4.283125400543213,
          -0.011978566646575928,
          0.23286040127277374,
          -0.053978100419044495,
          4.4112958908081055,
          1.081699252128601,
          1.0791078805923462,
          -0.39546215534210205,
          1.3028500080108643,
          5.292582035064697,
          4.552047252655029,
          5.496112823486328,
          2.2892982959747314,
          1.413313627243042,
          1.3079408407211304,
          2.702167510986328,
          3.453268051147461,
          5.023097038269043
         ],
         "z": [
          -1.2986302375793457,
          -2.0509445667266846,
          -7.251938343048096,
          0.7979485392570496,
          -3.3900487422943115,
          -3.353900671005249,
          -5.059390544891357,
          -3.66581392288208,
          -7.122048377990723,
          -5.351454257965088,
          -5.951423645019531,
          -1.6339021921157837,
          -6.261204719543457,
          -2.9612646102905273,
          1.7748076915740967,
          -4.010764122009277,
          1.689172625541687,
          -0.25134292244911194,
          -0.39170005917549133,
          -6.077609539031982,
          -6.295766353607178,
          -3.5052225589752197,
          -1.9355919361114502,
          -1.9938809871673584,
          -3.8336832523345947,
          1.7008382081985474,
          -5.2278265953063965,
          -2.818209171295166,
          -3.687377452850342,
          -1.8678233623504639,
          -1.635975956916809,
          -1.5356131792068481,
          -2.368140459060669,
          -2.4286110401153564,
          -2.8212926387786865,
          1.9620490074157715,
          -4.820207118988037,
          -4.8195600509643555,
          -4.466411590576172,
          -2.171816110610962,
          -2.2684154510498047,
          -2.3143959045410156,
          -2.3938066959381104,
          -2.3585007190704346,
          1.4922529458999634,
          1.4292418956756592,
          1.4749258756637573,
          1.3488842248916626,
          1.3206075429916382,
          -2.6865394115448,
          -3.65608286857605,
          -3.301197052001953,
          -6.42089319229126,
          2.3232579231262207,
          2.5029594898223877,
          2.2142441272735596,
          1.9701465368270874,
          -4.871507167816162,
          -5.331631660461426,
          -5.417882919311523,
          -4.805778980255127,
          -5.100656986236572,
          -6.070760726928711,
          -7.71931791305542,
          -3.116743326187134,
          -3.153223991394043,
          -3.184572458267212,
          -4.562746047973633,
          -0.07113125920295715,
          -6.431584358215332,
          -4.602299690246582,
          -5.272540092468262,
          -5.204779624938965,
          -5.3048224449157715,
          -2.699385643005371,
          -3.5105059146881104,
          -5.562652111053467,
          -5.425360202789307,
          -4.075124740600586,
          -4.4852142333984375,
          -1.024696707725525,
          -2.973099946975708,
          -4.448053359985352,
          -1.8160796165466309,
          -0.8659970164299011,
          -2.3988163471221924,
          -4.215376853942871,
          -2.3764231204986572,
          -2.2998249530792236,
          -1.539222240447998,
          -2.6919302940368652,
          -7.313694477081299,
          -3.055907964706421,
          0.5978398323059082,
          -3.2049777507781982,
          2.3053483963012695,
          -3.7743847370147705,
          -1.740402102470398,
          -1.825954556465149,
          -1.5437912940979004,
          -1.4055975675582886,
          -2.6581485271453857,
          -1.8524717092514038,
          0.6075258851051331,
          -2.73496150970459,
          -1.4867784976959229,
          -2.3166229724884033,
          -3.2068932056427,
          -3.9028148651123047,
          -3.8231236934661865,
          -4.042003631591797,
          -1.707395076751709,
          -0.5116257667541504,
          -1.9431254863739014,
          -1.9586321115493774,
          -2.298269510269165,
          -1.6731935739517212,
          0.16966542601585388,
          -0.04618376865983009,
          -1.746239423751831,
          -2.0860846042633057,
          -1.2724601030349731,
          -2.650186061859131,
          -2.5382988452911377,
          -2.516871690750122,
          -2.382864475250244,
          -2.0045006275177,
          -1.4984560012817383,
          -2.003709554672241,
          0.9989013671875,
          1.006737470626831,
          -2.279646158218384,
          -1.9539592266082764,
          -3.9608547687530518,
          -3.8231658935546875,
          -0.5567439794540405,
          -2.8673031330108643,
          -2.486248731613159,
          -2.210340976715088,
          -2.1543781757354736,
          -1.7849915027618408,
          -2.0269627571105957,
          -1.7890433073043823,
          -2.415066957473755,
          0.6879613995552063,
          -1.8432693481445312
         ]
        },
        {
         "hovertemplate": "cell_type=PV<br>tsne0=%{x}<br>tsne1=%{y}<br>tsne2=%{z}<extra></extra>",
         "legendgroup": "PV",
         "marker": {
          "color": "#EF553B",
          "symbol": "circle"
         },
         "mode": "markers",
         "name": "PV",
         "scene": "scene",
         "showlegend": true,
         "type": "scatter3d",
         "x": [
          -1.4169684648513794,
          7.224670886993408,
          3.3677358627319336,
          4.37230920791626,
          5.970378398895264,
          10.478689193725586,
          2.286062240600586,
          5.059484481811523,
          5.017729759216309,
          5.0645246505737305,
          8.423384666442871,
          4.685323715209961,
          5.037710666656494,
          7.225302696228027,
          6.188584327697754,
          6.968136787414551,
          8.013908386230469,
          -2.4662978649139404,
          4.834055423736572,
          4.809100151062012,
          4.259958744049072,
          6.462422847747803,
          5.0691046714782715,
          4.409660339355469,
          4.4701972007751465,
          10.360681533813477,
          9.845808982849121,
          10.103973388671875,
          5.506591320037842,
          10.284750938415527,
          10.392053604125977,
          10.180126190185547,
          10.109911918640137,
          9.814982414245605,
          9.586624145507812,
          9.908352851867676,
          10.27624797821045,
          9.202984809875488,
          5.249545574188232,
          4.911219596862793,
          6.741602420806885,
          6.543860912322998,
          8.493518829345703,
          7.978076934814453,
          7.759692668914795,
          5.0124125480651855,
          5.331128120422363,
          10.562840461730957,
          3.9242513179779053,
          4.494424343109131,
          3.8093905448913574,
          4.33046293258667,
          4.027292728424072,
          -5.310647010803223,
          -16.165081024169922,
          5.9437737464904785,
          6.009321689605713,
          6.158957004547119,
          6.734395503997803,
          7.48284912109375,
          3.844914436340332,
          5.301087379455566,
          6.204690933227539,
          6.896446704864502,
          8.400224685668945,
          7.576399326324463,
          8.423409461975098,
          7.761908531188965,
          8.812726020812988,
          5.54997444152832,
          7.074190139770508,
          6.34996223449707,
          5.525774955749512,
          7.475028991699219,
          9.06346321105957,
          6.037145614624023,
          9.369190216064453,
          9.198861122131348,
          6.524402141571045,
          6.6803297996521,
          7.214624881744385,
          7.855450630187988,
          8.291016578674316,
          7.7741241455078125,
          8.237744331359863,
          7.66968297958374,
          8.223194122314453,
          10.031606674194336,
          6.8882269859313965,
          10.413949012756348,
          8.98902702331543,
          10.577240943908691,
          6.470613956451416,
          9.460014343261719,
          6.409670829772949,
          7.799890995025635,
          7.784143924713135,
          7.590857982635498,
          8.583518981933594,
          9.213479042053223,
          8.924023628234863,
          9.955129623413086,
          10.498679161071777,
          10.546995162963867,
          9.16140365600586,
          8.459748268127441,
          9.531460762023926,
          3.632455348968506,
          6.067513942718506,
          7.149293899536133,
          8.363931655883789,
          8.318358421325684,
          9.504261016845703,
          7.634819030761719,
          9.808716773986816,
          8.44753360748291,
          10.587052345275879,
          10.517095565795898,
          6.528469085693359,
          3.6298956871032715,
          7.587896347045898
         ],
         "y": [
          -1.7678356170654297,
          1.7288862466812134,
          -4.425415515899658,
          -1.8418902158737183,
          0.9009703993797302,
          -3.231109619140625,
          -1.4401029348373413,
          -3.5488038063049316,
          -3.3817665576934814,
          -3.406355619430542,
          0.943985104560852,
          -1.5934721231460571,
          -2.0152525901794434,
          1.266923189163208,
          -2.7159223556518555,
          1.983015775680542,
          2.3285412788391113,
          -2.5820391178131104,
          2.91831374168396,
          1.992385745048523,
          3.018533945083618,
          -2.672018051147461,
          1.350372076034546,
          1.362963080406189,
          0.9281125068664551,
          0.0019360206788405776,
          2.405968427658081,
          2.435455799102783,
          -2.411914348602295,
          1.5056054592132568,
          2.4191205501556396,
          1.947528600692749,
          1.891221284866333,
          2.142425298690796,
          2.2469255924224854,
          1.4676969051361084,
          -0.0968673899769783,
          2.5553810596466064,
          -2.9091086387634277,
          -2.8442862033843994,
          1.486971139907837,
          -1.8901689052581787,
          2.9080028533935547,
          -1.053876519203186,
          -1.2094439268112183,
          2.7740073204040527,
          2.349961757659912,
          -3.4616050720214844,
          0.2952023446559906,
          -0.3637201189994812,
          1.035750150680542,
          1.2946958541870117,
          0.7097206711769104,
          0.2546551823616028,
          -3.6606085300445557,
          0.6244785189628601,
          -0.41912075877189636,
          -1.7329314947128296,
          -1.5272060632705688,
          -3.0061802864074707,
          -1.888443946838379,
          1.7525415420532227,
          1.456673264503479,
          1.7136551141738892,
          2.2155323028564453,
          -0.142818883061409,
          -0.6885481476783752,
          -2.7321388721466064,
          0.125735804438591,
          1.1938685178756714,
          -0.025024542585015297,
          -0.8521402478218079,
          -2.4820775985717773,
          -0.5379480719566345,
          -0.6303157806396484,
          -2.5928092002868652,
          -0.2516001760959625,
          -0.7575333714485168,
          1.005203127861023,
          0.1323769986629486,
          -0.7752878665924072,
          -0.6487724781036377,
          -0.8443368673324585,
          -2.8254551887512207,
          -3.0863633155822754,
          -3.252333879470825,
          -3.152599573135376,
          -0.863271176815033,
          0.09310665726661682,
          -2.317051649093628,
          -2.558154344558716,
          -1.3123700618743896,
          0.5957898497581482,
          1.815397024154663,
          0.15416187047958374,
          0.5604184865951538,
          0.1112508699297905,
          0.3252186179161072,
          0.8721938133239746,
          -2.329440116882324,
          -2.167537212371826,
          0.2944115102291107,
          -1.9056696891784668,
          -1.6048948764801025,
          1.824857234954834,
          -2.814317464828491,
          1.351777195930481,
          -0.5646806955337524,
          -0.18082740902900696,
          0.04593272507190704,
          0.08917725831270218,
          -0.4795594811439514,
          -0.10715039819478989,
          -2.0658843517303467,
          -0.9548692107200623,
          -3.4315054416656494,
          -2.3351519107818604,
          -2.4264469146728516,
          1.0789669752120972,
          1.1728899478912354,
          1.6414873600006104
         ],
         "z": [
          2.643141508102417,
          0.42253798246383667,
          0.37305721640586853,
          3.2760262489318848,
          1.1652776002883911,
          0.37129780650138855,
          2.6352992057800293,
          -0.545926570892334,
          0.5655514597892761,
          0.4235152304172516,
          0.32096412777900696,
          3.6101763248443604,
          3.270170211791992,
          -0.7571702599525452,
          2.6851119995117188,
          1.3045023679733276,
          0.4127064347267151,
          3.31046986579895,
          -0.5010366439819336,
          0.93623948097229,
          -1.0931895971298218,
          2.7373855113983154,
          1.3814702033996582,
          1.5329123735427856,
          1.4672130346298218,
          -0.21012485027313232,
          -1.8465943336486816,
          -2.0518362522125244,
          3.1604647636413574,
          -1.3676930665969849,
          -2.231311321258545,
          -1.6953341960906982,
          -1.5845154523849487,
          -1.5689226388931274,
          -1.5168955326080322,
          -0.9142676591873169,
          -0.135313481092453,
          -1.5869859457015991,
          2.5506904125213623,
          1.1738171577453613,
          -0.19711938500404358,
          0.38039064407348633,
          -1.6623125076293945,
          3.6676547527313232,
          3.78354811668396,
          -0.6652319431304932,
          0.14085353910923004,
          0.3460351228713989,
          3.2348597049713135,
          3.3262219429016113,
          2.9017322063446045,
          2.0848944187164307,
          1.729164481163025,
          4.476847171783447,
          2.4513986110687256,
          1.1671760082244873,
          1.454689860343933,
          1.9317398071289062,
          1.0104281902313232,
          1.5001635551452637,
          2.4388427734375,
          0.8184511661529541,
          0.8410234451293945,
          -0.16923582553863525,
          -0.5846086740493774,
          1.186794638633728,
          0.8552200198173523,
          1.5143616199493408,
          0.7994786500930786,
          1.0930020809173584,
          2.0805068016052246,
          2.483316659927368,
          2.9671518802642822,
          2.369258165359497,
          2.1665515899658203,
          2.9754414558410645,
          1.6954690217971802,
          2.107360601425171,
          0.16801322996616364,
          0.28607508540153503,
          0.5404013395309448,
          0.2597213089466095,
          0.5017748475074768,
          1.4341202974319458,
          1.3630223274230957,
          1.7273494005203247,
          1.3715174198150635,
          0.2421576827764511,
          0.4408830404281616,
          0.3331208825111389,
          1.1291561126708984,
          0.0401780940592289,
          1.2489770650863647,
          -0.7648195624351501,
          1.7297470569610596,
          1.1669820547103882,
          1.3071279525756836,
          1.5134087800979614,
          0.7861205339431763,
          1.0103811025619507,
          1.1146306991577148,
          -0.019032534211874008,
          0.2178070843219757,
          0.12695232033729553,
          -0.3928908705711365,
          1.2654623985290527,
          -0.2532315254211426,
          2.642014503479004,
          1.6002432107925415,
          1.5074785947799683,
          1.0028644800186157,
          1.3083949089050293,
          0.6454868316650391,
          1.4761111736297607,
          0.45773646235466003,
          1.393950343132019,
          0.2376726120710373,
          0.28590714931488037,
          2.394646644592285,
          1.592853307723999,
          1.9309699535369873
         ]
        },
        {
         "hovertemplate": "cell_type=VIP<br>tsne0=%{x}<br>tsne1=%{y}<br>tsne2=%{z}<extra></extra>",
         "legendgroup": "VIP",
         "marker": {
          "color": "#00cc96",
          "symbol": "circle"
         },
         "mode": "markers",
         "name": "VIP",
         "scene": "scene",
         "showlegend": true,
         "type": "scatter3d",
         "x": [
          9.730466842651367,
          0.36273252964019775,
          4.650505542755127,
          -1.430292010307312,
          -3.0154902935028076,
          -2.6152336597442627,
          1.0824012756347656,
          9.80611801147461,
          2.045426607131958,
          1.7689363956451416,
          3.371500253677368,
          0.5561222434043884,
          -2.358090400695801,
          4.993817329406738,
          4.985076904296875,
          3.8385889530181885,
          -3.5109219551086426,
          -3.757291555404663,
          -3.098231792449951,
          -3.3662452697753906,
          -3.2532436847686768,
          -5.260297775268555,
          -3.6425578594207764,
          -3.5475220680236816,
          -3.3093321323394775,
          -3.3767764568328857,
          -15.34920597076416,
          -7.408079624176025,
          -4.473169326782227,
          -3.512838840484619,
          -15.003030776977539,
          -15.345078468322754,
          -15.318792343139648,
          -14.84870719909668,
          -15.24817180633545,
          -14.707939147949219,
          -14.716736793518066,
          -14.74583625793457,
          -14.628105163574219,
          -15.0535306930542,
          -14.475634574890137,
          -14.71715259552002,
          -14.443309783935547,
          -5.816926956176758,
          -14.37524700164795,
          -5.813134670257568,
          -6.6197638511657715,
          -4.5104546546936035,
          -4.321837425231934,
          -4.118995189666748,
          -6.591183185577393,
          -1.9880858659744263,
          -1.068981409072876,
          -0.4740840792655945,
          0.179391548037529,
          0.5603795051574707,
          0.12869839370250702,
          0.6168955564498901,
          -1.0014725923538208,
          -0.016388865187764168,
          -0.0603707991540432,
          -0.15969662368297577,
          -0.09304392337799072,
          0.24705122411251068,
          0.6290616989135742,
          0.5110410451889038,
          0.40246304869651794,
          0.509962260723114,
          0.44812917709350586,
          -7.415591239929199,
          3.323402166366577,
          3.588618516921997,
          3.603679656982422,
          2.875363826751709,
          3.6579349040985107,
          3.7892229557037354,
          4.175886631011963
         ],
         "y": [
          2.2374746799468994,
          -2.192247152328491,
          -3.7709412574768066,
          -0.46819978952407837,
          1.2230539321899414,
          0.8643800020217896,
          -3.054694175720215,
          1.6335567235946655,
          -0.6950029730796814,
          -0.7297166585922241,
          -3.750955104827881,
          -0.09022476524114609,
          -3.949230909347534,
          -2.4422690868377686,
          -2.4445724487304688,
          -3.5490989685058594,
          1.3466378450393677,
          1.1060634851455688,
          1.3288369178771973,
          -0.47797060012817383,
          -0.7470865845680237,
          -4.385272026062012,
          -4.6146955490112305,
          -4.669050216674805,
          -4.6819376945495605,
          -4.522546768188477,
          -4.500161170959473,
          0.40305468440055847,
          1.050308108329773,
          -1.012800693511963,
          -4.9198689460754395,
          -5.0870280265808105,
          -5.185855865478516,
          -5.216989517211914,
          -5.30429220199585,
          -4.70409631729126,
          -4.720111846923828,
          -4.9971699714660645,
          -4.805663108825684,
          -5.462551593780518,
          -5.1169538497924805,
          -5.517339706420898,
          -5.569025993347168,
          -4.806861400604248,
          -5.632491588592529,
          -4.818635940551758,
          0.5465734601020813,
          -2.680898666381836,
          -2.5623090267181396,
          -3.168911933898926,
          0.3943461775779724,
          0.18027938902378082,
          -0.31396976113319397,
          0.3348117172718048,
          0.26647213101387024,
          0.36740589141845703,
          0.021883100271224976,
          0.3166252374649048,
          1.1496931314468384,
          0.26068851351737976,
          0.2965896725654602,
          -0.6719731688499451,
          -1.0338304042816162,
          1.346156358718872,
          1.0785090923309326,
          1.1521083116531372,
          1.123116374015808,
          1.057733178138733,
          1.0685197114944458,
          0.3173135221004486,
          -1.1838696002960205,
          -1.553241491317749,
          -1.5496253967285156,
          -0.7346275448799133,
          -1.5832345485687256,
          -2.027998924255371,
          -2.1653454303741455
         ],
         "z": [
          0.47212836146354675,
          -1.6441702842712402,
          -0.3127385973930359,
          0.39417412877082825,
          0.23700259625911713,
          0.11008579283952713,
          0.7603537440299988,
          0.27373674511909485,
          -2.3040480613708496,
          -2.304037094116211,
          0.0038074159529060125,
          -1.417696475982666,
          -2.1657450199127197,
          -3.282654047012329,
          -3.28324818611145,
          0.4699896275997162,
          0.47695064544677734,
          0.8148411512374878,
          0.1994314193725586,
          3.2872118949890137,
          3.3333613872528076,
          0.5609549880027771,
          -0.8575900197029114,
          -0.9441850781440735,
          -1.2639895677566528,
          -1.2020041942596436,
          3.416456699371338,
          2.141416072845459,
          1.0901201963424683,
          2.487344264984131,
          3.439901113510132,
          3.10654878616333,
          3.0528454780578613,
          3.307292938232422,
          2.770928382873535,
          2.734198570251465,
          3.1023850440979004,
          2.512730360031128,
          3.05187726020813,
          2.8305697441101074,
          2.774874210357666,
          2.6865735054016113,
          2.869946241378784,
          0.4826478064060211,
          2.808166980743408,
          0.46499863266944885,
          2.0435285568237305,
          2.4023241996765137,
          2.6230461597442627,
          2.965790033340454,
          1.9894194602966309,
          -0.05373407155275345,
          -0.5954132676124573,
          -3.034299612045288,
          -4.162196636199951,
          -4.161886692047119,
          -4.1493353843688965,
          -4.077426910400391,
          -2.3123533725738525,
          -2.658491611480713,
          -2.7116682529449463,
          -3.0577332973480225,
          -2.7791390419006348,
          -6.495342254638672,
          -7.118028163909912,
          -6.933274745941162,
          -7.0550923347473145,
          -7.197113990783691,
          -7.183835029602051,
          2.123741388320923,
          -3.1892004013061523,
          -3.199225425720215,
          -3.213188648223877,
          -3.0564916133880615,
          -3.2275516986846924,
          -3.2620701789855957,
          -3.356163263320923
         ]
        },
        {
         "hovertemplate": "cell_type=SST<br>tsne0=%{x}<br>tsne1=%{y}<br>tsne2=%{z}<extra></extra>",
         "legendgroup": "SST",
         "marker": {
          "color": "#ab63fa",
          "symbol": "circle"
         },
         "mode": "markers",
         "name": "SST",
         "scene": "scene",
         "showlegend": true,
         "type": "scatter3d",
         "x": [
          -4.660857677459717,
          -3.6030004024505615,
          -1.3325997591018677,
          -1.576843500137329,
          3.5846805572509766,
          -4.332821846008301,
          -3.7797014713287354,
          -2.9502618312835693,
          0.02990223467350006,
          -3.146000623703003,
          -2.838475465774536,
          -3.000019073486328,
          -2.6682441234588623,
          -4.6270365715026855,
          -5.144911289215088,
          -2.7948501110076904,
          -3.6060283184051514,
          -5.427820682525635,
          -4.859072208404541,
          -3.377871036529541,
          -0.6850639581680298,
          -3.7102952003479004,
          -2.6661531925201416,
          -3.5442988872528076,
          -3.6104211807250977,
          -4.458830833435059,
          -1.9901304244995117,
          -2.574293851852417,
          2.3955116271972656,
          -3.8073201179504395,
          0.7805788516998291,
          2.541590452194214,
          -5.840060710906982,
          -4.55610466003418,
          -4.586071491241455,
          -2.940885066986084,
          2.0646262168884277,
          -3.613689661026001,
          -4.144157409667969,
          -5.2753167152404785,
          -1.0062148571014404,
          -4.623706817626953,
          -2.751420259475708,
          -4.056255340576172,
          -0.5656467080116272,
          1.6737347841262817,
          -1.6521732807159424,
          1.1340547800064087,
          -0.3406427800655365,
          -2.142028570175171,
          -4.718969345092773,
          7.138988494873047,
          7.856987953186035,
          -5.5285139083862305,
          -5.639210224151611,
          -5.099996566772461,
          -4.520944118499756,
          -4.158547878265381,
          3.04893159866333,
          4.857613563537598,
          -5.395761966705322,
          -2.5022807121276855,
          -4.217781066894531,
          -3.566392660140991,
          -5.944960117340088,
          -6.563820838928223,
          -6.354959487915039,
          0.38310161232948303,
          -2.8975582122802734,
          -2.270451307296753,
          -3.422158718109131,
          -5.839411735534668,
          -2.919692277908325,
          -4.298268795013428,
          -4.158674240112305,
          -1.8600167036056519,
          -1.8033316135406494,
          -4.705896854400635,
          -15.453725814819336,
          -6.111703395843506,
          -5.424842834472656,
          -4.758445739746094,
          -4.52712345123291,
          -4.96848201751709,
          -5.016104698181152,
          -4.729158401489258,
          -4.4218010902404785,
          -16.038862228393555,
          -1.7165285348892212,
          1.2282949686050415,
          1.1582777500152588,
          1.2981334924697876,
          -6.753341197967529,
          -6.048887252807617,
          -5.934556007385254,
          -1.7147462368011475,
          -0.22012817859649658,
          -0.6221773624420166,
          0.31370851397514343,
          -0.12348923832178116,
          1.269351840019226,
          0.8247658610343933,
          1.0013564825057983,
          0.42983055114746094,
          0.6339973211288452,
          0.3972730040550232,
          -0.04640675708651543,
          0.03185805678367615,
          -3.3674981594085693,
          -3.8690924644470215,
          -3.2204630374908447,
          -2.7912447452545166,
          -2.8283064365386963,
          2.608792781829834,
          3.304102659225464,
          2.7720699310302734,
          2.5873239040374756,
          2.897798538208008,
          2.7397711277008057,
          2.530038356781006,
          2.511610984802246,
          3.1715238094329834,
          2.5756232738494873,
          3.418034553527832,
          2.4426839351654053,
          3.1872408390045166,
          -4.034668922424316,
          -4.2940874099731445,
          -4.0521159172058105,
          -2.5345256328582764,
          -3.9698524475097656,
          -1.583526611328125,
          -2.9903759956359863,
          -2.571056842803955,
          -2.03281307220459,
          -3.18703556060791,
          -3.5400443077087402,
          -1.3358153104782104,
          -2.160580635070801,
          -2.7802722454071045,
          -2.881340980529785,
          -3.5552327632904053,
          -2.2857766151428223,
          -2.3238446712493896,
          -2.9180328845977783,
          -1.1239218711853027,
          -3.8049569129943848,
          -2.5040714740753174,
          -3.0563831329345703,
          -1.877298355102539,
          -2.4201951026916504,
          -4.546826362609863,
          -1.9895764589309692
         ],
         "y": [
          -4.196684837341309,
          -3.959045886993408,
          0.10714688152074814,
          -1.4642757177352905,
          -3.92464280128479,
          0.20841369032859802,
          -0.8599421381950378,
          -2.372852087020874,
          -1.844716191291809,
          -3.5520260334014893,
          -2.4194717407226562,
          -3.7136354446411133,
          -3.095717191696167,
          -2.460094928741455,
          -1.8485956192016602,
          1.734163761138916,
          0.7625163793563843,
          0.13468599319458008,
          0.10100321471691132,
          -3.996500253677368,
          0.9745830297470093,
          -4.718621730804443,
          -3.044429302215576,
          -2.588031530380249,
          -2.589094400405884,
          -2.471238374710083,
          -1.6871438026428223,
          0.6134011149406433,
          -2.1749024391174316,
          -2.3800723552703857,
          0.8022075295448303,
          -0.019107304513454437,
          -1.0628703832626343,
          -0.5251075029373169,
          -0.42943182587623596,
          -2.713224172592163,
          -1.0557276010513306,
          -4.95717191696167,
          -3.911703586578369,
          -1.8289817571640015,
          3.198392152786255,
          -3.7586193084716797,
          -3.13689923286438,
          -2.720822334289551,
          -3.6220109462738037,
          -3.1865293979644775,
          -0.6996933817863464,
          -1.2007259130477905,
          -3.3817291259765625,
          -2.9414703845977783,
          -3.0058646202087402,
          0.6064771413803101,
          2.1220030784606934,
          1.747399926185608,
          2.1598241329193115,
          -0.15497484803199768,
          -2.5108611583709717,
          -2.573695182800293,
          -0.46193039417266846,
          2.584057331085205,
          -1.5608400106430054,
          -2.2647311687469482,
          0.05518900975584984,
          -2.2611045837402344,
          0.41444340348243713,
          1.850692868232727,
          1.4094573259353638,
          0.34188929200172424,
          -3.132658004760742,
          -1.340530276298523,
          -3.04659366607666,
          1.1552003622055054,
          -2.3833768367767334,
          -0.2689836323261261,
          -0.1746942400932312,
          4.3135480880737305,
          4.209141254425049,
          -2.9983835220336914,
          -4.404046058654785,
          0.9827233552932739,
          1.5900936126708984,
          -3.681795835494995,
          -2.337254047393799,
          -2.087890863418579,
          -1.641556978225708,
          -2.5626237392425537,
          -2.396228551864624,
          -3.757652997970581,
          5.993834018707275,
          5.411627292633057,
          5.677760601043701,
          5.442293167114258,
          1.1835501194000244,
          2.301891326904297,
          2.293583393096924,
          -1.2107338905334473,
          -0.29075419902801514,
          -2.0419082641601562,
          -2.646071672439575,
          -2.4078919887542725,
          -2.9077963829040527,
          -2.983459234237671,
          -3.0391316413879395,
          3.3186793327331543,
          3.4977192878723145,
          3.2606256008148193,
          3.1528611183166504,
          1.5165737867355347,
          2.3745505809783936,
          0.6881610751152039,
          1.925743579864502,
          1.8985023498535156,
          0.9233415126800537,
          -0.7866715788841248,
          -0.5578416585922241,
          -1.5686722993850708,
          -2.2236826419830322,
          -2.1513431072235107,
          -2.751981735229492,
          -2.79044508934021,
          -2.957899808883667,
          -2.8772575855255127,
          -2.457308530807495,
          -2.9395053386688232,
          -2.648287773132324,
          -2.996070384979248,
          1.870226502418518,
          1.0102652311325073,
          1.7030415534973145,
          1.9176217317581177,
          2.1613526344299316,
          3.0123937129974365,
          1.9689931869506836,
          3.1035077571868896,
          3.2243685722351074,
          2.5283656120300293,
          2.137836456298828,
          3.1482222080230713,
          3.341520071029663,
          1.9529259204864502,
          2.5306344032287598,
          1.857741355895996,
          2.2464802265167236,
          2.3783605098724365,
          2.6429576873779297,
          3.116586685180664,
          2.034372329711914,
          2.159165143966675,
          1.6910127401351929,
          2.6032330989837646,
          1.6905672550201416,
          1.506559133529663,
          2.383080244064331
         ],
         "z": [
          0.5259063243865967,
          -0.7105011940002441,
          -5.131817817687988,
          1.4742090702056885,
          0.29319998621940613,
          3.273977518081665,
          2.780269145965576,
          -2.9376747608184814,
          -2.512359619140625,
          -1.6706219911575317,
          -2.8505172729492188,
          -1.5952366590499878,
          -1.7458221912384033,
          1.8824152946472168,
          2.1278226375579834,
          3.9327096939086914,
          3.3659567832946777,
          3.0950703620910645,
          3.293504476547241,
          -1.2899196147918701,
          1.1660430431365967,
          -0.18062299489974976,
          4.209805488586426,
          4.598878860473633,
          4.5754923820495605,
          1.5212935209274292,
          3.195786237716675,
          3.451545000076294,
          2.0971450805664062,
          0.7043521404266357,
          1.9936165809631348,
          2.2340943813323975,
          1.176523208618164,
          0.6861523389816284,
          0.8328660130500793,
          2.8099257946014404,
          2.5672085285186768,
          -0.31031161546707153,
          1.2403950691223145,
          1.5112230777740479,
          5.518962860107422,
          2.350816249847412,
          -0.3890891969203949,
          0.4277903139591217,
          -1.3878079652786255,
          0.7927316427230835,
          0.22211340069770813,
          -1.8928589820861816,
          -1.4605121612548828,
          2.815985918045044,
          0.7489822506904602,
          -0.32275837659835815,
          -0.7003174424171448,
          3.676492214202881,
          3.242894411087036,
          3.845294237136841,
          0.8921587467193604,
          0.34392231702804565,
          2.4431307315826416,
          -0.49681857228279114,
          1.5111879110336304,
          3.490020275115967,
          4.6688103675842285,
          2.89192271232605,
          3.733424663543701,
          2.7281107902526855,
          3.0562453269958496,
          1.6828351020812988,
          -0.47291457653045654,
          0.18002010881900787,
          0.005559742916375399,
          4.051375865936279,
          3.3354380130767822,
          4.621934413909912,
          4.666740894317627,
          4.02760124206543,
          4.114683151245117,
          0.07726255059242249,
          3.305584669113159,
          1.860930323600769,
          1.859520435333252,
          -0.375144362449646,
          -0.5364817380905151,
          -0.11956511437892914,
          0.22053582966327667,
          0.7420623898506165,
          0.7114454507827759,
          3.1589980125427246,
          -1.2954055070877075,
          -0.22768086194992065,
          -0.2565271258354187,
          -0.4197561740875244,
          2.2590014934539795,
          2.5877387523651123,
          2.5695033073425293,
          2.00577449798584,
          1.128074288368225,
          1.8675638437271118,
          1.785561442375183,
          1.8249725103378296,
          1.755783200263977,
          1.6377191543579102,
          1.7387957572937012,
          -4.662591934204102,
          -4.663032054901123,
          -4.594274520874023,
          -4.334184646606445,
          -6.0172200202941895,
          3.391380548477173,
          1.2604174613952637,
          3.28532075881958,
          3.1612861156463623,
          2.9097707271575928,
          2.15208101272583,
          2.8617660999298096,
          2.1577582359313965,
          1.6588019132614136,
          2.0578458309173584,
          1.5200262069702148,
          1.4495675563812256,
          1.3065197467803955,
          1.627132534980774,
          1.6127756834030151,
          1.1208772659301758,
          1.6912870407104492,
          1.230785608291626,
          3.435582160949707,
          3.3340847492218018,
          3.623401641845703,
          4.317869186401367,
          4.015948295593262,
          4.738198757171631,
          4.474066257476807,
          4.723015308380127,
          4.86922025680542,
          4.508331298828125,
          4.498193264007568,
          5.051172256469727,
          4.920095443725586,
          5.240521430969238,
          4.64977502822876,
          4.474275588989258,
          5.275047779083252,
          4.692399501800537,
          4.649107456207275,
          5.045614242553711,
          4.403934001922607,
          5.145153045654297,
          5.114853858947754,
          4.899360179901123,
          4.989434719085693,
          3.8081839084625244,
          5.292750835418701
         ]
        }
       ],
       "layout": {
        "legend": {
         "title": {
          "text": "cell_type"
         },
         "tracegroupgap": 0
        },
        "margin": {
         "t": 60
        },
        "scene": {
         "domain": {
          "x": [
           0,
           1
          ],
          "y": [
           0,
           1
          ]
         },
         "xaxis": {
          "title": {
           "text": "tsne0"
          }
         },
         "yaxis": {
          "title": {
           "text": "tsne1"
          }
         },
         "zaxis": {
          "title": {
           "text": "tsne2"
          }
         }
        },
        "template": {
         "data": {
          "bar": [
           {
            "error_x": {
             "color": "#2a3f5f"
            },
            "error_y": {
             "color": "#2a3f5f"
            },
            "marker": {
             "line": {
              "color": "#E5ECF6",
              "width": 0.5
             },
             "pattern": {
              "fillmode": "overlay",
              "size": 10,
              "solidity": 0.2
             }
            },
            "type": "bar"
           }
          ],
          "barpolar": [
           {
            "marker": {
             "line": {
              "color": "#E5ECF6",
              "width": 0.5
             },
             "pattern": {
              "fillmode": "overlay",
              "size": 10,
              "solidity": 0.2
             }
            },
            "type": "barpolar"
           }
          ],
          "carpet": [
           {
            "aaxis": {
             "endlinecolor": "#2a3f5f",
             "gridcolor": "white",
             "linecolor": "white",
             "minorgridcolor": "white",
             "startlinecolor": "#2a3f5f"
            },
            "baxis": {
             "endlinecolor": "#2a3f5f",
             "gridcolor": "white",
             "linecolor": "white",
             "minorgridcolor": "white",
             "startlinecolor": "#2a3f5f"
            },
            "type": "carpet"
           }
          ],
          "choropleth": [
           {
            "colorbar": {
             "outlinewidth": 0,
             "ticks": ""
            },
            "type": "choropleth"
           }
          ],
          "contour": [
           {
            "colorbar": {
             "outlinewidth": 0,
             "ticks": ""
            },
            "colorscale": [
             [
              0,
              "#0d0887"
             ],
             [
              0.1111111111111111,
              "#46039f"
             ],
             [
              0.2222222222222222,
              "#7201a8"
             ],
             [
              0.3333333333333333,
              "#9c179e"
             ],
             [
              0.4444444444444444,
              "#bd3786"
             ],
             [
              0.5555555555555556,
              "#d8576b"
             ],
             [
              0.6666666666666666,
              "#ed7953"
             ],
             [
              0.7777777777777778,
              "#fb9f3a"
             ],
             [
              0.8888888888888888,
              "#fdca26"
             ],
             [
              1,
              "#f0f921"
             ]
            ],
            "type": "contour"
           }
          ],
          "contourcarpet": [
           {
            "colorbar": {
             "outlinewidth": 0,
             "ticks": ""
            },
            "type": "contourcarpet"
           }
          ],
          "heatmap": [
           {
            "colorbar": {
             "outlinewidth": 0,
             "ticks": ""
            },
            "colorscale": [
             [
              0,
              "#0d0887"
             ],
             [
              0.1111111111111111,
              "#46039f"
             ],
             [
              0.2222222222222222,
              "#7201a8"
             ],
             [
              0.3333333333333333,
              "#9c179e"
             ],
             [
              0.4444444444444444,
              "#bd3786"
             ],
             [
              0.5555555555555556,
              "#d8576b"
             ],
             [
              0.6666666666666666,
              "#ed7953"
             ],
             [
              0.7777777777777778,
              "#fb9f3a"
             ],
             [
              0.8888888888888888,
              "#fdca26"
             ],
             [
              1,
              "#f0f921"
             ]
            ],
            "type": "heatmap"
           }
          ],
          "heatmapgl": [
           {
            "colorbar": {
             "outlinewidth": 0,
             "ticks": ""
            },
            "colorscale": [
             [
              0,
              "#0d0887"
             ],
             [
              0.1111111111111111,
              "#46039f"
             ],
             [
              0.2222222222222222,
              "#7201a8"
             ],
             [
              0.3333333333333333,
              "#9c179e"
             ],
             [
              0.4444444444444444,
              "#bd3786"
             ],
             [
              0.5555555555555556,
              "#d8576b"
             ],
             [
              0.6666666666666666,
              "#ed7953"
             ],
             [
              0.7777777777777778,
              "#fb9f3a"
             ],
             [
              0.8888888888888888,
              "#fdca26"
             ],
             [
              1,
              "#f0f921"
             ]
            ],
            "type": "heatmapgl"
           }
          ],
          "histogram": [
           {
            "marker": {
             "pattern": {
              "fillmode": "overlay",
              "size": 10,
              "solidity": 0.2
             }
            },
            "type": "histogram"
           }
          ],
          "histogram2d": [
           {
            "colorbar": {
             "outlinewidth": 0,
             "ticks": ""
            },
            "colorscale": [
             [
              0,
              "#0d0887"
             ],
             [
              0.1111111111111111,
              "#46039f"
             ],
             [
              0.2222222222222222,
              "#7201a8"
             ],
             [
              0.3333333333333333,
              "#9c179e"
             ],
             [
              0.4444444444444444,
              "#bd3786"
             ],
             [
              0.5555555555555556,
              "#d8576b"
             ],
             [
              0.6666666666666666,
              "#ed7953"
             ],
             [
              0.7777777777777778,
              "#fb9f3a"
             ],
             [
              0.8888888888888888,
              "#fdca26"
             ],
             [
              1,
              "#f0f921"
             ]
            ],
            "type": "histogram2d"
           }
          ],
          "histogram2dcontour": [
           {
            "colorbar": {
             "outlinewidth": 0,
             "ticks": ""
            },
            "colorscale": [
             [
              0,
              "#0d0887"
             ],
             [
              0.1111111111111111,
              "#46039f"
             ],
             [
              0.2222222222222222,
              "#7201a8"
             ],
             [
              0.3333333333333333,
              "#9c179e"
             ],
             [
              0.4444444444444444,
              "#bd3786"
             ],
             [
              0.5555555555555556,
              "#d8576b"
             ],
             [
              0.6666666666666666,
              "#ed7953"
             ],
             [
              0.7777777777777778,
              "#fb9f3a"
             ],
             [
              0.8888888888888888,
              "#fdca26"
             ],
             [
              1,
              "#f0f921"
             ]
            ],
            "type": "histogram2dcontour"
           }
          ],
          "mesh3d": [
           {
            "colorbar": {
             "outlinewidth": 0,
             "ticks": ""
            },
            "type": "mesh3d"
           }
          ],
          "parcoords": [
           {
            "line": {
             "colorbar": {
              "outlinewidth": 0,
              "ticks": ""
             }
            },
            "type": "parcoords"
           }
          ],
          "pie": [
           {
            "automargin": true,
            "type": "pie"
           }
          ],
          "scatter": [
           {
            "fillpattern": {
             "fillmode": "overlay",
             "size": 10,
             "solidity": 0.2
            },
            "type": "scatter"
           }
          ],
          "scatter3d": [
           {
            "line": {
             "colorbar": {
              "outlinewidth": 0,
              "ticks": ""
             }
            },
            "marker": {
             "colorbar": {
              "outlinewidth": 0,
              "ticks": ""
             }
            },
            "type": "scatter3d"
           }
          ],
          "scattercarpet": [
           {
            "marker": {
             "colorbar": {
              "outlinewidth": 0,
              "ticks": ""
             }
            },
            "type": "scattercarpet"
           }
          ],
          "scattergeo": [
           {
            "marker": {
             "colorbar": {
              "outlinewidth": 0,
              "ticks": ""
             }
            },
            "type": "scattergeo"
           }
          ],
          "scattergl": [
           {
            "marker": {
             "colorbar": {
              "outlinewidth": 0,
              "ticks": ""
             }
            },
            "type": "scattergl"
           }
          ],
          "scattermapbox": [
           {
            "marker": {
             "colorbar": {
              "outlinewidth": 0,
              "ticks": ""
             }
            },
            "type": "scattermapbox"
           }
          ],
          "scatterpolar": [
           {
            "marker": {
             "colorbar": {
              "outlinewidth": 0,
              "ticks": ""
             }
            },
            "type": "scatterpolar"
           }
          ],
          "scatterpolargl": [
           {
            "marker": {
             "colorbar": {
              "outlinewidth": 0,
              "ticks": ""
             }
            },
            "type": "scatterpolargl"
           }
          ],
          "scatterternary": [
           {
            "marker": {
             "colorbar": {
              "outlinewidth": 0,
              "ticks": ""
             }
            },
            "type": "scatterternary"
           }
          ],
          "surface": [
           {
            "colorbar": {
             "outlinewidth": 0,
             "ticks": ""
            },
            "colorscale": [
             [
              0,
              "#0d0887"
             ],
             [
              0.1111111111111111,
              "#46039f"
             ],
             [
              0.2222222222222222,
              "#7201a8"
             ],
             [
              0.3333333333333333,
              "#9c179e"
             ],
             [
              0.4444444444444444,
              "#bd3786"
             ],
             [
              0.5555555555555556,
              "#d8576b"
             ],
             [
              0.6666666666666666,
              "#ed7953"
             ],
             [
              0.7777777777777778,
              "#fb9f3a"
             ],
             [
              0.8888888888888888,
              "#fdca26"
             ],
             [
              1,
              "#f0f921"
             ]
            ],
            "type": "surface"
           }
          ],
          "table": [
           {
            "cells": {
             "fill": {
              "color": "#EBF0F8"
             },
             "line": {
              "color": "white"
             }
            },
            "header": {
             "fill": {
              "color": "#C8D4E3"
             },
             "line": {
              "color": "white"
             }
            },
            "type": "table"
           }
          ]
         },
         "layout": {
          "annotationdefaults": {
           "arrowcolor": "#2a3f5f",
           "arrowhead": 0,
           "arrowwidth": 1
          },
          "autotypenumbers": "strict",
          "coloraxis": {
           "colorbar": {
            "outlinewidth": 0,
            "ticks": ""
           }
          },
          "colorscale": {
           "diverging": [
            [
             0,
             "#8e0152"
            ],
            [
             0.1,
             "#c51b7d"
            ],
            [
             0.2,
             "#de77ae"
            ],
            [
             0.3,
             "#f1b6da"
            ],
            [
             0.4,
             "#fde0ef"
            ],
            [
             0.5,
             "#f7f7f7"
            ],
            [
             0.6,
             "#e6f5d0"
            ],
            [
             0.7,
             "#b8e186"
            ],
            [
             0.8,
             "#7fbc41"
            ],
            [
             0.9,
             "#4d9221"
            ],
            [
             1,
             "#276419"
            ]
           ],
           "sequential": [
            [
             0,
             "#0d0887"
            ],
            [
             0.1111111111111111,
             "#46039f"
            ],
            [
             0.2222222222222222,
             "#7201a8"
            ],
            [
             0.3333333333333333,
             "#9c179e"
            ],
            [
             0.4444444444444444,
             "#bd3786"
            ],
            [
             0.5555555555555556,
             "#d8576b"
            ],
            [
             0.6666666666666666,
             "#ed7953"
            ],
            [
             0.7777777777777778,
             "#fb9f3a"
            ],
            [
             0.8888888888888888,
             "#fdca26"
            ],
            [
             1,
             "#f0f921"
            ]
           ],
           "sequentialminus": [
            [
             0,
             "#0d0887"
            ],
            [
             0.1111111111111111,
             "#46039f"
            ],
            [
             0.2222222222222222,
             "#7201a8"
            ],
            [
             0.3333333333333333,
             "#9c179e"
            ],
            [
             0.4444444444444444,
             "#bd3786"
            ],
            [
             0.5555555555555556,
             "#d8576b"
            ],
            [
             0.6666666666666666,
             "#ed7953"
            ],
            [
             0.7777777777777778,
             "#fb9f3a"
            ],
            [
             0.8888888888888888,
             "#fdca26"
            ],
            [
             1,
             "#f0f921"
            ]
           ]
          },
          "colorway": [
           "#636efa",
           "#EF553B",
           "#00cc96",
           "#ab63fa",
           "#FFA15A",
           "#19d3f3",
           "#FF6692",
           "#B6E880",
           "#FF97FF",
           "#FECB52"
          ],
          "font": {
           "color": "#2a3f5f"
          },
          "geo": {
           "bgcolor": "white",
           "lakecolor": "white",
           "landcolor": "#E5ECF6",
           "showlakes": true,
           "showland": true,
           "subunitcolor": "white"
          },
          "hoverlabel": {
           "align": "left"
          },
          "hovermode": "closest",
          "mapbox": {
           "style": "light"
          },
          "paper_bgcolor": "white",
          "plot_bgcolor": "#E5ECF6",
          "polar": {
           "angularaxis": {
            "gridcolor": "white",
            "linecolor": "white",
            "ticks": ""
           },
           "bgcolor": "#E5ECF6",
           "radialaxis": {
            "gridcolor": "white",
            "linecolor": "white",
            "ticks": ""
           }
          },
          "scene": {
           "xaxis": {
            "backgroundcolor": "#E5ECF6",
            "gridcolor": "white",
            "gridwidth": 2,
            "linecolor": "white",
            "showbackground": true,
            "ticks": "",
            "zerolinecolor": "white"
           },
           "yaxis": {
            "backgroundcolor": "#E5ECF6",
            "gridcolor": "white",
            "gridwidth": 2,
            "linecolor": "white",
            "showbackground": true,
            "ticks": "",
            "zerolinecolor": "white"
           },
           "zaxis": {
            "backgroundcolor": "#E5ECF6",
            "gridcolor": "white",
            "gridwidth": 2,
            "linecolor": "white",
            "showbackground": true,
            "ticks": "",
            "zerolinecolor": "white"
           }
          },
          "shapedefaults": {
           "line": {
            "color": "#2a3f5f"
           }
          },
          "ternary": {
           "aaxis": {
            "gridcolor": "white",
            "linecolor": "white",
            "ticks": ""
           },
           "baxis": {
            "gridcolor": "white",
            "linecolor": "white",
            "ticks": ""
           },
           "bgcolor": "#E5ECF6",
           "caxis": {
            "gridcolor": "white",
            "linecolor": "white",
            "ticks": ""
           }
          },
          "title": {
           "x": 0.05
          },
          "xaxis": {
           "automargin": true,
           "gridcolor": "white",
           "linecolor": "white",
           "ticks": "",
           "title": {
            "standoff": 15
           },
           "zerolinecolor": "white",
           "zerolinewidth": 2
          },
          "yaxis": {
           "automargin": true,
           "gridcolor": "white",
           "linecolor": "white",
           "ticks": "",
           "title": {
            "standoff": 15
           },
           "zerolinecolor": "white",
           "zerolinewidth": 2
          }
         }
        }
       }
      }
     },
     "metadata": {},
     "output_type": "display_data"
    }
   ],
   "source": [
    "fig = px.scatter_3d(tsne3D_data, x='tsne0', y='tsne1', z='tsne2',\n",
    "              color='cell_type'\n",
    "              \n",
    "              )\n",
    "fig.show()"
   ]
  },
  {
   "cell_type": "markdown",
   "metadata": {},
   "source": [
    "## UMAP"
   ]
  },
  {
   "cell_type": "code",
   "execution_count": 16,
   "metadata": {},
   "outputs": [],
   "source": [
    "from umap import UMAP"
   ]
  },
  {
   "cell_type": "code",
   "execution_count": 29,
   "metadata": {},
   "outputs": [
    {
     "data": {
      "text/html": [
       "<div>\n",
       "<style scoped>\n",
       "    .dataframe tbody tr th:only-of-type {\n",
       "        vertical-align: middle;\n",
       "    }\n",
       "\n",
       "    .dataframe tbody tr th {\n",
       "        vertical-align: top;\n",
       "    }\n",
       "\n",
       "    .dataframe thead th {\n",
       "        text-align: right;\n",
       "    }\n",
       "</style>\n",
       "<table border=\"1\" class=\"dataframe\">\n",
       "  <thead>\n",
       "    <tr style=\"text-align: right;\">\n",
       "      <th></th>\n",
       "      <th>umap0</th>\n",
       "      <th>umap1</th>\n",
       "      <th>cell_type</th>\n",
       "    </tr>\n",
       "  </thead>\n",
       "  <tbody>\n",
       "    <tr>\n",
       "      <th>0</th>\n",
       "      <td>11.181082</td>\n",
       "      <td>6.020244</td>\n",
       "      <td>EXC</td>\n",
       "    </tr>\n",
       "    <tr>\n",
       "      <th>1</th>\n",
       "      <td>10.843601</td>\n",
       "      <td>5.546698</td>\n",
       "      <td>EXC</td>\n",
       "    </tr>\n",
       "    <tr>\n",
       "      <th>2</th>\n",
       "      <td>8.586409</td>\n",
       "      <td>3.465101</td>\n",
       "      <td>EXC</td>\n",
       "    </tr>\n",
       "    <tr>\n",
       "      <th>3</th>\n",
       "      <td>-11.508381</td>\n",
       "      <td>7.113780</td>\n",
       "      <td>EXC</td>\n",
       "    </tr>\n",
       "    <tr>\n",
       "      <th>4</th>\n",
       "      <td>11.189787</td>\n",
       "      <td>5.386727</td>\n",
       "      <td>EXC</td>\n",
       "    </tr>\n",
       "    <tr>\n",
       "      <th>...</th>\n",
       "      <td>...</td>\n",
       "      <td>...</td>\n",
       "      <td>...</td>\n",
       "    </tr>\n",
       "    <tr>\n",
       "      <th>492</th>\n",
       "      <td>11.126047</td>\n",
       "      <td>10.009007</td>\n",
       "      <td>SST</td>\n",
       "    </tr>\n",
       "    <tr>\n",
       "      <th>493</th>\n",
       "      <td>10.715446</td>\n",
       "      <td>10.305163</td>\n",
       "      <td>SST</td>\n",
       "    </tr>\n",
       "    <tr>\n",
       "      <th>494</th>\n",
       "      <td>11.027344</td>\n",
       "      <td>10.121504</td>\n",
       "      <td>SST</td>\n",
       "    </tr>\n",
       "    <tr>\n",
       "      <th>495</th>\n",
       "      <td>11.511817</td>\n",
       "      <td>9.265717</td>\n",
       "      <td>SST</td>\n",
       "    </tr>\n",
       "    <tr>\n",
       "      <th>496</th>\n",
       "      <td>10.828599</td>\n",
       "      <td>10.302755</td>\n",
       "      <td>SST</td>\n",
       "    </tr>\n",
       "  </tbody>\n",
       "</table>\n",
       "<p>497 rows × 3 columns</p>\n",
       "</div>"
      ],
      "text/plain": [
       "         umap0      umap1 cell_type\n",
       "0    11.181082   6.020244       EXC\n",
       "1    10.843601   5.546698       EXC\n",
       "2     8.586409   3.465101       EXC\n",
       "3   -11.508381   7.113780       EXC\n",
       "4    11.189787   5.386727       EXC\n",
       "..         ...        ...       ...\n",
       "492  11.126047  10.009007       SST\n",
       "493  10.715446  10.305163       SST\n",
       "494  11.027344  10.121504       SST\n",
       "495  11.511817   9.265717       SST\n",
       "496  10.828599  10.302755       SST\n",
       "\n",
       "[497 rows x 3 columns]"
      ]
     },
     "execution_count": 29,
     "metadata": {},
     "output_type": "execute_result"
    }
   ],
   "source": [
    "umap2D = UMAP(n_components=2)\n",
    "umap_data2D = umap2D.fit_transform(preprocessing_pipe.fit_transform(raw_data.drop('cell_type', axis=1)))\n",
    "umap_data2D = pd.DataFrame(umap_data2D, columns=['umap0', 'umap1'])\n",
    "umap_data2D['cell_type'] = raw_data['cell_type']\n",
    "umap_data2D"
   ]
  },
  {
   "cell_type": "code",
   "execution_count": 30,
   "metadata": {},
   "outputs": [
    {
     "data": {
      "text/plain": [
       "<Axes: xlabel='umap0', ylabel='umap1'>"
      ]
     },
     "execution_count": 30,
     "metadata": {},
     "output_type": "execute_result"
    },
    {
     "data": {
      "image/png": "[encoded data removed]",
      "text/plain": [
       "<Figure size 640x480 with 1 Axes>"
      ]
     },
     "metadata": {},
     "output_type": "display_data"
    }
   ],
   "source": [
    "sns.scatterplot(\n",
    "    data=umap_data2D,\n",
    "    x='umap0',\n",
    "    y='umap1',\n",
    "    hue='cell_type'\n",
    ")"
   ]
  },
  {
   "cell_type": "code",
   "execution_count": 33,
   "metadata": {},
   "outputs": [
    {
     "data": {
      "text/html": [
       "<div>\n",
       "<style scoped>\n",
       "    .dataframe tbody tr th:only-of-type {\n",
       "        vertical-align: middle;\n",
       "    }\n",
       "\n",
       "    .dataframe tbody tr th {\n",
       "        vertical-align: top;\n",
       "    }\n",
       "\n",
       "    .dataframe thead th {\n",
       "        text-align: right;\n",
       "    }\n",
       "</style>\n",
       "<table border=\"1\" class=\"dataframe\">\n",
       "  <thead>\n",
       "    <tr style=\"text-align: right;\">\n",
       "      <th></th>\n",
       "      <th>umap0</th>\n",
       "      <th>umap1</th>\n",
       "      <th>umap2</th>\n",
       "      <th>cell_type</th>\n",
       "    </tr>\n",
       "  </thead>\n",
       "  <tbody>\n",
       "    <tr>\n",
       "      <th>0</th>\n",
       "      <td>12.456448</td>\n",
       "      <td>6.940793</td>\n",
       "      <td>4.892116</td>\n",
       "      <td>EXC</td>\n",
       "    </tr>\n",
       "    <tr>\n",
       "      <th>1</th>\n",
       "      <td>12.674867</td>\n",
       "      <td>6.436523</td>\n",
       "      <td>4.891471</td>\n",
       "      <td>EXC</td>\n",
       "    </tr>\n",
       "    <tr>\n",
       "      <th>2</th>\n",
       "      <td>12.471961</td>\n",
       "      <td>4.078464</td>\n",
       "      <td>4.411397</td>\n",
       "      <td>EXC</td>\n",
       "    </tr>\n",
       "    <tr>\n",
       "      <th>3</th>\n",
       "      <td>-3.567272</td>\n",
       "      <td>4.272145</td>\n",
       "      <td>12.008609</td>\n",
       "      <td>EXC</td>\n",
       "    </tr>\n",
       "    <tr>\n",
       "      <th>4</th>\n",
       "      <td>12.894658</td>\n",
       "      <td>6.736821</td>\n",
       "      <td>4.670156</td>\n",
       "      <td>EXC</td>\n",
       "    </tr>\n",
       "    <tr>\n",
       "      <th>...</th>\n",
       "      <td>...</td>\n",
       "      <td>...</td>\n",
       "      <td>...</td>\n",
       "      <td>...</td>\n",
       "    </tr>\n",
       "    <tr>\n",
       "      <th>492</th>\n",
       "      <td>13.056352</td>\n",
       "      <td>7.790486</td>\n",
       "      <td>8.865082</td>\n",
       "      <td>SST</td>\n",
       "    </tr>\n",
       "    <tr>\n",
       "      <th>493</th>\n",
       "      <td>12.906425</td>\n",
       "      <td>7.523347</td>\n",
       "      <td>9.261135</td>\n",
       "      <td>SST</td>\n",
       "    </tr>\n",
       "    <tr>\n",
       "      <th>494</th>\n",
       "      <td>12.940472</td>\n",
       "      <td>7.791949</td>\n",
       "      <td>8.976675</td>\n",
       "      <td>SST</td>\n",
       "    </tr>\n",
       "    <tr>\n",
       "      <th>495</th>\n",
       "      <td>13.268141</td>\n",
       "      <td>7.729290</td>\n",
       "      <td>7.957648</td>\n",
       "      <td>SST</td>\n",
       "    </tr>\n",
       "    <tr>\n",
       "      <th>496</th>\n",
       "      <td>13.111023</td>\n",
       "      <td>7.594693</td>\n",
       "      <td>9.214739</td>\n",
       "      <td>SST</td>\n",
       "    </tr>\n",
       "  </tbody>\n",
       "</table>\n",
       "<p>497 rows × 4 columns</p>\n",
       "</div>"
      ],
      "text/plain": [
       "         umap0     umap1      umap2 cell_type\n",
       "0    12.456448  6.940793   4.892116       EXC\n",
       "1    12.674867  6.436523   4.891471       EXC\n",
       "2    12.471961  4.078464   4.411397       EXC\n",
       "3    -3.567272  4.272145  12.008609       EXC\n",
       "4    12.894658  6.736821   4.670156       EXC\n",
       "..         ...       ...        ...       ...\n",
       "492  13.056352  7.790486   8.865082       SST\n",
       "493  12.906425  7.523347   9.261135       SST\n",
       "494  12.940472  7.791949   8.976675       SST\n",
       "495  13.268141  7.729290   7.957648       SST\n",
       "496  13.111023  7.594693   9.214739       SST\n",
       "\n",
       "[497 rows x 4 columns]"
      ]
     },
     "execution_count": 33,
     "metadata": {},
     "output_type": "execute_result"
    }
   ],
   "source": [
    "umap3D = UMAP(n_components=3)\n",
    "umap_data3D = umap3D.fit_transform(preprocessing_pipe.fit_transform(raw_data.drop('cell_type', axis=1)))\n",
    "umap_data3D = pd.DataFrame(umap_data3D, columns=['umap0', 'umap1', 'umap2'])\n",
    "umap_data3D['cell_type'] = raw_data['cell_type']\n",
    "umap_data3D"
   ]
  },
  {
   "cell_type": "code",
   "execution_count": 35,
   "metadata": {},
   "outputs": [
    {
     "data": {
      "application/vnd.plotly.v1+json": {
       "config": {
        "plotlyServerURL": "https://plot.ly"
       },
       "data": [
        {
         "hovertemplate": "cell_type=EXC<br>umap0=%{x}<br>umap1=%{y}<br>umap2=%{z}<extra></extra>",
         "legendgroup": "EXC",
         "marker": {
          "color": "#636efa",
          "symbol": "circle"
         },
         "mode": "markers",
         "name": "EXC",
         "scene": "scene",
         "showlegend": true,
         "type": "scatter3d",
         "x": [
          12.45644760131836,
          12.674866676330566,
          12.47196102142334,
          -3.567272424697876,
          12.894658088684082,
          12.901116371154785,
          10.964662551879883,
          12.910700798034668,
          12.490657806396484,
          11.575121879577637,
          12.236849784851074,
          11.987597465515137,
          12.166586875915527,
          12.028898239135742,
          -3.665184259414673,
          11.549026489257812,
          -3.690737724304199,
          11.125248908996582,
          11.169083595275879,
          12.63231086730957,
          12.513138771057129,
          10.561635971069336,
          11.851947784423828,
          12.333106994628906,
          11.782848358154297,
          -3.673926830291748,
          12.910440444946289,
          11.942286491394043,
          13.0956449508667,
          12.738136291503906,
          12.564675331115723,
          13.015337944030762,
          13.360630989074707,
          13.447397232055664,
          13.334705352783203,
          -3.676147937774658,
          12.168891906738281,
          12.12221908569336,
          11.990894317626953,
          13.166664123535156,
          13.190590858459473,
          13.231193542480469,
          13.261087417602539,
          13.252226829528809,
          -3.5751898288726807,
          -3.604708671569824,
          -3.613534688949585,
          -3.569247007369995,
          -3.566713809967041,
          13.075934410095215,
          12.757752418518066,
          12.580904006958008,
          12.017166137695312,
          -3.540548324584961,
          -3.5268518924713135,
          -3.5253190994262695,
          -3.5604119300842285,
          11.740632057189941,
          12.908658981323242,
          12.994013786315918,
          11.01725959777832,
          11.673148155212402,
          13.032910346984863,
          11.886641502380371,
          12.237090110778809,
          12.317901611328125,
          12.402618408203125,
          13.055496215820312,
          11.634011268615723,
          12.04081916809082,
          11.486513137817383,
          13.10623836517334,
          13.003314018249512,
          13.089346885681152,
          12.774632453918457,
          12.452448844909668,
          13.00222110748291,
          13.071261405944824,
          9.849909782409668,
          12.166144371032715,
          10.989948272705078,
          11.223011016845703,
          11.744406700134277,
          12.126755714416504,
          12.474532127380371,
          12.818792343139648,
          10.92411994934082,
          11.644501686096191,
          11.892464637756348,
          10.811375617980957,
          11.946343421936035,
          12.370458602905273,
          11.567276000976562,
          11.133804321289062,
          11.304059028625488,
          13.538204193115234,
          10.963323593139648,
          12.435601234436035,
          10.317554473876953,
          10.162373542785645,
          10.602422714233398,
          12.318255424499512,
          10.239047050476074,
          11.108771324157715,
          12.120331764221191,
          11.001455307006836,
          10.33128547668457,
          11.472501754760742,
          12.294142723083496,
          11.58803939819336,
          11.466049194335938,
          10.784219741821289,
          11.038504600524902,
          10.332908630371094,
          10.410322189331055,
          11.196174621582031,
          10.970020294189453,
          11.153608322143555,
          11.254643440246582,
          11.724681854248047,
          11.78218936920166,
          10.98725700378418,
          12.966029167175293,
          13.08558177947998,
          13.199000358581543,
          12.847496032714844,
          11.110163688659668,
          10.94555377960205,
          10.564168930053711,
          11.96643352508545,
          11.7951078414917,
          13.080925941467285,
          10.929274559020996,
          10.819796562194824,
          10.887834548950195,
          10.996603965759277,
          10.847867965698242,
          11.187822341918945,
          10.952041625976562,
          11.989275932312012,
          13.099331855773926,
          10.83162784576416,
          10.901070594787598,
          10.961418151855469,
          11.174084663391113,
          10.906697273254395
         ],
         "y": [
          6.940792560577393,
          6.4365234375,
          4.078463554382324,
          4.272144794464111,
          6.736820697784424,
          6.793891906738281,
          4.645442008972168,
          4.612929821014404,
          3.960975170135498,
          3.528667688369751,
          3.8446075916290283,
          3.335488796234131,
          3.6847329139709473,
          3.3309526443481445,
          4.282533168792725,
          3.2900946140289307,
          4.296212196350098,
          3.77884578704834,
          3.725583791732788,
          4.0428290367126465,
          4.039630889892578,
          5.100935459136963,
          5.186215877532959,
          5.10819673538208,
          3.774578332901001,
          4.305528163909912,
          4.209989547729492,
          3.3886241912841797,
          4.6358113288879395,
          4.866276264190674,
          5.0638108253479,
          4.751211166381836,
          4.918011665344238,
          4.962038516998291,
          4.832131862640381,
          4.318204402923584,
          3.4840152263641357,
          3.449155807495117,
          3.336798906326294,
          4.7463765144348145,
          4.737143039703369,
          4.749636173248291,
          4.775710582733154,
          4.763884544372559,
          4.332608222961426,
          4.278736114501953,
          4.3020734786987305,
          4.2478251457214355,
          4.263772487640381,
          4.931884288787842,
          4.638712406158447,
          4.913700103759766,
          4.103490829467773,
          4.376833915710449,
          4.425340175628662,
          4.425047874450684,
          4.39820671081543,
          4.556594371795654,
          4.262206554412842,
          4.235428810119629,
          4.644832134246826,
          4.466191291809082,
          4.20604133605957,
          4.021393775939941,
          5.687202453613281,
          5.699230194091797,
          5.851603984832764,
          4.505635738372803,
          5.852725982666016,
          4.039681911468506,
          3.4153530597686768,
          4.347811222076416,
          4.2709455490112305,
          4.319868564605713,
          6.713301658630371,
          5.738822937011719,
          4.261543273925781,
          4.291713714599609,
          5.554303169250488,
          5.407606601715088,
          3.4613089561462402,
          3.3692660331726074,
          4.453521728515625,
          5.242530822753906,
          5.385988712310791,
          5.678555488586426,
          4.659045219421387,
          3.5580897331237793,
          3.559413433074951,
          3.573105812072754,
          3.2711687088012695,
          3.85343337059021,
          3.528385877609253,
          3.942070484161377,
          3.1903860569000244,
          8.07494831085205,
          4.795262336730957,
          4.951617240905762,
          3.539278268814087,
          3.965259075164795,
          3.695683240890503,
          5.812125205993652,
          3.8162076473236084,
          3.809584856033325,
          3.2638654708862305,
          3.454897403717041,
          3.5249667167663574,
          3.4858322143554688,
          4.127511024475098,
          3.9809961318969727,
          3.2596635818481445,
          3.370180606842041,
          3.377002716064453,
          3.484865665435791,
          3.437215805053711,
          3.4412758350372314,
          3.5956692695617676,
          5.650533199310303,
          5.553479194641113,
          5.464587688446045,
          3.2254271507263184,
          3.5447592735290527,
          4.663217544555664,
          4.9650373458862305,
          4.929501533508301,
          4.811174392700195,
          3.110103130340576,
          5.1286940574646,
          3.4814531803131104,
          6.1681132316589355,
          6.010979175567627,
          5.292196750640869,
          3.314340353012085,
          4.7856597900390625,
          4.76187801361084,
          5.49655294418335,
          4.774947166442871,
          3.1591949462890625,
          3.299189329147339,
          3.271474599838257,
          4.706933498382568,
          4.779749870300293,
          4.9335126876831055,
          4.053325653076172,
          4.060442924499512,
          3.2071433067321777
         ],
         "z": [
          4.892116069793701,
          4.8914713859558105,
          4.4113969802856445,
          12.0086088180542,
          4.6701555252075195,
          4.679349899291992,
          5.076930046081543,
          5.431466102600098,
          4.472618103027344,
          5.081473350524902,
          4.663096904754639,
          6.293294906616211,
          4.743436813354492,
          5.831225872039795,
          12.179101943969727,
          5.505443572998047,
          12.184769630432129,
          6.4648566246032715,
          6.488014221191406,
          4.5773515701293945,
          4.495848178863525,
          5.3740715980529785,
          5.6244025230407715,
          5.764261245727539,
          5.509402751922607,
          12.17861270904541,
          4.838222026824951,
          5.874922752380371,
          5.315945148468018,
          5.821143627166748,
          5.979666233062744,
          6.049500942230225,
          5.9022297859191895,
          5.931291103363037,
          5.638815402984619,
          12.211743354797363,
          5.284759044647217,
          5.304145336151123,
          5.482647895812988,
          5.909470558166504,
          5.841707229614258,
          5.906322002410889,
          5.826733589172363,
          5.9114227294921875,
          12.076865196228027,
          12.016145706176758,
          12.049906730651855,
          11.97857666015625,
          11.99527359008789,
          5.589969158172607,
          5.429032325744629,
          5.490415573120117,
          4.288367748260498,
          12.490487098693848,
          12.591151237487793,
          12.574623107910156,
          12.521721839904785,
          4.7456488609313965,
          4.657597541809082,
          4.660358428955078,
          5.002635955810547,
          4.711503028869629,
          4.581879138946533,
          3.938056230545044,
          4.980467796325684,
          4.957000255584717,
          4.859649181365967,
          4.902038097381592,
          6.195736408233643,
          4.335201740264893,
          5.225330352783203,
          4.797969341278076,
          4.927939414978027,
          4.82631778717041,
          4.768776893615723,
          4.845919132232666,
          4.596529960632324,
          4.645685195922852,
          5.302770614624023,
          4.773319244384766,
          6.421034812927246,
          5.834656238555908,
          4.826594352722168,
          5.676575183868408,
          6.078364849090576,
          5.175370216369629,
          5.119023323059082,
          5.893228054046631,
          5.896562576293945,
          6.198496341705322,
          5.897733688354492,
          4.486269474029541,
          5.725188732147217,
          6.642177581787109,
          5.8124189376831055,
          7.420192718505859,
          5.275007724761963,
          6.066757678985596,
          6.333714962005615,
          6.284582138061523,
          6.267705917358398,
          4.991386890411377,
          6.251821041107178,
          6.721685409545898,
          5.937152862548828,
          6.204315662384033,
          6.296792030334473,
          5.698593616485596,
          5.397673606872559,
          5.336663722991943,
          5.540663242340088,
          6.274151802062988,
          6.6275858879089355,
          6.3195977210998535,
          6.311676979064941,
          5.970753192901611,
          6.113952159881592,
          6.182281970977783,
          6.090100288391113,
          5.631842136383057,
          6.137773513793945,
          6.277456760406494,
          5.5575270652771,
          5.514188289642334,
          5.576723098754883,
          5.7933502197265625,
          6.1981000900268555,
          5.918795108795166,
          6.1801838874816895,
          6.500942707061768,
          6.510223865509033,
          5.485352516174316,
          6.102459907531738,
          5.220508098602295,
          5.226441383361816,
          5.987356662750244,
          5.599572658538818,
          6.059472560882568,
          6.070814609527588,
          6.183061599731445,
          6.004749298095703,
          5.772202014923096,
          5.839254856109619,
          5.9003214836120605,
          6.733489990234375,
          6.218977928161621
         ]
        },
        {
         "hovertemplate": "cell_type=PV<br>umap0=%{x}<br>umap1=%{y}<br>umap2=%{z}<extra></extra>",
         "legendgroup": "PV",
         "marker": {
          "color": "#EF553B",
          "symbol": "circle"
         },
         "mode": "markers",
         "name": "PV",
         "scene": "scene",
         "showlegend": true,
         "type": "scatter3d",
         "x": [
          11.966231346130371,
          6.7451558113098145,
          8.552414894104004,
          8.275381088256836,
          7.2965874671936035,
          5.684648036956787,
          8.977706909179688,
          7.96663236618042,
          8.213393211364746,
          8.04186725616455,
          6.388271331787109,
          8.111347198486328,
          7.955188274383545,
          6.753353595733643,
          7.575594902038574,
          6.916141033172607,
          6.597959041595459,
          12.194598197937012,
          7.900305271148682,
          7.82331657409668,
          9.985076904296875,
          7.478513717651367,
          7.771488189697266,
          7.993971824645996,
          7.819804668426514,
          5.740211009979248,
          5.801869869232178,
          5.762900352478027,
          7.703110218048096,
          5.783534049987793,
          5.746227741241455,
          5.725342273712158,
          5.813336372375488,
          5.8051276206970215,
          5.833530426025391,
          5.753075122833252,
          5.721428871154785,
          5.954178333282471,
          7.738870620727539,
          7.748791694641113,
          6.86394739151001,
          6.963992595672607,
          6.262115478515625,
          7.215995788574219,
          7.402390003204346,
          7.766047954559326,
          7.669614791870117,
          5.694644927978516,
          8.372596740722656,
          8.188847541809082,
          8.31429672241211,
          8.022764205932617,
          8.009366989135742,
          12.950165748596191,
          -3.7288825511932373,
          7.285398006439209,
          7.1832733154296875,
          7.338537693023682,
          6.933856964111328,
          6.288960933685303,
          8.481392860412598,
          7.659607410430908,
          7.1693572998046875,
          6.855922698974609,
          6.352044105529785,
          6.74154806137085,
          6.310208320617676,
          6.38057279586792,
          6.177523136138916,
          7.540947914123535,
          6.927106857299805,
          7.328325271606445,
          7.689852714538574,
          6.900288105010986,
          6.447298526763916,
          7.60938835144043,
          6.211010932922363,
          6.330592155456543,
          6.9252610206604,
          6.838597774505615,
          6.690158843994141,
          6.493657112121582,
          6.227867603302002,
          6.275387287139893,
          6.1164140701293945,
          6.223270893096924,
          6.160172462463379,
          5.724289417266846,
          6.878068447113037,
          5.595294952392578,
          5.94270658493042,
          5.591280460357666,
          7.0992279052734375,
          5.930964469909668,
          7.2253241539001465,
          6.623907089233398,
          6.56242561340332,
          6.670032501220703,
          6.317566394805908,
          5.936126232147217,
          6.053252220153809,
          5.809544086456299,
          5.551821708679199,
          5.573538303375244,
          6.029941082000732,
          6.037173748016357,
          5.970503807067871,
          8.644804000854492,
          7.268565654754639,
          6.891350746154785,
          6.380289554595947,
          6.357834815979004,
          5.887474536895752,
          6.516594409942627,
          5.775120735168457,
          6.109891414642334,
          5.572521686553955,
          5.609793186187744,
          7.12162446975708,
          7.923526287078857,
          6.824080944061279
         ],
         "y": [
          7.554400444030762,
          4.724152565002441,
          6.879802227020264,
          6.21614933013916,
          4.883155345916748,
          6.205218315124512,
          6.2071661949157715,
          6.646036148071289,
          6.787851333618164,
          6.752171993255615,
          4.939999103546143,
          6.11991024017334,
          6.156664848327637,
          4.721169948577881,
          6.302642822265625,
          4.893940448760986,
          4.738291263580322,
          7.989931583404541,
          4.321253299713135,
          4.6538543701171875,
          3.850825071334839,
          6.207677364349365,
          4.847634315490723,
          4.877501964569092,
          4.9206366539001465,
          5.295986652374268,
          4.384416580200195,
          4.41032600402832,
          6.293920993804932,
          4.578305721282959,
          4.388828277587891,
          4.440786361694336,
          4.446041584014893,
          4.402587890625,
          4.384650230407715,
          4.638241291046143,
          5.336141109466553,
          4.307648181915283,
          6.367645263671875,
          6.474843502044678,
          4.654815673828125,
          5.605038166046143,
          4.31932258605957,
          5.986416816711426,
          6.115752696990967,
          4.317717552185059,
          4.50606632232666,
          6.16422176361084,
          5.569407939910889,
          5.775185585021973,
          5.224749565124512,
          4.920665264129639,
          5.0191330909729,
          8.069786071777344,
          4.270522594451904,
          4.899098873138428,
          5.368290424346924,
          5.740225315093994,
          5.5729498863220215,
          6.42479944229126,
          6.256571292877197,
          4.673847198486328,
          4.809142112731934,
          4.652729034423828,
          4.52503776550293,
          5.398674964904785,
          5.493881702423096,
          6.360343933105469,
          5.349628448486328,
          4.760765075683594,
          5.426362991333008,
          5.734330654144287,
          6.300979137420654,
          5.552532196044922,
          5.5765838623046875,
          6.2989277839660645,
          5.478617191314697,
          5.698876857757568,
          4.7675909996032715,
          5.045302867889404,
          5.224428653717041,
          5.275686264038086,
          5.543704986572266,
          6.399893760681152,
          6.382930755615234,
          6.4391093254089355,
          6.445053577423096,
          5.673346519470215,
          4.9901580810546875,
          6.139627933502197,
          6.251360893249512,
          5.8301897048950195,
          5.059579372406006,
          4.6143083572387695,
          5.238448619842529,
          5.160356521606445,
          5.267391681671143,
          5.3457159996032715,
          5.050294876098633,
          6.107587814331055,
          6.132649898529053,
          5.233911037445068,
          5.979416370391846,
          5.912962913513184,
          4.622277736663818,
          6.303175449371338,
          4.771714687347412,
          5.8404035568237305,
          5.260967254638672,
          5.361763000488281,
          5.3795166015625,
          5.49507999420166,
          5.436676025390625,
          6.108139991760254,
          5.737895965576172,
          6.37066650390625,
          6.07257080078125,
          6.150728225708008,
          5.134785175323486,
          5.000146389007568,
          5.125535488128662
         ],
         "z": [
          6.95552921295166,
          7.251419544219971,
          7.078813076019287,
          7.733880996704102,
          7.600832462310791,
          7.431803226470947,
          7.597074031829834,
          6.941086292266846,
          7.128716468811035,
          7.030749320983887,
          7.088090419769287,
          7.8138298988342285,
          7.866756916046143,
          7.347309112548828,
          7.849691867828369,
          7.258697986602783,
          7.095016002655029,
          6.781712532043457,
          7.110244274139404,
          7.396719455718994,
          6.3816962242126465,
          7.86029577255249,
          7.511761665344238,
          7.5037689208984375,
          7.534602642059326,
          6.8828935623168945,
          6.281335830688477,
          6.238407611846924,
          7.833842754364014,
          6.419044017791748,
          6.261759281158447,
          6.303952693939209,
          6.349238395690918,
          6.317707538604736,
          6.332555294036865,
          6.414348602294922,
          6.90642786026001,
          6.374423503875732,
          7.782378196716309,
          7.326099872589111,
          7.3834028244018555,
          7.876231670379639,
          6.493251323699951,
          7.438325881958008,
          7.589506149291992,
          7.071954727172852,
          7.28378438949585,
          7.418802738189697,
          7.703880310058594,
          7.770564079284668,
          7.616039276123047,
          7.514381408691406,
          7.563620567321777,
          7.708223819732666,
          12.321114540100098,
          7.7006001472473145,
          7.839261531829834,
          7.898327827453613,
          7.921319484710693,
          7.783660888671875,
          7.659805774688721,
          7.469076633453369,
          7.583963871002197,
          7.356730937957764,
          6.74965763092041,
          7.465371608734131,
          7.498164653778076,
          7.6662278175354,
          7.164828300476074,
          7.525435924530029,
          7.429844379425049,
          7.622378349304199,
          7.846314430236816,
          7.464479446411133,
          7.304685115814209,
          7.818155288696289,
          7.163751125335693,
          7.351766109466553,
          7.557753562927246,
          7.764957904815674,
          7.834254741668701,
          7.704235553741455,
          7.616439342498779,
          7.72102165222168,
          7.693083763122559,
          7.728609085083008,
          7.7431206703186035,
          7.163581371307373,
          7.747830867767334,
          7.356313705444336,
          7.570496082305908,
          7.149199962615967,
          7.6002936363220215,
          6.564809322357178,
          7.614999294281006,
          7.295242786407471,
          7.400312900543213,
          7.39454460144043,
          7.048736095428467,
          7.491133689880371,
          7.575628280639648,
          6.870020866394043,
          7.248531818389893,
          7.190145492553711,
          6.620662689208984,
          7.618031024932861,
          6.663008213043213,
          7.665496349334717,
          7.688716411590576,
          7.514704704284668,
          7.307516574859619,
          7.388365745544434,
          7.05460786819458,
          7.586373329162598,
          7.221640110015869,
          7.6733012199401855,
          7.304717063903809,
          7.374087333679199,
          7.360194683074951,
          7.575681209564209,
          7.309863567352295
         ]
        },
        {
         "hovertemplate": "cell_type=VIP<br>umap0=%{x}<br>umap1=%{y}<br>umap2=%{z}<extra></extra>",
         "legendgroup": "VIP",
         "marker": {
          "color": "#00cc96",
          "symbol": "circle"
         },
         "mode": "markers",
         "name": "VIP",
         "scene": "scene",
         "showlegend": true,
         "type": "scatter3d",
         "x": [
          6.19612455368042,
          11.648782730102539,
          8.205225944519043,
          12.096966743469238,
          12.87247371673584,
          12.612431526184082,
          9.598546981811523,
          6.089439868927002,
          10.68349838256836,
          10.909399032592773,
          8.659024238586426,
          11.448570251464844,
          12.715252876281738,
          9.67247486114502,
          9.721429824829102,
          8.411062240600586,
          12.99394702911377,
          13.036088943481445,
          12.8294038772583,
          12.665335655212402,
          12.618332862854004,
          13.02530574798584,
          12.906537055969238,
          12.877995491027832,
          12.853449821472168,
          12.84719467163086,
          -3.4186360836029053,
          13.620631217956543,
          13.317444801330566,
          12.59403133392334,
          -3.4954092502593994,
          -3.394714832305908,
          -3.5271923542022705,
          -3.4367446899414062,
          -3.4675111770629883,
          -3.5400052070617676,
          -3.4523348808288574,
          -3.5447165966033936,
          -3.38327956199646,
          -3.5458786487579346,
          -3.382347822189331,
          -3.3316495418548584,
          -3.362231731414795,
          13.051392555236816,
          -3.3285367488861084,
          13.04323673248291,
          13.623449325561523,
          12.777314186096191,
          12.6920804977417,
          12.665660858154297,
          13.600980758666992,
          12.502218246459961,
          11.85473346710205,
          11.864944458007812,
          11.634018898010254,
          11.487022399902344,
          11.687438011169434,
          11.483668327331543,
          12.048554420471191,
          11.835315704345703,
          11.801618576049805,
          11.813858985900879,
          11.783674240112305,
          11.896150588989258,
          11.834270477294922,
          11.806793212890625,
          11.83150863647461,
          11.803605079650879,
          11.836738586425781,
          13.681056022644043,
          9.930306434631348,
          9.856075286865234,
          9.863194465637207,
          10.268540382385254,
          9.83613395690918,
          9.777770042419434,
          9.833293914794922
         ],
         "y": [
          4.754948139190674,
          5.997577667236328,
          6.807732105255127,
          6.4425740242004395,
          6.643191337585449,
          6.470749378204346,
          6.9892497062683105,
          4.870889186859131,
          5.306270122528076,
          5.30216121673584,
          6.892877101898193,
          5.479524612426758,
          6.989424705505371,
          5.580582141876221,
          5.5814995765686035,
          6.86111307144165,
          6.7466630935668945,
          6.937967300415039,
          6.556046485900879,
          7.635617733001709,
          7.705639839172363,
          7.969099044799805,
          7.392629146575928,
          7.338076591491699,
          7.25609827041626,
          7.23257303237915,
          4.500842571258545,
          8.07558536529541,
          7.297854423522949,
          7.659206867218018,
          4.507829666137695,
          4.619627952575684,
          4.499929904937744,
          4.522062301635742,
          4.566071033477783,
          4.643795967102051,
          4.528687477111816,
          4.520034313201904,
          4.60081148147583,
          4.512021541595459,
          4.606350898742676,
          4.678483963012695,
          4.698539733886719,
          7.889017105102539,
          4.679544448852539,
          7.86737060546875,
          8.013134002685547,
          8.129517555236816,
          8.088346481323242,
          8.125083923339844,
          7.998459339141846,
          6.496557235717773,
          5.923552513122559,
          5.212296962738037,
          4.840950965881348,
          4.887658596038818,
          5.00108528137207,
          4.900425434112549,
          5.300471305847168,
          5.254034519195557,
          5.252664089202881,
          5.399532318115234,
          5.542119026184082,
          4.122116565704346,
          4.120913505554199,
          4.091623783111572,
          4.066354751586914,
          4.057925701141357,
          4.044432640075684,
          8.087259292602539,
          5.554342269897461,
          5.668182849884033,
          5.536906719207764,
          5.423393726348877,
          5.5738019943237305,
          5.619424343109131,
          5.533996105194092
         ],
         "z": [
          6.771743297576904,
          5.48734188079834,
          6.970664024353027,
          6.446157932281494,
          6.626260280609131,
          6.454892158508301,
          6.979910373687744,
          6.704826354980469,
          5.447103023529053,
          5.4257941246032715,
          6.934013843536377,
          5.732615947723389,
          4.773200035095215,
          5.387124538421631,
          5.392932415008545,
          7.011007785797119,
          6.757623672485352,
          6.854150295257568,
          6.640242099761963,
          7.277805328369141,
          7.235680103302002,
          5.338475227355957,
          4.8576226234436035,
          4.818042755126953,
          4.749043941497803,
          4.728690147399902,
          12.990463256835938,
          7.2742509841918945,
          6.9977335929870605,
          7.075871467590332,
          13.095351219177246,
          13.19046688079834,
          13.032061576843262,
          13.142938613891602,
          13.113471031188965,
          13.102211952209473,
          13.120624542236328,
          13.055766105651855,
          13.229433059692383,
          13.184760093688965,
          13.29809284210205,
          13.342442512512207,
          13.379264831542969,
          5.168420314788818,
          13.336764335632324,
          5.12606143951416,
          7.304511547088623,
          6.186650276184082,
          6.4213385581970215,
          6.329320430755615,
          7.238510608673096,
          6.468748092651367,
          5.812409400939941,
          5.323918342590332,
          4.906219959259033,
          4.964226245880127,
          4.905801296234131,
          4.967617034912109,
          5.603803634643555,
          5.491206645965576,
          5.469302177429199,
          5.1349921226501465,
          5.212364196777344,
          4.276761531829834,
          4.0400872230529785,
          4.0252861976623535,
          3.983036994934082,
          3.937808036804199,
          3.9371650218963623,
          7.304802894592285,
          5.390283584594727,
          5.4611897468566895,
          5.450166702270508,
          5.4860148429870605,
          5.396848678588867,
          5.382252216339111,
          5.411192893981934
         ]
        },
        {
         "hovertemplate": "cell_type=SST<br>umap0=%{x}<br>umap1=%{y}<br>umap2=%{z}<extra></extra>",
         "legendgroup": "SST",
         "marker": {
          "color": "#ab63fa",
          "symbol": "circle"
         },
         "mode": "markers",
         "name": "SST",
         "scene": "scene",
         "showlegend": true,
         "type": "scatter3d",
         "x": [
          12.988033294677734,
          12.810138702392578,
          12.343847274780273,
          11.940811157226562,
          8.496533393859863,
          12.902568817138672,
          12.572014808654785,
          12.751486778259277,
          11.812590599060059,
          12.776680946350098,
          12.733428001403809,
          12.786982536315918,
          12.692004203796387,
          12.876751899719238,
          13.033212661743164,
          12.865339279174805,
          12.913457870483398,
          13.238247871398926,
          13.02795124053955,
          12.8090238571167,
          11.917503356933594,
          12.943464279174805,
          12.229533195495605,
          12.432369232177734,
          12.446856498718262,
          12.891948699951172,
          12.148487091064453,
          12.685015678405762,
          9.006461143493652,
          12.6923246383667,
          11.457901954650879,
          8.862933158874512,
          13.282514572143555,
          13.032440185546875,
          13.13244342803955,
          12.289607048034668,
          9.042272567749023,
          12.899251937866211,
          12.887776374816895,
          13.151198387145996,
          13.044052124023438,
          12.752696990966797,
          12.562322616577148,
          12.76222038269043,
          12.358929634094238,
          9.151865005493164,
          12.17127513885498,
          11.363944053649902,
          12.176825523376465,
          12.000754356384277,
          12.965747833251953,
          6.787180423736572,
          6.600183486938477,
          13.411646842956543,
          13.466560363769531,
          13.001702308654785,
          12.928574562072754,
          12.7339448928833,
          8.732148170471191,
          7.820028781890869,
          13.202973365783691,
          12.246612548828125,
          12.837442398071289,
          12.469959259033203,
          13.247139930725098,
          13.674040794372559,
          13.544892311096191,
          11.580944061279297,
          12.614971160888672,
          12.386310577392578,
          12.64258861541748,
          13.255633354187012,
          12.247650146484375,
          12.77547836303711,
          12.645956039428711,
          13.197564125061035,
          13.223799705505371,
          12.859439849853516,
          -3.477292776107788,
          13.694747924804688,
          13.607137680053711,
          12.878154754638672,
          12.893056869506836,
          12.972082138061523,
          13.090616226196289,
          12.949063301086426,
          12.795817375183105,
          -3.5978922843933105,
          12.052212715148926,
          11.068836212158203,
          11.16477108001709,
          11.036667823791504,
          13.69616985321045,
          13.629803657531738,
          13.614097595214844,
          12.073726654052734,
          11.698610305786133,
          11.614030838012695,
          9.822421073913574,
          9.951262474060059,
          9.379277229309082,
          9.475872993469238,
          9.499613761901855,
          11.528390884399414,
          11.46355152130127,
          11.494478225708008,
          11.58639144897461,
          11.866642951965332,
          12.969350814819336,
          13.002289772033691,
          12.944598197937012,
          12.820497512817383,
          12.702731132507324,
          8.90096664428711,
          8.678762435913086,
          8.858423233032227,
          8.97561264038086,
          8.897686958312988,
          8.887283325195312,
          8.920970916748047,
          8.895557403564453,
          8.760786056518555,
          9.059897422790527,
          8.708064079284668,
          9.013157844543457,
          8.650585174560547,
          13.160009384155273,
          13.000285148620605,
          13.173550605773926,
          12.990015029907227,
          13.290231704711914,
          13.041627883911133,
          13.075602531433105,
          13.109756469726562,
          13.074831008911133,
          13.210542678833008,
          13.236910820007324,
          13.008013725280762,
          13.14079475402832,
          13.081991195678711,
          13.14085578918457,
          13.129671096801758,
          13.045324325561523,
          12.977327346801758,
          13.171265602111816,
          12.912896156311035,
          13.147284507751465,
          13.036553382873535,
          13.056351661682129,
          12.906424522399902,
          12.940471649169922,
          13.26814079284668,
          13.11102294921875
         ],
         "y": [
          7.835325717926025,
          7.387750625610352,
          4.614328861236572,
          7.14808988571167,
          6.9077558517456055,
          7.752433776855469,
          7.673009872436523,
          6.225735187530518,
          5.812638282775879,
          6.982216835021973,
          6.324743270874023,
          7.0889129638671875,
          6.742500305175781,
          8.076037406921387,
          8.086474418640137,
          7.482113361358643,
          7.612362861633301,
          7.973156452178955,
          7.927290916442871,
          7.206779956817627,
          5.817418575286865,
          7.566060543060303,
          8.163180351257324,
          8.182503700256348,
          8.170490264892578,
          8.061821937561035,
          7.811176776885986,
          7.511220932006836,
          6.44281530380249,
          7.73170804977417,
          5.782113552093506,
          5.731034278869629,
          7.963338375091553,
          7.512929439544678,
          7.601752758026123,
          7.984777450561523,
          6.200424671173096,
          7.49304723739624,
          7.944431304931641,
          7.967700004577637,
          7.351964950561523,
          8.117731094360352,
          7.232676029205322,
          7.807046413421631,
          6.904122829437256,
          6.964969158172607,
          6.474661350250244,
          5.734594821929932,
          6.6605610847473145,
          7.833905220031738,
          8.020599365234375,
          4.8138837814331055,
          4.516345977783203,
          7.8494367599487305,
          7.733753204345703,
          8.011929512023926,
          7.967191219329834,
          7.739458084106445,
          5.940481185913086,
          4.368756294250488,
          7.953372001647949,
          8.05614948272705,
          8.017500877380371,
          8.031813621520996,
          8.006340980529785,
          7.852760314941406,
          7.966055393218994,
          5.966610431671143,
          7.302639961242676,
          7.0098876953125,
          7.4900054931640625,
          7.956856727600098,
          8.010665893554688,
          8.089302062988281,
          8.066825866699219,
          7.564324378967285,
          7.568807601928711,
          7.847287178039551,
          4.4372429847717285,
          7.8782877922058105,
          7.606494903564453,
          7.804319858551025,
          7.88051176071167,
          7.962935447692871,
          7.887218475341797,
          7.956332206726074,
          7.845855236053467,
          4.374183177947998,
          3.4261233806610107,
          3.4503843784332275,
          3.3193371295928955,
          3.337191343307495,
          7.960541248321533,
          7.712173938751221,
          7.713071823120117,
          7.302184581756592,
          6.119542598724365,
          7.193195343017578,
          7.053720951080322,
          7.070938587188721,
          6.920536041259766,
          7.009200096130371,
          7.036827087402344,
          3.5856924057006836,
          3.4869062900543213,
          3.6156394481658936,
          3.6761314868927,
          4.17772912979126,
          7.436254978179932,
          7.165038108825684,
          7.431695461273193,
          7.2836222648620605,
          7.35197639465332,
          5.995755672454834,
          5.931094169616699,
          6.1512932777404785,
          6.642791271209717,
          6.550046443939209,
          6.787181854248047,
          6.785098552703857,
          6.795734405517578,
          6.812983989715576,
          6.644413948059082,
          6.721756458282471,
          6.660367488861084,
          6.841884613037109,
          7.579930782318115,
          7.647208213806152,
          7.648154258728027,
          7.51077127456665,
          7.640869617462158,
          7.384348392486572,
          7.541097164154053,
          7.457718372344971,
          7.369752883911133,
          7.525509357452393,
          7.672398567199707,
          7.300418376922607,
          7.500044345855713,
          7.677377700805664,
          7.508236885070801,
          7.574251174926758,
          7.616184234619141,
          7.5744948387146,
          7.462731838226318,
          7.288644313812256,
          7.566118240356445,
          7.640476703643799,
          7.790485858917236,
          7.523346900939941,
          7.7919487953186035,
          7.729290008544922,
          7.594693183898926
         ],
         "z": [
          5.15209436416626,
          4.937784194946289,
          4.614368438720703,
          6.702148914337158,
          7.0292463302612305,
          7.540511608123779,
          7.086625576019287,
          4.780706882476807,
          5.192368984222412,
          4.785840034484863,
          4.779875755310059,
          4.827907562255859,
          4.839569568634033,
          6.050442695617676,
          6.319802761077881,
          8.285998344421387,
          7.690830230712891,
          7.497238636016846,
          7.51265811920166,
          4.798175811767578,
          6.6222124099731445,
          4.950118064880371,
          6.937453269958496,
          6.884777545928955,
          6.893393039703369,
          5.97346830368042,
          7.073771953582764,
          7.866359710693359,
          7.5553154945373535,
          5.639111518859863,
          6.910729885101318,
          7.6010942459106445,
          6.220946788787842,
          6.161221981048584,
          6.314008712768555,
          6.667577743530273,
          7.625138759613037,
          4.941607475280762,
          5.464541912078857,
          6.086505889892578,
          9.313385009765625,
          6.058743476867676,
          5.161491870880127,
          5.524509906768799,
          4.978490829467773,
          7.0082550048828125,
          6.29861307144165,
          5.553539276123047,
          5.06144905090332,
          6.638882160186768,
          5.601306438446045,
          7.553208351135254,
          6.960083484649658,
          7.830096244812012,
          7.944668769836426,
          7.56229829788208,
          5.72140645980835,
          5.520085334777832,
          7.6357421875,
          7.108450889587402,
          6.223321914672852,
          6.8877458572387695,
          7.737229347229004,
          6.786048889160156,
          7.525118350982666,
          7.602236747741699,
          7.714413642883301,
          6.671027183532715,
          5.173748016357422,
          6.041110515594482,
          5.291354179382324,
          7.717097759246826,
          6.835415840148926,
          7.57775354385376,
          7.5695977210998535,
          9.214838981628418,
          9.288443565368652,
          5.415438652038574,
          12.917268753051758,
          7.341629981994629,
          7.462703704833984,
          5.338936805725098,
          5.622404098510742,
          5.72553014755249,
          5.8882293701171875,
          5.7361273765563965,
          5.812615871429443,
          12.680290222167969,
          6.2295122146606445,
          6.735013961791992,
          6.729984760284424,
          6.727644920349121,
          7.427924633026123,
          7.685413837432861,
          7.728415012359619,
          6.95555305480957,
          6.56798791885376,
          6.790521621704102,
          7.0567240715026855,
          7.010443687438965,
          7.211164951324463,
          7.144772052764893,
          7.1304802894592285,
          5.100601673126221,
          5.166428565979004,
          5.090658664703369,
          5.209029674530029,
          4.425020217895508,
          8.324834823608398,
          7.005752086639404,
          8.209678649902344,
          8.136985778808594,
          7.802238464355469,
          7.575324058532715,
          7.689634323120117,
          7.604748249053955,
          7.361800670623779,
          7.489222049713135,
          7.277462959289551,
          7.2902398109436035,
          7.272411346435547,
          7.268104076385498,
          7.4181342124938965,
          7.126018524169922,
          7.405717849731445,
          7.194492340087891,
          8.106504440307617,
          7.755356311798096,
          8.063028335571289,
          8.6854248046875,
          8.261247634887695,
          9.259108543395996,
          8.558615684509277,
          9.040266036987305,
          9.271463394165039,
          8.635917663574219,
          8.560250282287598,
          9.371721267700195,
          9.151071548461914,
          8.832842826843262,
          8.791025161743164,
          8.504313468933105,
          9.15758991241455,
          9.033720016479492,
          8.765509605407715,
          9.329333305358887,
          8.47344970703125,
          8.957549095153809,
          8.865081787109375,
          9.26113510131836,
          8.976675033569336,
          7.957648277282715,
          9.214738845825195
         ]
        }
       ],
       "layout": {
        "legend": {
         "title": {
          "text": "cell_type"
         },
         "tracegroupgap": 0
        },
        "margin": {
         "t": 60
        },
        "scene": {
         "domain": {
          "x": [
           0,
           1
          ],
          "y": [
           0,
           1
          ]
         },
         "xaxis": {
          "title": {
           "text": "umap0"
          }
         },
         "yaxis": {
          "title": {
           "text": "umap1"
          }
         },
         "zaxis": {
          "title": {
           "text": "umap2"
          }
         }
        },
        "template": {
         "data": {
          "bar": [
           {
            "error_x": {
             "color": "#2a3f5f"
            },
            "error_y": {
             "color": "#2a3f5f"
            },
            "marker": {
             "line": {
              "color": "#E5ECF6",
              "width": 0.5
             },
             "pattern": {
              "fillmode": "overlay",
              "size": 10,
              "solidity": 0.2
             }
            },
            "type": "bar"
           }
          ],
          "barpolar": [
           {
            "marker": {
             "line": {
              "color": "#E5ECF6",
              "width": 0.5
             },
             "pattern": {
              "fillmode": "overlay",
              "size": 10,
              "solidity": 0.2
             }
            },
            "type": "barpolar"
           }
          ],
          "carpet": [
           {
            "aaxis": {
             "endlinecolor": "#2a3f5f",
             "gridcolor": "white",
             "linecolor": "white",
             "minorgridcolor": "white",
             "startlinecolor": "#2a3f5f"
            },
            "baxis": {
             "endlinecolor": "#2a3f5f",
             "gridcolor": "white",
             "linecolor": "white",
             "minorgridcolor": "white",
             "startlinecolor": "#2a3f5f"
            },
            "type": "carpet"
           }
          ],
          "choropleth": [
           {
            "colorbar": {
             "outlinewidth": 0,
             "ticks": ""
            },
            "type": "choropleth"
           }
          ],
          "contour": [
           {
            "colorbar": {
             "outlinewidth": 0,
             "ticks": ""
            },
            "colorscale": [
             [
              0,
              "#0d0887"
             ],
             [
              0.1111111111111111,
              "#46039f"
             ],
             [
              0.2222222222222222,
              "#7201a8"
             ],
             [
              0.3333333333333333,
              "#9c179e"
             ],
             [
              0.4444444444444444,
              "#bd3786"
             ],
             [
              0.5555555555555556,
              "#d8576b"
             ],
             [
              0.6666666666666666,
              "#ed7953"
             ],
             [
              0.7777777777777778,
              "#fb9f3a"
             ],
             [
              0.8888888888888888,
              "#fdca26"
             ],
             [
              1,
              "#f0f921"
             ]
            ],
            "type": "contour"
           }
          ],
          "contourcarpet": [
           {
            "colorbar": {
             "outlinewidth": 0,
             "ticks": ""
            },
            "type": "contourcarpet"
           }
          ],
          "heatmap": [
           {
            "colorbar": {
             "outlinewidth": 0,
             "ticks": ""
            },
            "colorscale": [
             [
              0,
              "#0d0887"
             ],
             [
              0.1111111111111111,
              "#46039f"
             ],
             [
              0.2222222222222222,
              "#7201a8"
             ],
             [
              0.3333333333333333,
              "#9c179e"
             ],
             [
              0.4444444444444444,
              "#bd3786"
             ],
             [
              0.5555555555555556,
              "#d8576b"
             ],
             [
              0.6666666666666666,
              "#ed7953"
             ],
             [
              0.7777777777777778,
              "#fb9f3a"
             ],
             [
              0.8888888888888888,
              "#fdca26"
             ],
             [
              1,
              "#f0f921"
             ]
            ],
            "type": "heatmap"
           }
          ],
          "heatmapgl": [
           {
            "colorbar": {
             "outlinewidth": 0,
             "ticks": ""
            },
            "colorscale": [
             [
              0,
              "#0d0887"
             ],
             [
              0.1111111111111111,
              "#46039f"
             ],
             [
              0.2222222222222222,
              "#7201a8"
             ],
             [
              0.3333333333333333,
              "#9c179e"
             ],
             [
              0.4444444444444444,
              "#bd3786"
             ],
             [
              0.5555555555555556,
              "#d8576b"
             ],
             [
              0.6666666666666666,
              "#ed7953"
             ],
             [
              0.7777777777777778,
              "#fb9f3a"
             ],
             [
              0.8888888888888888,
              "#fdca26"
             ],
             [
              1,
              "#f0f921"
             ]
            ],
            "type": "heatmapgl"
           }
          ],
          "histogram": [
           {
            "marker": {
             "pattern": {
              "fillmode": "overlay",
              "size": 10,
              "solidity": 0.2
             }
            },
            "type": "histogram"
           }
          ],
          "histogram2d": [
           {
            "colorbar": {
             "outlinewidth": 0,
             "ticks": ""
            },
            "colorscale": [
             [
              0,
              "#0d0887"
             ],
             [
              0.1111111111111111,
              "#46039f"
             ],
             [
              0.2222222222222222,
              "#7201a8"
             ],
             [
              0.3333333333333333,
              "#9c179e"
             ],
             [
              0.4444444444444444,
              "#bd3786"
             ],
             [
              0.5555555555555556,
              "#d8576b"
             ],
             [
              0.6666666666666666,
              "#ed7953"
             ],
             [
              0.7777777777777778,
              "#fb9f3a"
             ],
             [
              0.8888888888888888,
              "#fdca26"
             ],
             [
              1,
              "#f0f921"
             ]
            ],
            "type": "histogram2d"
           }
          ],
          "histogram2dcontour": [
           {
            "colorbar": {
             "outlinewidth": 0,
             "ticks": ""
            },
            "colorscale": [
             [
              0,
              "#0d0887"
             ],
             [
              0.1111111111111111,
              "#46039f"
             ],
             [
              0.2222222222222222,
              "#7201a8"
             ],
             [
              0.3333333333333333,
              "#9c179e"
             ],
             [
              0.4444444444444444,
              "#bd3786"
             ],
             [
              0.5555555555555556,
              "#d8576b"
             ],
             [
              0.6666666666666666,
              "#ed7953"
             ],
             [
              0.7777777777777778,
              "#fb9f3a"
             ],
             [
              0.8888888888888888,
              "#fdca26"
             ],
             [
              1,
              "#f0f921"
             ]
            ],
            "type": "histogram2dcontour"
           }
          ],
          "mesh3d": [
           {
            "colorbar": {
             "outlinewidth": 0,
             "ticks": ""
            },
            "type": "mesh3d"
           }
          ],
          "parcoords": [
           {
            "line": {
             "colorbar": {
              "outlinewidth": 0,
              "ticks": ""
             }
            },
            "type": "parcoords"
           }
          ],
          "pie": [
           {
            "automargin": true,
            "type": "pie"
           }
          ],
          "scatter": [
           {
            "fillpattern": {
             "fillmode": "overlay",
             "size": 10,
             "solidity": 0.2
            },
            "type": "scatter"
           }
          ],
          "scatter3d": [
           {
            "line": {
             "colorbar": {
              "outlinewidth": 0,
              "ticks": ""
             }
            },
            "marker": {
             "colorbar": {
              "outlinewidth": 0,
              "ticks": ""
             }
            },
            "type": "scatter3d"
           }
          ],
          "scattercarpet": [
           {
            "marker": {
             "colorbar": {
              "outlinewidth": 0,
              "ticks": ""
             }
            },
            "type": "scattercarpet"
           }
          ],
          "scattergeo": [
           {
            "marker": {
             "colorbar": {
              "outlinewidth": 0,
              "ticks": ""
             }
            },
            "type": "scattergeo"
           }
          ],
          "scattergl": [
           {
            "marker": {
             "colorbar": {
              "outlinewidth": 0,
              "ticks": ""
             }
            },
            "type": "scattergl"
           }
          ],
          "scattermapbox": [
           {
            "marker": {
             "colorbar": {
              "outlinewidth": 0,
              "ticks": ""
             }
            },
            "type": "scattermapbox"
           }
          ],
          "scatterpolar": [
           {
            "marker": {
             "colorbar": {
              "outlinewidth": 0,
              "ticks": ""
             }
            },
            "type": "scatterpolar"
           }
          ],
          "scatterpolargl": [
           {
            "marker": {
             "colorbar": {
              "outlinewidth": 0,
              "ticks": ""
             }
            },
            "type": "scatterpolargl"
           }
          ],
          "scatterternary": [
           {
            "marker": {
             "colorbar": {
              "outlinewidth": 0,
              "ticks": ""
             }
            },
            "type": "scatterternary"
           }
          ],
          "surface": [
           {
            "colorbar": {
             "outlinewidth": 0,
             "ticks": ""
            },
            "colorscale": [
             [
              0,
              "#0d0887"
             ],
             [
              0.1111111111111111,
              "#46039f"
             ],
             [
              0.2222222222222222,
              "#7201a8"
             ],
             [
              0.3333333333333333,
              "#9c179e"
             ],
             [
              0.4444444444444444,
              "#bd3786"
             ],
             [
              0.5555555555555556,
              "#d8576b"
             ],
             [
              0.6666666666666666,
              "#ed7953"
             ],
             [
              0.7777777777777778,
              "#fb9f3a"
             ],
             [
              0.8888888888888888,
              "#fdca26"
             ],
             [
              1,
              "#f0f921"
             ]
            ],
            "type": "surface"
           }
          ],
          "table": [
           {
            "cells": {
             "fill": {
              "color": "#EBF0F8"
             },
             "line": {
              "color": "white"
             }
            },
            "header": {
             "fill": {
              "color": "#C8D4E3"
             },
             "line": {
              "color": "white"
             }
            },
            "type": "table"
           }
          ]
         },
         "layout": {
          "annotationdefaults": {
           "arrowcolor": "#2a3f5f",
           "arrowhead": 0,
           "arrowwidth": 1
          },
          "autotypenumbers": "strict",
          "coloraxis": {
           "colorbar": {
            "outlinewidth": 0,
            "ticks": ""
           }
          },
          "colorscale": {
           "diverging": [
            [
             0,
             "#8e0152"
            ],
            [
             0.1,
             "#c51b7d"
            ],
            [
             0.2,
             "#de77ae"
            ],
            [
             0.3,
             "#f1b6da"
            ],
            [
             0.4,
             "#fde0ef"
            ],
            [
             0.5,
             "#f7f7f7"
            ],
            [
             0.6,
             "#e6f5d0"
            ],
            [
             0.7,
             "#b8e186"
            ],
            [
             0.8,
             "#7fbc41"
            ],
            [
             0.9,
             "#4d9221"
            ],
            [
             1,
             "#276419"
            ]
           ],
           "sequential": [
            [
             0,
             "#0d0887"
            ],
            [
             0.1111111111111111,
             "#46039f"
            ],
            [
             0.2222222222222222,
             "#7201a8"
            ],
            [
             0.3333333333333333,
             "#9c179e"
            ],
            [
             0.4444444444444444,
             "#bd3786"
            ],
            [
             0.5555555555555556,
             "#d8576b"
            ],
            [
             0.6666666666666666,
             "#ed7953"
            ],
            [
             0.7777777777777778,
             "#fb9f3a"
            ],
            [
             0.8888888888888888,
             "#fdca26"
            ],
            [
             1,
             "#f0f921"
            ]
           ],
           "sequentialminus": [
            [
             0,
             "#0d0887"
            ],
            [
             0.1111111111111111,
             "#46039f"
            ],
            [
             0.2222222222222222,
             "#7201a8"
            ],
            [
             0.3333333333333333,
             "#9c179e"
            ],
            [
             0.4444444444444444,
             "#bd3786"
            ],
            [
             0.5555555555555556,
             "#d8576b"
            ],
            [
             0.6666666666666666,
             "#ed7953"
            ],
            [
             0.7777777777777778,
             "#fb9f3a"
            ],
            [
             0.8888888888888888,
             "#fdca26"
            ],
            [
             1,
             "#f0f921"
            ]
           ]
          },
          "colorway": [
           "#636efa",
           "#EF553B",
           "#00cc96",
           "#ab63fa",
           "#FFA15A",
           "#19d3f3",
           "#FF6692",
           "#B6E880",
           "#FF97FF",
           "#FECB52"
          ],
          "font": {
           "color": "#2a3f5f"
          },
          "geo": {
           "bgcolor": "white",
           "lakecolor": "white",
           "landcolor": "#E5ECF6",
           "showlakes": true,
           "showland": true,
           "subunitcolor": "white"
          },
          "hoverlabel": {
           "align": "left"
          },
          "hovermode": "closest",
          "mapbox": {
           "style": "light"
          },
          "paper_bgcolor": "white",
          "plot_bgcolor": "#E5ECF6",
          "polar": {
           "angularaxis": {
            "gridcolor": "white",
            "linecolor": "white",
            "ticks": ""
           },
           "bgcolor": "#E5ECF6",
           "radialaxis": {
            "gridcolor": "white",
            "linecolor": "white",
            "ticks": ""
           }
          },
          "scene": {
           "xaxis": {
            "backgroundcolor": "#E5ECF6",
            "gridcolor": "white",
            "gridwidth": 2,
            "linecolor": "white",
            "showbackground": true,
            "ticks": "",
            "zerolinecolor": "white"
           },
           "yaxis": {
            "backgroundcolor": "#E5ECF6",
            "gridcolor": "white",
            "gridwidth": 2,
            "linecolor": "white",
            "showbackground": true,
            "ticks": "",
            "zerolinecolor": "white"
           },
           "zaxis": {
            "backgroundcolor": "#E5ECF6",
            "gridcolor": "white",
            "gridwidth": 2,
            "linecolor": "white",
            "showbackground": true,
            "ticks": "",
            "zerolinecolor": "white"
           }
          },
          "shapedefaults": {
           "line": {
            "color": "#2a3f5f"
           }
          },
          "ternary": {
           "aaxis": {
            "gridcolor": "white",
            "linecolor": "white",
            "ticks": ""
           },
           "baxis": {
            "gridcolor": "white",
            "linecolor": "white",
            "ticks": ""
           },
           "bgcolor": "#E5ECF6",
           "caxis": {
            "gridcolor": "white",
            "linecolor": "white",
            "ticks": ""
           }
          },
          "title": {
           "x": 0.05
          },
          "xaxis": {
           "automargin": true,
           "gridcolor": "white",
           "linecolor": "white",
           "ticks": "",
           "title": {
            "standoff": 15
           },
           "zerolinecolor": "white",
           "zerolinewidth": 2
          },
          "yaxis": {
           "automargin": true,
           "gridcolor": "white",
           "linecolor": "white",
           "ticks": "",
           "title": {
            "standoff": 15
           },
           "zerolinecolor": "white",
           "zerolinewidth": 2
          }
         }
        }
       }
      }
     },
     "metadata": {},
     "output_type": "display_data"
    }
   ],
   "source": [
    "fig = px.scatter_3d(umap_data3D, x='umap0', y='umap1', z='umap2',\n",
    "              color='cell_type'\n",
    "              \n",
    "              )\n",
    "fig.show()"
   ]
  },
  {
   "cell_type": "markdown",
   "metadata": {},
   "source": [
    "## KMeans"
   ]
  },
  {
   "cell_type": "code",
   "execution_count": 6,
   "metadata": {},
   "outputs": [],
   "source": [
    "from sklearn.cluster import KMeans\n",
    "\n",
    "data = preprocessing_pipe.fit_transform(raw_data.drop('cell_type', axis=1))\n",
    "np.random.seed(0)\n",
    "seed = 0\n"
   ]
  },
  {
   "cell_type": "code",
   "execution_count": 7,
   "metadata": {},
   "outputs": [
    {
     "data": {
      "text/html": [
       "<div>\n",
       "<style scoped>\n",
       "    .dataframe tbody tr th:only-of-type {\n",
       "        vertical-align: middle;\n",
       "    }\n",
       "\n",
       "    .dataframe tbody tr th {\n",
       "        vertical-align: top;\n",
       "    }\n",
       "\n",
       "    .dataframe thead th {\n",
       "        text-align: right;\n",
       "    }\n",
       "</style>\n",
       "<table border=\"1\" class=\"dataframe\">\n",
       "  <thead>\n",
       "    <tr style=\"text-align: right;\">\n",
       "      <th></th>\n",
       "      <th>firing_rate</th>\n",
       "      <th>ap_threshold</th>\n",
       "      <th>ap_duration</th>\n",
       "      <th>mean_vm</th>\n",
       "      <th>std_vm</th>\n",
       "      <th>fft_low</th>\n",
       "      <th>fft_high</th>\n",
       "    </tr>\n",
       "  </thead>\n",
       "  <tbody>\n",
       "    <tr>\n",
       "      <th>0</th>\n",
       "      <td>-0.495910</td>\n",
       "      <td>0.945152</td>\n",
       "      <td>-0.334809</td>\n",
       "      <td>2.932638</td>\n",
       "      <td>0.110134</td>\n",
       "      <td>-0.807387</td>\n",
       "      <td>-0.460063</td>\n",
       "    </tr>\n",
       "    <tr>\n",
       "      <th>1</th>\n",
       "      <td>-0.673870</td>\n",
       "      <td>0.431527</td>\n",
       "      <td>0.447619</td>\n",
       "      <td>0.925393</td>\n",
       "      <td>-0.401925</td>\n",
       "      <td>-0.415110</td>\n",
       "      <td>-0.600059</td>\n",
       "    </tr>\n",
       "    <tr>\n",
       "      <th>2</th>\n",
       "      <td>-0.682623</td>\n",
       "      <td>-0.064111</td>\n",
       "      <td>4.524090</td>\n",
       "      <td>0.569710</td>\n",
       "      <td>0.163293</td>\n",
       "      <td>0.011974</td>\n",
       "      <td>-0.457037</td>\n",
       "    </tr>\n",
       "    <tr>\n",
       "      <th>3</th>\n",
       "      <td>-0.685540</td>\n",
       "      <td>3.584400</td>\n",
       "      <td>-1.318126</td>\n",
       "      <td>1.208404</td>\n",
       "      <td>-0.138656</td>\n",
       "      <td>-0.247785</td>\n",
       "      <td>-0.290650</td>\n",
       "    </tr>\n",
       "    <tr>\n",
       "      <th>4</th>\n",
       "      <td>-0.676788</td>\n",
       "      <td>0.486469</td>\n",
       "      <td>1.704713</td>\n",
       "      <td>1.406541</td>\n",
       "      <td>-1.267111</td>\n",
       "      <td>-1.271143</td>\n",
       "      <td>-0.953296</td>\n",
       "    </tr>\n",
       "    <tr>\n",
       "      <th>...</th>\n",
       "      <td>...</td>\n",
       "      <td>...</td>\n",
       "      <td>...</td>\n",
       "      <td>...</td>\n",
       "      <td>...</td>\n",
       "      <td>...</td>\n",
       "      <td>...</td>\n",
       "    </tr>\n",
       "    <tr>\n",
       "      <th>492</th>\n",
       "      <td>-0.300445</td>\n",
       "      <td>-0.872088</td>\n",
       "      <td>-0.334514</td>\n",
       "      <td>-0.500789</td>\n",
       "      <td>-0.749110</td>\n",
       "      <td>0.103783</td>\n",
       "      <td>-0.801514</td>\n",
       "    </tr>\n",
       "    <tr>\n",
       "      <th>493</th>\n",
       "      <td>-0.288775</td>\n",
       "      <td>-0.819636</td>\n",
       "      <td>-0.308946</td>\n",
       "      <td>-0.537235</td>\n",
       "      <td>-0.497346</td>\n",
       "      <td>0.317716</td>\n",
       "      <td>-0.475083</td>\n",
       "    </tr>\n",
       "    <tr>\n",
       "      <th>494</th>\n",
       "      <td>-0.247932</td>\n",
       "      <td>-0.817149</td>\n",
       "      <td>-0.289779</td>\n",
       "      <td>-0.383761</td>\n",
       "      <td>-0.578599</td>\n",
       "      <td>0.144661</td>\n",
       "      <td>-0.709058</td>\n",
       "    </tr>\n",
       "    <tr>\n",
       "      <th>495</th>\n",
       "      <td>-0.364627</td>\n",
       "      <td>-0.898802</td>\n",
       "      <td>-0.305845</td>\n",
       "      <td>-0.554376</td>\n",
       "      <td>-0.883570</td>\n",
       "      <td>-0.366801</td>\n",
       "      <td>-0.835205</td>\n",
       "    </tr>\n",
       "    <tr>\n",
       "      <th>496</th>\n",
       "      <td>-0.268353</td>\n",
       "      <td>-0.838449</td>\n",
       "      <td>-0.286393</td>\n",
       "      <td>-0.528473</td>\n",
       "      <td>-0.568887</td>\n",
       "      <td>0.377930</td>\n",
       "      <td>-0.669419</td>\n",
       "    </tr>\n",
       "  </tbody>\n",
       "</table>\n",
       "<p>497 rows × 7 columns</p>\n",
       "</div>"
      ],
      "text/plain": [
       "     firing_rate  ap_threshold  ap_duration   mean_vm    std_vm   fft_low  \\\n",
       "0      -0.495910      0.945152    -0.334809  2.932638  0.110134 -0.807387   \n",
       "1      -0.673870      0.431527     0.447619  0.925393 -0.401925 -0.415110   \n",
       "2      -0.682623     -0.064111     4.524090  0.569710  0.163293  0.011974   \n",
       "3      -0.685540      3.584400    -1.318126  1.208404 -0.138656 -0.247785   \n",
       "4      -0.676788      0.486469     1.704713  1.406541 -1.267111 -1.271143   \n",
       "..           ...           ...          ...       ...       ...       ...   \n",
       "492    -0.300445     -0.872088    -0.334514 -0.500789 -0.749110  0.103783   \n",
       "493    -0.288775     -0.819636    -0.308946 -0.537235 -0.497346  0.317716   \n",
       "494    -0.247932     -0.817149    -0.289779 -0.383761 -0.578599  0.144661   \n",
       "495    -0.364627     -0.898802    -0.305845 -0.554376 -0.883570 -0.366801   \n",
       "496    -0.268353     -0.838449    -0.286393 -0.528473 -0.568887  0.377930   \n",
       "\n",
       "     fft_high  \n",
       "0   -0.460063  \n",
       "1   -0.600059  \n",
       "2   -0.457037  \n",
       "3   -0.290650  \n",
       "4   -0.953296  \n",
       "..        ...  \n",
       "492 -0.801514  \n",
       "493 -0.475083  \n",
       "494 -0.709058  \n",
       "495 -0.835205  \n",
       "496 -0.669419  \n",
       "\n",
       "[497 rows x 7 columns]"
      ]
     },
     "execution_count": 7,
     "metadata": {},
     "output_type": "execute_result"
    }
   ],
   "source": [
    "data"
   ]
  },
  {
   "cell_type": "code",
   "execution_count": 8,
   "metadata": {},
   "outputs": [
    {
     "name": "stderr",
     "output_type": "stream",
     "text": [
      "/Users/mariannescoglio/anaconda3/envs/bio482/lib/python3.10/site-packages/sklearn/cluster/_kmeans.py:1416: FutureWarning: The default value of `n_init` will change from 10 to 'auto' in 1.4. Set the value of `n_init` explicitly to suppress the warning\n",
      "  super()._check_params_vs_input(X, default_n_init=10)\n"
     ]
    },
    {
     "data": {
      "image/png": "[encoded data removed]",
      "text/plain": [
       "<Figure size 1000x800 with 2 Axes>"
      ]
     },
     "metadata": {},
     "output_type": "display_data"
    }
   ],
   "source": [
    "import matplotlib.pyplot as plt\n",
    "from sklearn.manifold import TSNE\n",
    "\n",
    "# Step 1: Dimensionality Reduction using PCA\n",
    "pca = PCA(n_components=0.90, random_state=seed)  # Retain 95% of the variance\n",
    "data_pca = pca.fit_transform(data)\n",
    "\n",
    "# Step 2: Clustering using K-means\n",
    "kmeans = KMeans(n_clusters=4, random_state=seed)  # Example with 5 clusters\n",
    "clusters = kmeans.fit_predict(data_pca)\n",
    "\n",
    "# Step 3: Visualization using t-SNE\n",
    "tsne = TSNE(n_components=2, perplexity=30, learning_rate=200, random_state=seed)\n",
    "data_tsne = tsne.fit_transform(data_pca)\n",
    "\n",
    "# Plotting the t-SNE results\n",
    "plt.figure(figsize=(10, 8))\n",
    "plt.scatter(data_tsne[:, 0], data_tsne[:, 1], c=clusters, cmap='viridis')\n",
    "plt.title('t-SNE visualization of K-means clusters')\n",
    "plt.xlabel('t-SNE feature 1')\n",
    "plt.ylabel('t-SNE feature 2')\n",
    "plt.colorbar(label='Cluster Label')\n",
    "plt.show()\n"
   ]
  },
  {
   "cell_type": "code",
   "execution_count": 9,
   "metadata": {},
   "outputs": [
    {
     "data": {
      "image/png": "[encoded data removed]",
      "text/plain": [
       "<Figure size 1000x800 with 2 Axes>"
      ]
     },
     "metadata": {},
     "output_type": "display_data"
    }
   ],
   "source": [
    "import numpy as np\n",
    "import matplotlib.pyplot as plt\n",
    "from sklearn.metrics import confusion_matrix, accuracy_score, classification_report\n",
    "import seaborn as sns\n",
    "from sklearn.preprocessing import LabelEncoder\n",
    "\n",
    "label_encoder = LabelEncoder()\n",
    "labels = pd.Series(label_encoder.fit_transform(raw_data[\"cell_type\"]))\n",
    "# Creating a confusion matrix\n",
    "conf_matrix = confusion_matrix(labels, clusters)\n",
    "\n",
    "# Plotting the confusion matrix\n",
    "plt.figure(figsize=(10, 8))\n",
    "sns.heatmap(conf_matrix, annot=True, fmt='g', cmap='Blues', \n",
    "            xticklabels=['Cluster1', 'Cluster2', 'Cluster3', 'Cluster4'], \n",
    "            yticklabels=['EXC', 'PV', 'SST', 'VIP'])\n",
    "plt.xlabel('Predicted Clusters')\n",
    "plt.ylabel('True Cell Types')\n",
    "plt.title('Confusion Matrix')\n",
    "plt.show()"
   ]
  },
  {
   "cell_type": "code",
   "execution_count": 10,
   "metadata": {},
   "outputs": [
    {
     "name": "stdout",
     "output_type": "stream",
     "text": [
      "              precision    recall  f1-score   support\n",
      "\n",
      "         EXC       0.76      0.58      0.66       146\n",
      "          PV       0.77      0.95      0.85       121\n",
      "         SST       0.61      0.82      0.70       153\n",
      "         VIP       0.47      0.19      0.28        77\n",
      "\n",
      "    accuracy                           0.68       497\n",
      "   macro avg       0.65      0.63      0.62       497\n",
      "weighted avg       0.67      0.68      0.66       497\n",
      "\n"
     ]
    }
   ],
   "source": [
    "cluster_to_label_mapping = {0: 0, 3: 1, 1: 2, 2: 3}\n",
    "mapped_clusters = np.array([cluster_to_label_mapping[cluster] for cluster in clusters])\n",
    "\n",
    "# Calculating classification metrics\n",
    "report = classification_report(labels, mapped_clusters, target_names=['EXC', 'PV', 'SST', 'VIP'])\n",
    "\n",
    "print(report)"
   ]
  },
  {
   "cell_type": "code",
   "execution_count": 11,
   "metadata": {},
   "outputs": [
    {
     "data": {
      "image/png": "[encoded data removed]",
      "text/plain": [
       "<Figure size 1500x600 with 2 Axes>"
      ]
     },
     "metadata": {},
     "output_type": "display_data"
    }
   ],
   "source": [
    "import numpy as np\n",
    "import matplotlib.pyplot as plt\n",
    "import seaborn as sns\n",
    "\n",
    "# cluster_to_label_mapping = {0: 'EXC', 1: 'PV', 3: 'SST', 2: 'VIP'}\n",
    "# mapped_clusters = np.array([cluster_to_label_mapping[cluster] for cluster in clusters])\n",
    "\n",
    "# Plotting\n",
    "fig, axes = plt.subplots(1, 2, figsize=(15, 6))\n",
    "\n",
    "# Plot for true labels\n",
    "sns.scatterplot(x=data_tsne[:, 0], y=data_tsne[:, 1], hue=labels, palette='viridis', ax=axes[0])\n",
    "axes[0].set_title('t-SNE colored by True Labels')\n",
    "axes[0].set_xlabel('t-SNE feature 1')\n",
    "axes[0].set_ylabel('t-SNE feature 2')\n",
    "\n",
    "# Plot for k-means clusters\n",
    "sns.scatterplot(x=data_tsne[:, 0], y=data_tsne[:, 1], hue=mapped_clusters, palette='viridis', ax=axes[1])\n",
    "axes[1].set_title('t-SNE colored by K-means Clusters')\n",
    "axes[1].set_xlabel('t-SNE feature 1')\n",
    "axes[1].set_ylabel('t-SNE feature 2')\n",
    "\n",
    "plt.show()\n"
   ]
  }
 ],
 "metadata": {
  "kernelspec": {
   "display_name": "bio482",
   "language": "python",
   "name": "python3"
  },
  "language_info": {
   "codemirror_mode": {
    "name": "ipython",
    "version": 3
   },
   "file_extension": ".py",
   "mimetype": "text/x-python",
   "name": "python",
   "nbconvert_exporter": "python",
   "pygments_lexer": "ipython3",
   "version": "3.10.8"
  }
 },
 "nbformat": 4,
 "nbformat_minor": 2
}
