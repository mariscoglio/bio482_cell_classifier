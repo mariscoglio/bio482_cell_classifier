{
 "cells": [
  {
   "cell_type": "code",
   "execution_count": 1,
   "metadata": {},
   "outputs": [],
   "source": [
    "from copy import deepcopy\n",
    "\n",
    "import pandas as pd\n",
    "import numpy as np\n",
    "import seaborn as sns\n",
    "import matplotlib.pyplot as plt\n",
    "\n",
    "from neurasort.preprocessing import free_whisking_preprocessing_pipe"
   ]
  },
  {
   "cell_type": "markdown",
   "metadata": {},
   "source": [
    "# 0.0 Load raw prediction data for the free whisking setting"
   ]
  },
  {
   "cell_type": "code",
   "execution_count": 2,
   "metadata": {},
   "outputs": [
    {
     "data": {
      "text/html": [
       "<div>\n",
       "<style scoped>\n",
       "    .dataframe tbody tr th:only-of-type {\n",
       "        vertical-align: middle;\n",
       "    }\n",
       "\n",
       "    .dataframe tbody tr th {\n",
       "        vertical-align: top;\n",
       "    }\n",
       "\n",
       "    .dataframe thead th {\n",
       "        text-align: right;\n",
       "    }\n",
       "</style>\n",
       "<table border=\"1\" class=\"dataframe\">\n",
       "  <thead>\n",
       "    <tr style=\"text-align: right;\">\n",
       "      <th></th>\n",
       "      <th>cell_type</th>\n",
       "      <th>firing_rate</th>\n",
       "      <th>ap_threshold</th>\n",
       "      <th>ap_duration</th>\n",
       "      <th>mean_vm</th>\n",
       "      <th>std_vm</th>\n",
       "      <th>fft_low</th>\n",
       "      <th>fft_high</th>\n",
       "      <th>Cell_APThreshold_Slope</th>\n",
       "      <th>Cell_Depth</th>\n",
       "      <th>Cell_Layer</th>\n",
       "      <th>Cell_tdTomatoExpressing</th>\n",
       "    </tr>\n",
       "  </thead>\n",
       "  <tbody>\n",
       "    <tr>\n",
       "      <th>0</th>\n",
       "      <td>EXC</td>\n",
       "      <td>3.25</td>\n",
       "      <td>-0.028422</td>\n",
       "      <td>0.563846</td>\n",
       "      <td>-0.038375</td>\n",
       "      <td>0.005196</td>\n",
       "      <td>0.000043</td>\n",
       "      <td>0.000518</td>\n",
       "      <td>10.0</td>\n",
       "      <td>229.0</td>\n",
       "      <td>L2/3</td>\n",
       "      <td>False</td>\n",
       "    </tr>\n",
       "    <tr>\n",
       "      <th>1</th>\n",
       "      <td>EXC</td>\n",
       "      <td>0.20</td>\n",
       "      <td>-0.033953</td>\n",
       "      <td>1.012500</td>\n",
       "      <td>-0.049049</td>\n",
       "      <td>0.004335</td>\n",
       "      <td>0.000053</td>\n",
       "      <td>0.000485</td>\n",
       "      <td>10.0</td>\n",
       "      <td>350.0</td>\n",
       "      <td>L2/3</td>\n",
       "      <td>False</td>\n",
       "    </tr>\n",
       "    <tr>\n",
       "      <th>2</th>\n",
       "      <td>EXC</td>\n",
       "      <td>0.05</td>\n",
       "      <td>-0.039291</td>\n",
       "      <td>3.350000</td>\n",
       "      <td>-0.050940</td>\n",
       "      <td>0.005286</td>\n",
       "      <td>0.000063</td>\n",
       "      <td>0.000519</td>\n",
       "      <td>10.0</td>\n",
       "      <td>350.0</td>\n",
       "      <td>L2/3</td>\n",
       "      <td>False</td>\n",
       "    </tr>\n",
       "    <tr>\n",
       "      <th>3</th>\n",
       "      <td>EXC</td>\n",
       "      <td>0.00</td>\n",
       "      <td>0.000000</td>\n",
       "      <td>0.000000</td>\n",
       "      <td>-0.047544</td>\n",
       "      <td>0.004778</td>\n",
       "      <td>0.000057</td>\n",
       "      <td>0.000557</td>\n",
       "      <td>10.0</td>\n",
       "      <td>350.0</td>\n",
       "      <td>L2/3</td>\n",
       "      <td>False</td>\n",
       "    </tr>\n",
       "    <tr>\n",
       "      <th>4</th>\n",
       "      <td>EXC</td>\n",
       "      <td>0.15</td>\n",
       "      <td>-0.033361</td>\n",
       "      <td>1.733333</td>\n",
       "      <td>-0.046490</td>\n",
       "      <td>0.002881</td>\n",
       "      <td>0.000031</td>\n",
       "      <td>0.000403</td>\n",
       "      <td>10.0</td>\n",
       "      <td>244.0</td>\n",
       "      <td>L2/3</td>\n",
       "      <td>False</td>\n",
       "    </tr>\n",
       "    <tr>\n",
       "      <th>...</th>\n",
       "      <td>...</td>\n",
       "      <td>...</td>\n",
       "      <td>...</td>\n",
       "      <td>...</td>\n",
       "      <td>...</td>\n",
       "      <td>...</td>\n",
       "      <td>...</td>\n",
       "      <td>...</td>\n",
       "      <td>...</td>\n",
       "      <td>...</td>\n",
       "      <td>...</td>\n",
       "      <td>...</td>\n",
       "    </tr>\n",
       "    <tr>\n",
       "      <th>492</th>\n",
       "      <td>SST</td>\n",
       "      <td>6.60</td>\n",
       "      <td>-0.047992</td>\n",
       "      <td>0.564015</td>\n",
       "      <td>-0.056633</td>\n",
       "      <td>0.003752</td>\n",
       "      <td>0.000066</td>\n",
       "      <td>0.000438</td>\n",
       "      <td>20.0</td>\n",
       "      <td>196.0</td>\n",
       "      <td>L2/3</td>\n",
       "      <td>True</td>\n",
       "    </tr>\n",
       "    <tr>\n",
       "      <th>493</th>\n",
       "      <td>SST</td>\n",
       "      <td>6.80</td>\n",
       "      <td>-0.047427</td>\n",
       "      <td>0.578676</td>\n",
       "      <td>-0.056827</td>\n",
       "      <td>0.004175</td>\n",
       "      <td>0.000071</td>\n",
       "      <td>0.000514</td>\n",
       "      <td>20.0</td>\n",
       "      <td>196.0</td>\n",
       "      <td>L2/3</td>\n",
       "      <td>True</td>\n",
       "    </tr>\n",
       "    <tr>\n",
       "      <th>494</th>\n",
       "      <td>SST</td>\n",
       "      <td>7.50</td>\n",
       "      <td>-0.047400</td>\n",
       "      <td>0.589667</td>\n",
       "      <td>-0.056011</td>\n",
       "      <td>0.004038</td>\n",
       "      <td>0.000067</td>\n",
       "      <td>0.000460</td>\n",
       "      <td>20.0</td>\n",
       "      <td>196.0</td>\n",
       "      <td>L2/3</td>\n",
       "      <td>True</td>\n",
       "    </tr>\n",
       "    <tr>\n",
       "      <th>495</th>\n",
       "      <td>SST</td>\n",
       "      <td>5.50</td>\n",
       "      <td>-0.048279</td>\n",
       "      <td>0.580455</td>\n",
       "      <td>-0.056918</td>\n",
       "      <td>0.003525</td>\n",
       "      <td>0.000054</td>\n",
       "      <td>0.000430</td>\n",
       "      <td>20.0</td>\n",
       "      <td>196.0</td>\n",
       "      <td>L2/3</td>\n",
       "      <td>True</td>\n",
       "    </tr>\n",
       "    <tr>\n",
       "      <th>496</th>\n",
       "      <td>SST</td>\n",
       "      <td>7.15</td>\n",
       "      <td>-0.047629</td>\n",
       "      <td>0.591608</td>\n",
       "      <td>-0.056780</td>\n",
       "      <td>0.004055</td>\n",
       "      <td>0.000073</td>\n",
       "      <td>0.000469</td>\n",
       "      <td>20.0</td>\n",
       "      <td>196.0</td>\n",
       "      <td>L2/3</td>\n",
       "      <td>True</td>\n",
       "    </tr>\n",
       "  </tbody>\n",
       "</table>\n",
       "<p>497 rows × 12 columns</p>\n",
       "</div>"
      ],
      "text/plain": [
       "    cell_type  firing_rate  ap_threshold  ap_duration   mean_vm    std_vm  \\\n",
       "0         EXC         3.25     -0.028422     0.563846 -0.038375  0.005196   \n",
       "1         EXC         0.20     -0.033953     1.012500 -0.049049  0.004335   \n",
       "2         EXC         0.05     -0.039291     3.350000 -0.050940  0.005286   \n",
       "3         EXC         0.00      0.000000     0.000000 -0.047544  0.004778   \n",
       "4         EXC         0.15     -0.033361     1.733333 -0.046490  0.002881   \n",
       "..        ...          ...           ...          ...       ...       ...   \n",
       "492       SST         6.60     -0.047992     0.564015 -0.056633  0.003752   \n",
       "493       SST         6.80     -0.047427     0.578676 -0.056827  0.004175   \n",
       "494       SST         7.50     -0.047400     0.589667 -0.056011  0.004038   \n",
       "495       SST         5.50     -0.048279     0.580455 -0.056918  0.003525   \n",
       "496       SST         7.15     -0.047629     0.591608 -0.056780  0.004055   \n",
       "\n",
       "      fft_low  fft_high  Cell_APThreshold_Slope  Cell_Depth Cell_Layer  \\\n",
       "0    0.000043  0.000518                    10.0       229.0       L2/3   \n",
       "1    0.000053  0.000485                    10.0       350.0       L2/3   \n",
       "2    0.000063  0.000519                    10.0       350.0       L2/3   \n",
       "3    0.000057  0.000557                    10.0       350.0       L2/3   \n",
       "4    0.000031  0.000403                    10.0       244.0       L2/3   \n",
       "..        ...       ...                     ...         ...        ...   \n",
       "492  0.000066  0.000438                    20.0       196.0       L2/3   \n",
       "493  0.000071  0.000514                    20.0       196.0       L2/3   \n",
       "494  0.000067  0.000460                    20.0       196.0       L2/3   \n",
       "495  0.000054  0.000430                    20.0       196.0       L2/3   \n",
       "496  0.000073  0.000469                    20.0       196.0       L2/3   \n",
       "\n",
       "     Cell_tdTomatoExpressing  \n",
       "0                      False  \n",
       "1                      False  \n",
       "2                      False  \n",
       "3                      False  \n",
       "4                      False  \n",
       "..                       ...  \n",
       "492                     True  \n",
       "493                     True  \n",
       "494                     True  \n",
       "495                     True  \n",
       "496                     True  \n",
       "\n",
       "[497 rows x 12 columns]"
      ]
     },
     "execution_count": 2,
     "metadata": {},
     "output_type": "execute_result"
    }
   ],
   "source": [
    "# data_ohe_scaled_constant_free_filled = pd.read_csv(\"data_ohe_scaled_constant_free_filled.csv\")\n",
    "# data_ohe_scaled_constant_free_filled\n",
    "\n",
    "raw_predictors_free_whisking = pd.read_csv(\"raw_predictors_free_whisking.csv\")\n",
    "raw_predictors_free_whisking"
   ]
  },
  {
   "cell_type": "code",
   "execution_count": null,
   "metadata": {},
   "outputs": [],
   "source": [
    "#raw_predictors_free_whisking = raw_predictors_free_whisking.drop([\"Cell_tdTomatoExpressing\"], axis=1)"
   ]
  },
  {
   "cell_type": "code",
   "execution_count": null,
   "metadata": {},
   "outputs": [],
   "source": [
    "#raw_predictors_free_whisking"
   ]
  },
  {
   "cell_type": "markdown",
   "metadata": {},
   "source": [
    "# 0.1 Create the free whisking preprocessing pipeline"
   ]
  },
  {
   "cell_type": "code",
   "execution_count": 3,
   "metadata": {},
   "outputs": [],
   "source": [
    "preprocessing_pipe = free_whisking_preprocessing_pipe()"
   ]
  },
  {
   "cell_type": "markdown",
   "metadata": {},
   "source": [
    "# 0.2 Calculate the class weights"
   ]
  },
  {
   "cell_type": "code",
   "execution_count": 4,
   "metadata": {},
   "outputs": [
    {
     "data": {
      "text/plain": [
       "{'SST': 0.6921529175050302,\n",
       " 'EXC': 0.7062374245472838,\n",
       " 'PV': 0.7565392354124748,\n",
       " 'VIP': 0.8450704225352113}"
      ]
     },
     "execution_count": 4,
     "metadata": {},
     "output_type": "execute_result"
    }
   ],
   "source": [
    "class_weights = (1 - raw_predictors_free_whisking[\"cell_type\"].value_counts() / raw_predictors_free_whisking[\"cell_type\"].shape[0]).to_dict()\n",
    "class_weights"
   ]
  },
  {
   "cell_type": "markdown",
   "metadata": {},
   "source": [
    "# 0.3 Create list of models to test"
   ]
  },
  {
   "cell_type": "code",
   "execution_count": null,
   "metadata": {},
   "outputs": [],
   "source": [
    "from sklearn.linear_model import LogisticRegression\n",
    "from sklearn.ensemble import RandomForestClassifier, GradientBoostingClassifier, AdaBoostClassifier\n",
    "from sklearn.tree  import DecisionTreeClassifier\n",
    "from sklearn.svm import SVC, NuSVC, LinearSVC\n",
    "from sklearn.naive_bayes import GaussianNB"
   ]
  },
  {
   "cell_type": "code",
   "execution_count": null,
   "metadata": {},
   "outputs": [],
   "source": [
    "models = [\n",
    "    LogisticRegression(random_state=0, class_weight=class_weights),\n",
    "    RandomForestClassifier(random_state=0, class_weight=class_weights), \n",
    "    GradientBoostingClassifier(random_state=0), \n",
    "    AdaBoostClassifier(random_state=0),\n",
    "    DecisionTreeClassifier(random_state=0, class_weight=class_weights),\n",
    "    SVC(random_state=0, class_weight=class_weights), \n",
    "    NuSVC(random_state=0, class_weight=class_weights), \n",
    "    LinearSVC(random_state=0, class_weight=class_weights),\n",
    "    GaussianNB(),\n",
    "]"
   ]
  },
  {
   "cell_type": "markdown",
   "metadata": {},
   "source": [
    "# 1.0 Test all the models in the list"
   ]
  },
  {
   "cell_type": "code",
   "execution_count": null,
   "metadata": {},
   "outputs": [],
   "source": [
    "from sklearn.model_selection import StratifiedKFold\n",
    "from neurasort.model_eval import fit_models_get_CV_scores"
   ]
  },
  {
   "cell_type": "code",
   "execution_count": null,
   "metadata": {},
   "outputs": [],
   "source": [
    "cv_scores_df = fit_models_get_CV_scores(\n",
    "    models=models,\n",
    "    X = raw_predictors_free_whisking.drop(\"cell_type\", axis=1),\n",
    "    y = raw_predictors_free_whisking[\"cell_type\"],\n",
    "    cv = StratifiedKFold(n_splits=5, shuffle=True, random_state=0),\n",
    "    scoring={\n",
    "        \"f1\":\"f1_weighted\", \n",
    "        \"accuracy\":\"accuracy\",\n",
    "        \"recall\":\"recall_weighted\",\n",
    "        \"precision\":\"precision_weighted\"\n",
    "    },\n",
    "    preprocessing_pipe=preprocessing_pipe,\n",
    ")\n",
    "cv_scores_df"
   ]
  },
  {
   "cell_type": "markdown",
   "metadata": {},
   "source": [
    "# 1.1 Plot the results"
   ]
  },
  {
   "cell_type": "code",
   "execution_count": null,
   "metadata": {},
   "outputs": [],
   "source": [
    "import matplotlib.pyplot as plt"
   ]
  },
  {
   "cell_type": "code",
   "execution_count": null,
   "metadata": {},
   "outputs": [],
   "source": [
    "ax = sns.barplot(\n",
    "    data=cv_scores_df.melt(id_vars=['model', 'fold'], var_name='measurement', value_name='value'),\n",
    "    x=\"model\",\n",
    "    y=\"value\",\n",
    "    hue=\"measurement\"\n",
    ")\n",
    "ax.set_xticklabels(labels = ax.get_xticklabels() ,rotation = 45, ha=\"right\")\n",
    "ax.legend(loc='center left', bbox_to_anchor=(1, 0.5), fancybox=True, shadow=True)\n",
    "plt.show()"
   ]
  },
  {
   "cell_type": "markdown",
   "metadata": {},
   "source": [
    "# 1.2 Tune the 3 best models"
   ]
  },
  {
   "cell_type": "markdown",
   "metadata": {},
   "source": [
    "## 1.2.0 GradientBoostingClassifier"
   ]
  },
  {
   "cell_type": "code",
   "execution_count": null,
   "metadata": {},
   "outputs": [],
   "source": [
    "from skopt import BayesSearchCV\n",
    "from skopt.space import Real, Categorical, Integer\n",
    "from skopt.plots import plot_objective"
   ]
  },
  {
   "cell_type": "code",
   "execution_count": null,
   "metadata": {},
   "outputs": [],
   "source": [
    "clf_pipe = deepcopy(preprocessing_pipe)\n",
    "clf_pipe.steps.append(\n",
    "    (\"clf\", GradientBoostingClassifier(random_state=0))\n",
    ")\n",
    "clf_pipe"
   ]
  },
  {
   "cell_type": "code",
   "execution_count": null,
   "metadata": {},
   "outputs": [],
   "source": [
    "opt = BayesSearchCV(\n",
    "    clf_pipe,\n",
    "    {\n",
    "        \"clf__n_estimators\": Integer(10, 500),\n",
    "        # \"estimator\": Categorical(\n",
    "        #     [None, RandomForestClassifier(random_state=0)]\n",
    "        # ),\n",
    "        \"clf__learning_rate\": Real(1e-3, 1, \"log-uniform\"),\n",
    "    },\n",
    "    n_iter=75,\n",
    "    cv=StratifiedKFold(n_splits=5, shuffle=True, random_state=0),\n",
    "    random_state=0,\n",
    "    scoring=\"f1_weighted\",\n",
    ")\n",
    "opt.fit(\n",
    "    X = raw_predictors_free_whisking.drop(\"cell_type\", axis=1), \n",
    "    y = raw_predictors_free_whisking[\"cell_type\"]\n",
    ")"
   ]
  },
  {
   "cell_type": "code",
   "execution_count": null,
   "metadata": {},
   "outputs": [],
   "source": [
    "plot_objective(opt.optimizer_results_[0])"
   ]
  },
  {
   "cell_type": "code",
   "execution_count": null,
   "metadata": {},
   "outputs": [],
   "source": [
    "opt.best_score_, opt.best_params_"
   ]
  },
  {
   "cell_type": "markdown",
   "metadata": {},
   "source": [
    "## 1.2.1 SVC"
   ]
  },
  {
   "cell_type": "code",
   "execution_count": null,
   "metadata": {},
   "outputs": [],
   "source": [
    "clf_pipe = deepcopy(preprocessing_pipe)\n",
    "clf_pipe.steps.append(\n",
    "    (\"clf\", SVC(random_state=0))\n",
    ")\n",
    "opt = BayesSearchCV(\n",
    "    clf_pipe,\n",
    "    {\n",
    "        \"clf__gamma\": Categorical(['scale', 'auto']),\n",
    "        \"clf__kernel\": Categorical(\n",
    "            ['linear', 'poly', 'rbf', 'sigmoid']\n",
    "        ),\n",
    "        \"clf__C\": Real(1, 10, \"uniform\"),\n",
    "    },\n",
    "    n_iter=60,\n",
    "    cv=StratifiedKFold(n_splits=5, shuffle=True, random_state=0),\n",
    "    random_state=0,\n",
    "    scoring=\"f1_weighted\",\n",
    ")\n",
    "opt.fit(\n",
    "    X = raw_predictors_free_whisking.drop(\"cell_type\", axis=1), \n",
    "    y = raw_predictors_free_whisking[\"cell_type\"]\n",
    ")\n",
    "plot_objective(opt.optimizer_results_[0])\n",
    "plt.show()\n",
    "opt.best_score_, opt.best_params_"
   ]
  },
  {
   "cell_type": "markdown",
   "metadata": {},
   "source": [
    "## 1.2.2 RandomForestClassifier"
   ]
  },
  {
   "cell_type": "code",
   "execution_count": null,
   "metadata": {},
   "outputs": [],
   "source": [
    "clf_pipe = deepcopy(preprocessing_pipe)\n",
    "clf_pipe.steps.append(\n",
    "    (\"clf\", RandomForestClassifier(random_state=0, class_weight=class_weights))\n",
    ")\n",
    "opt = BayesSearchCV(\n",
    "    clf_pipe,\n",
    "    {\n",
    "        \"clf__n_estimators\": Integer(10, 500),\n",
    "        \"clf__criterion\": Categorical(['gini', 'entropy', 'log_loss']),\n",
    "    },\n",
    "    n_iter=30,\n",
    "    cv=StratifiedKFold(n_splits=5, shuffle=True, random_state=0),\n",
    "    random_state=0,\n",
    "    scoring=\"f1_weighted\",\n",
    ")\n",
    "opt.fit(\n",
    "    X = raw_predictors_free_whisking.drop(\"cell_type\", axis=1), \n",
    "    y = raw_predictors_free_whisking[\"cell_type\"]\n",
    ")\n",
    "plot_objective(opt.optimizer_results_[0])\n",
    "plt.show()\n",
    "opt.best_score_, opt.best_params_"
   ]
  },
  {
   "cell_type": "markdown",
   "metadata": {},
   "source": [
    "# 2.0 Test a Neural Network"
   ]
  },
  {
   "cell_type": "code",
   "execution_count": 5,
   "metadata": {},
   "outputs": [],
   "source": [
    "from sklearn.preprocessing import LabelEncoder\n",
    "from sklearn.model_selection import train_test_split\n",
    "from sklearn.metrics import f1_score"
   ]
  },
  {
   "cell_type": "code",
   "execution_count": 6,
   "metadata": {},
   "outputs": [
    {
     "data": {
      "text/plain": [
       "2    0.692153\n",
       "0    0.706237\n",
       "1    0.756539\n",
       "3    0.845070\n",
       "Name: count, dtype: float64"
      ]
     },
     "execution_count": 6,
     "metadata": {},
     "output_type": "execute_result"
    }
   ],
   "source": [
    "label_encoder = LabelEncoder()\n",
    "y = pd.Series(label_encoder.fit_transform(raw_predictors_free_whisking[\"cell_type\"]))\n",
    "X_train, X_test, y_train, y_test = train_test_split(\n",
    "    raw_predictors_free_whisking.drop(\"cell_type\", axis=1), \n",
    "    y, \n",
    "    test_size=0.33, \n",
    "    random_state=42\n",
    ")\n",
    "X_train = preprocessing_pipe.fit_transform(X_train)\n",
    "X_test = preprocessing_pipe.transform(X_test)\n",
    "\n",
    "class_weights = (1 - y.value_counts() / y.shape[0])\n",
    "class_weights"
   ]
  },
  {
   "cell_type": "markdown",
   "metadata": {},
   "source": [
    "## 2.1 With Pytorch"
   ]
  },
  {
   "cell_type": "code",
   "execution_count": null,
   "metadata": {},
   "outputs": [],
   "source": [
    "from neurasort.sktorch import FeedForwardExample\n",
    "import torch.nn as nn\n",
    "import torch"
   ]
  },
  {
   "cell_type": "code",
   "execution_count": null,
   "metadata": {},
   "outputs": [],
   "source": [
    "torch_class_weights = torch.tensor(list(class_weights.values()))\n",
    "torch_class_weights"
   ]
  },
  {
   "cell_type": "code",
   "execution_count": null,
   "metadata": {},
   "outputs": [],
   "source": [
    "import random\n",
    "\n",
    "random_state = 0\n",
    "# Reproducibility\n",
    "random.seed(random_state)\n",
    "np.random.seed(random_state)\n",
    "torch.use_deterministic_algorithms(True)\n",
    "\n",
    "\n",
    "nn_model = FeedForwardExample(\n",
    "    num_epochs=100,\n",
    "    optimizer_class=torch.optim.AdamW,\n",
    "    loss_function=nn.CrossEntropyLoss(weight=torch_class_weights),\n",
    "    batch_size=64,\n",
    "    lr=1e-4,\n",
    "    save_train_loss=True,\n",
    "    num_classes=4,\n",
    ")\n",
    "nn_model.fit(\n",
    "    X = X_train,\n",
    "    y = y_train,\n",
    "    X_val=X_test,\n",
    "    y_val=y_test,\n",
    ")\n",
    "plt.plot(nn_model.training_loss, label=\"training set\")\n",
    "plt.plot(nn_model.validation_loss, label=\"validation set\")\n",
    "plt.xlabel(\"epochs\")\n",
    "plt.ylabel(\"cross-entropy loss\")\n",
    "plt.legend()\n",
    "f1_score(y_train, nn_model.predict(X_train), average=\"weighted\"), f1_score(y_test, nn_model.predict(X_test), average=\"weighted\")"
   ]
  },
  {
   "cell_type": "code",
   "execution_count": null,
   "metadata": {},
   "outputs": [],
   "source": [
    "import random\n",
    "\n",
    "random_state = 0\n",
    "# Reproducibility\n",
    "random.seed(random_state)\n",
    "np.random.seed(random_state)\n",
    "print(torch.seed())\n",
    "torch.use_deterministic_algorithms(True)\n",
    "\n",
    "\n",
    "nn_model = FeedForwardExample(\n",
    "    num_epochs=100,\n",
    "    optimizer_class=torch.optim.AdamW,\n",
    "    loss_function=nn.CrossEntropyLoss(weight=torch_class_weights),\n",
    "    batch_size=64,\n",
    "    lr=1e-4,\n",
    "    save_train_loss=True,\n",
    "    num_classes=4,\n",
    ")\n",
    "nn_model.fit(\n",
    "    X = X_train,\n",
    "    y = y_train,\n",
    "    X_val=X_test,\n",
    "    y_val=y_test,\n",
    ")\n",
    "plt.plot(nn_model.training_loss, label=\"training set\")\n",
    "plt.plot(nn_model.validation_loss, label=\"validation set\")\n",
    "plt.xlabel(\"epochs\")\n",
    "plt.ylabel(\"cross-entropy loss\")\n",
    "plt.legend()\n",
    "f1_score(y_train, nn_model.predict(X_train), average=\"weighted\"), f1_score(y_test, nn_model.predict(X_test), average=\"weighted\")"
   ]
  },
  {
   "cell_type": "markdown",
   "metadata": {},
   "source": [
    "## 2.2 With Keras & TF"
   ]
  },
  {
   "cell_type": "code",
   "execution_count": 7,
   "metadata": {},
   "outputs": [],
   "source": [
    "from scikeras.wrappers import KerasRegressor, KerasClassifier\n",
    "from neurasort.model_tf import create_model\n",
    "from keras.utils import to_categorical\n",
    "import tensorflow as tf"
   ]
  },
  {
   "cell_type": "code",
   "execution_count": 8,
   "metadata": {},
   "outputs": [],
   "source": [
    "tf.keras.utils.set_random_seed(\n",
    "    42\n",
    ")\n",
    "\n",
    "y_train_one_hot = to_categorical(y_train, num_classes=4)\n",
    "y_test_one_hot = to_categorical(y_test, num_classes=4)"
   ]
  },
  {
   "cell_type": "code",
   "execution_count": 9,
   "metadata": {},
   "outputs": [
    {
     "name": "stderr",
     "output_type": "stream",
     "text": [
      "2023-12-12 12:08:14.465378: I metal_plugin/src/device/metal_device.cc:1154] Metal device set to: Apple M2 Pro\n",
      "2023-12-12 12:08:14.465396: I metal_plugin/src/device/metal_device.cc:296] systemMemory: 16.00 GB\n",
      "2023-12-12 12:08:14.465400: I metal_plugin/src/device/metal_device.cc:313] maxCacheSize: 5.33 GB\n",
      "2023-12-12 12:08:14.465430: I tensorflow/core/common_runtime/pluggable_device/pluggable_device_factory.cc:306] Could not identify NUMA node of platform GPU ID 0, defaulting to 0. Your kernel may not have been built with NUMA support.\n",
      "2023-12-12 12:08:14.465444: I tensorflow/core/common_runtime/pluggable_device/pluggable_device_factory.cc:272] Created TensorFlow device (/job:localhost/replica:0/task:0/device:GPU:0 with 0 MB memory) -> physical PluggableDevice (device: 0, name: METAL, pci bus id: <undefined>)\n"
     ]
    }
   ],
   "source": [
    "clf_tf = KerasClassifier(\n",
    "     build_fn=create_model(lr=1e-4, optimizer='adam'),\n",
    "     verbose=1\n",
    ")\n",
    "\n",
    "#clf = create_model()"
   ]
  },
  {
   "cell_type": "code",
   "execution_count": 10,
   "metadata": {},
   "outputs": [
    {
     "name": "stdout",
     "output_type": "stream",
     "text": [
      "Epoch 1/115\n"
     ]
    },
    {
     "name": "stderr",
     "output_type": "stream",
     "text": [
      "/Users/mariannescoglio/anaconda3/envs/bio482/lib/python3.10/site-packages/scikeras/wrappers.py:915: UserWarning: ``build_fn`` will be renamed to ``model`` in a future release, at which point use of ``build_fn`` will raise an Error instead.\n",
      "  X, y = self._initialize(X, y)\n"
     ]
    },
    {
     "name": "stdout",
     "output_type": "stream",
     "text": [
      " 1/21 [>.............................] - ETA: 7s - loss: 1.3761 - f1_score: 0.2212"
     ]
    },
    {
     "name": "stderr",
     "output_type": "stream",
     "text": [
      "2023-12-12 12:08:15.758273: I tensorflow/core/grappler/optimizers/custom_graph_optimizer_registry.cc:117] Plugin optimizer for device_type GPU is enabled.\n"
     ]
    },
    {
     "name": "stdout",
     "output_type": "stream",
     "text": [
      "21/21 [==============================] - 1s 27ms/step - loss: 1.3221 - f1_score: 0.2486 - val_loss: 1.2548 - val_f1_score: 0.3498\n",
      "Epoch 2/115\n",
      "21/21 [==============================] - 0s 13ms/step - loss: 1.2710 - f1_score: 0.3835 - val_loss: 1.2126 - val_f1_score: 0.4108\n",
      "Epoch 3/115\n",
      "21/21 [==============================] - 0s 14ms/step - loss: 1.2285 - f1_score: 0.4298 - val_loss: 1.1823 - val_f1_score: 0.4639\n",
      "Epoch 4/115\n",
      "21/21 [==============================] - 0s 12ms/step - loss: 1.1939 - f1_score: 0.4531 - val_loss: 1.1551 - val_f1_score: 0.4727\n",
      "Epoch 5/115\n",
      "21/21 [==============================] - 0s 12ms/step - loss: 1.1629 - f1_score: 0.4542 - val_loss: 1.1327 - val_f1_score: 0.4846\n",
      "Epoch 6/115\n",
      "21/21 [==============================] - 0s 12ms/step - loss: 1.1352 - f1_score: 0.4823 - val_loss: 1.1095 - val_f1_score: 0.4950\n",
      "Epoch 7/115\n",
      "21/21 [==============================] - 0s 12ms/step - loss: 1.1104 - f1_score: 0.4949 - val_loss: 1.0882 - val_f1_score: 0.5145\n",
      "Epoch 8/115\n",
      "21/21 [==============================] - 0s 12ms/step - loss: 1.0871 - f1_score: 0.5175 - val_loss: 1.0716 - val_f1_score: 0.5618\n",
      "Epoch 9/115\n",
      "21/21 [==============================] - 0s 12ms/step - loss: 1.0652 - f1_score: 0.5539 - val_loss: 1.0494 - val_f1_score: 0.5998\n",
      "Epoch 10/115\n",
      "21/21 [==============================] - 0s 12ms/step - loss: 1.0440 - f1_score: 0.5890 - val_loss: 1.0325 - val_f1_score: 0.6316\n",
      "Epoch 11/115\n",
      "21/21 [==============================] - 0s 14ms/step - loss: 1.0244 - f1_score: 0.5816 - val_loss: 1.0172 - val_f1_score: 0.6394\n",
      "Epoch 12/115\n",
      "21/21 [==============================] - 0s 13ms/step - loss: 1.0051 - f1_score: 0.6161 - val_loss: 0.9972 - val_f1_score: 0.6732\n",
      "Epoch 13/115\n",
      "21/21 [==============================] - 0s 13ms/step - loss: 0.9865 - f1_score: 0.6269 - val_loss: 0.9792 - val_f1_score: 0.6632\n",
      "Epoch 14/115\n",
      "21/21 [==============================] - 0s 14ms/step - loss: 0.9691 - f1_score: 0.6361 - val_loss: 0.9615 - val_f1_score: 0.6702\n",
      "Epoch 15/115\n",
      "21/21 [==============================] - 0s 12ms/step - loss: 0.9516 - f1_score: 0.6685 - val_loss: 0.9482 - val_f1_score: 0.6794\n",
      "Epoch 16/115\n",
      "21/21 [==============================] - 0s 12ms/step - loss: 0.9346 - f1_score: 0.6992 - val_loss: 0.9267 - val_f1_score: 0.6855\n",
      "Epoch 17/115\n",
      "21/21 [==============================] - 0s 12ms/step - loss: 0.9177 - f1_score: 0.7149 - val_loss: 0.9109 - val_f1_score: 0.6911\n",
      "Epoch 18/115\n",
      "21/21 [==============================] - 0s 12ms/step - loss: 0.9017 - f1_score: 0.7523 - val_loss: 0.8966 - val_f1_score: 0.7187\n",
      "Epoch 19/115\n",
      "21/21 [==============================] - 0s 14ms/step - loss: 0.8848 - f1_score: 0.7630 - val_loss: 0.8781 - val_f1_score: 0.7177\n",
      "Epoch 20/115\n",
      "21/21 [==============================] - 0s 13ms/step - loss: 0.8689 - f1_score: 0.7588 - val_loss: 0.8557 - val_f1_score: 0.7117\n",
      "Epoch 21/115\n",
      "21/21 [==============================] - 0s 14ms/step - loss: 0.8535 - f1_score: 0.7630 - val_loss: 0.8418 - val_f1_score: 0.7433\n",
      "Epoch 22/115\n",
      "21/21 [==============================] - 0s 14ms/step - loss: 0.8384 - f1_score: 0.7683 - val_loss: 0.8269 - val_f1_score: 0.7482\n",
      "Epoch 23/115\n",
      "21/21 [==============================] - 0s 12ms/step - loss: 0.8234 - f1_score: 0.7654 - val_loss: 0.8108 - val_f1_score: 0.7537\n",
      "Epoch 24/115\n",
      "21/21 [==============================] - 0s 12ms/step - loss: 0.8081 - f1_score: 0.7751 - val_loss: 0.7937 - val_f1_score: 0.7712\n",
      "Epoch 25/115\n",
      "21/21 [==============================] - 0s 12ms/step - loss: 0.7936 - f1_score: 0.7707 - val_loss: 0.7761 - val_f1_score: 0.7906\n",
      "Epoch 26/115\n",
      "21/21 [==============================] - 0s 12ms/step - loss: 0.7804 - f1_score: 0.7909 - val_loss: 0.7620 - val_f1_score: 0.7844\n",
      "Epoch 27/115\n",
      "21/21 [==============================] - 0s 12ms/step - loss: 0.7660 - f1_score: 0.7829 - val_loss: 0.7468 - val_f1_score: 0.8090\n",
      "Epoch 28/115\n",
      "21/21 [==============================] - 0s 12ms/step - loss: 0.7520 - f1_score: 0.7852 - val_loss: 0.7337 - val_f1_score: 0.7967\n",
      "Epoch 29/115\n",
      "21/21 [==============================] - 0s 12ms/step - loss: 0.7394 - f1_score: 0.7735 - val_loss: 0.7207 - val_f1_score: 0.7967\n",
      "Epoch 30/115\n",
      "21/21 [==============================] - 0s 11ms/step - loss: 0.7255 - f1_score: 0.7846 - val_loss: 0.7016 - val_f1_score: 0.8228\n",
      "Epoch 31/115\n",
      "21/21 [==============================] - 0s 13ms/step - loss: 0.7119 - f1_score: 0.7965 - val_loss: 0.6888 - val_f1_score: 0.8169\n",
      "Epoch 32/115\n",
      "21/21 [==============================] - 0s 14ms/step - loss: 0.6991 - f1_score: 0.7913 - val_loss: 0.6777 - val_f1_score: 0.8227\n",
      "Epoch 33/115\n",
      "21/21 [==============================] - 0s 11ms/step - loss: 0.6863 - f1_score: 0.8007 - val_loss: 0.6619 - val_f1_score: 0.8227\n",
      "Epoch 34/115\n",
      "21/21 [==============================] - 0s 12ms/step - loss: 0.6750 - f1_score: 0.8052 - val_loss: 0.6478 - val_f1_score: 0.8282\n",
      "Epoch 35/115\n",
      "21/21 [==============================] - 0s 14ms/step - loss: 0.6625 - f1_score: 0.8002 - val_loss: 0.6404 - val_f1_score: 0.8212\n",
      "Epoch 36/115\n",
      "21/21 [==============================] - 0s 12ms/step - loss: 0.6503 - f1_score: 0.8204 - val_loss: 0.6287 - val_f1_score: 0.8282\n",
      "Epoch 37/115\n",
      "21/21 [==============================] - 0s 11ms/step - loss: 0.6386 - f1_score: 0.8129 - val_loss: 0.6145 - val_f1_score: 0.8212\n",
      "Epoch 38/115\n",
      "21/21 [==============================] - 0s 11ms/step - loss: 0.6283 - f1_score: 0.8120 - val_loss: 0.6063 - val_f1_score: 0.8217\n",
      "Epoch 39/115\n",
      "21/21 [==============================] - 0s 12ms/step - loss: 0.6174 - f1_score: 0.8203 - val_loss: 0.5952 - val_f1_score: 0.8465\n",
      "Epoch 40/115\n",
      "21/21 [==============================] - 0s 13ms/step - loss: 0.6047 - f1_score: 0.8321 - val_loss: 0.5815 - val_f1_score: 0.8475\n",
      "Epoch 41/115\n",
      "21/21 [==============================] - 0s 12ms/step - loss: 0.5954 - f1_score: 0.8351 - val_loss: 0.5693 - val_f1_score: 0.8475\n",
      "Epoch 42/115\n",
      "21/21 [==============================] - 0s 11ms/step - loss: 0.5852 - f1_score: 0.8455 - val_loss: 0.5662 - val_f1_score: 0.8596\n",
      "Epoch 43/115\n",
      "21/21 [==============================] - 0s 11ms/step - loss: 0.5744 - f1_score: 0.8325 - val_loss: 0.5542 - val_f1_score: 0.8535\n",
      "Epoch 44/115\n",
      "21/21 [==============================] - 0s 13ms/step - loss: 0.5653 - f1_score: 0.8507 - val_loss: 0.5460 - val_f1_score: 0.8535\n",
      "Epoch 45/115\n",
      "21/21 [==============================] - 0s 14ms/step - loss: 0.5556 - f1_score: 0.8516 - val_loss: 0.5382 - val_f1_score: 0.8593\n",
      "Epoch 46/115\n",
      "21/21 [==============================] - 0s 12ms/step - loss: 0.5467 - f1_score: 0.8449 - val_loss: 0.5281 - val_f1_score: 0.8598\n",
      "Epoch 47/115\n",
      "21/21 [==============================] - 0s 12ms/step - loss: 0.5379 - f1_score: 0.8516 - val_loss: 0.5214 - val_f1_score: 0.8598\n",
      "Epoch 48/115\n",
      "21/21 [==============================] - 0s 12ms/step - loss: 0.5291 - f1_score: 0.8516 - val_loss: 0.5119 - val_f1_score: 0.8598\n",
      "Epoch 49/115\n",
      "21/21 [==============================] - 0s 13ms/step - loss: 0.5210 - f1_score: 0.8642 - val_loss: 0.5095 - val_f1_score: 0.8599\n",
      "Epoch 50/115\n",
      "21/21 [==============================] - 0s 13ms/step - loss: 0.5133 - f1_score: 0.8553 - val_loss: 0.5010 - val_f1_score: 0.8659\n",
      "Epoch 51/115\n",
      "21/21 [==============================] - 0s 14ms/step - loss: 0.5048 - f1_score: 0.8460 - val_loss: 0.4956 - val_f1_score: 0.8599\n",
      "Epoch 52/115\n",
      "21/21 [==============================] - 0s 13ms/step - loss: 0.4984 - f1_score: 0.8611 - val_loss: 0.4881 - val_f1_score: 0.8599\n",
      "Epoch 53/115\n",
      "21/21 [==============================] - 0s 14ms/step - loss: 0.4927 - f1_score: 0.8644 - val_loss: 0.4815 - val_f1_score: 0.8599\n",
      "Epoch 54/115\n",
      "21/21 [==============================] - 0s 12ms/step - loss: 0.4843 - f1_score: 0.8490 - val_loss: 0.4815 - val_f1_score: 0.8599\n",
      "Epoch 55/115\n",
      "21/21 [==============================] - 0s 15ms/step - loss: 0.4774 - f1_score: 0.8701 - val_loss: 0.4705 - val_f1_score: 0.8599\n",
      "Epoch 56/115\n",
      "21/21 [==============================] - 0s 12ms/step - loss: 0.4699 - f1_score: 0.8672 - val_loss: 0.4647 - val_f1_score: 0.8599\n",
      "Epoch 57/115\n",
      "21/21 [==============================] - 0s 11ms/step - loss: 0.4637 - f1_score: 0.8645 - val_loss: 0.4584 - val_f1_score: 0.8599\n",
      "Epoch 58/115\n",
      "21/21 [==============================] - 0s 11ms/step - loss: 0.4578 - f1_score: 0.8580 - val_loss: 0.4581 - val_f1_score: 0.8599\n",
      "Epoch 59/115\n",
      "21/21 [==============================] - 0s 11ms/step - loss: 0.4505 - f1_score: 0.8707 - val_loss: 0.4511 - val_f1_score: 0.8599\n",
      "Epoch 60/115\n",
      "21/21 [==============================] - 0s 11ms/step - loss: 0.4443 - f1_score: 0.8731 - val_loss: 0.4458 - val_f1_score: 0.8599\n",
      "Epoch 61/115\n",
      "21/21 [==============================] - 0s 11ms/step - loss: 0.4394 - f1_score: 0.8838 - val_loss: 0.4437 - val_f1_score: 0.8665\n",
      "Epoch 62/115\n",
      "21/21 [==============================] - 0s 12ms/step - loss: 0.4326 - f1_score: 0.8749 - val_loss: 0.4377 - val_f1_score: 0.8665\n",
      "Epoch 63/115\n",
      "21/21 [==============================] - 0s 12ms/step - loss: 0.4272 - f1_score: 0.8802 - val_loss: 0.4372 - val_f1_score: 0.8776\n",
      "Epoch 64/115\n",
      "21/21 [==============================] - 0s 12ms/step - loss: 0.4212 - f1_score: 0.8814 - val_loss: 0.4304 - val_f1_score: 0.8777\n",
      "Epoch 65/115\n",
      "21/21 [==============================] - 0s 11ms/step - loss: 0.4169 - f1_score: 0.8837 - val_loss: 0.4229 - val_f1_score: 0.8777\n",
      "Epoch 66/115\n",
      "21/21 [==============================] - 0s 12ms/step - loss: 0.4120 - f1_score: 0.8833 - val_loss: 0.4195 - val_f1_score: 0.8841\n",
      "Epoch 67/115\n",
      "21/21 [==============================] - 0s 13ms/step - loss: 0.4056 - f1_score: 0.8861 - val_loss: 0.4173 - val_f1_score: 0.8841\n",
      "Epoch 68/115\n",
      "21/21 [==============================] - 0s 12ms/step - loss: 0.4023 - f1_score: 0.8901 - val_loss: 0.4130 - val_f1_score: 0.8837\n",
      "Epoch 69/115\n",
      "21/21 [==============================] - 0s 14ms/step - loss: 0.3980 - f1_score: 0.8881 - val_loss: 0.4177 - val_f1_score: 0.8776\n",
      "Epoch 70/115\n",
      "21/21 [==============================] - 0s 12ms/step - loss: 0.3920 - f1_score: 0.9012 - val_loss: 0.4117 - val_f1_score: 0.8776\n",
      "Epoch 71/115\n",
      "21/21 [==============================] - 0s 11ms/step - loss: 0.3892 - f1_score: 0.8971 - val_loss: 0.4039 - val_f1_score: 0.8901\n",
      "Epoch 72/115\n",
      "21/21 [==============================] - 0s 11ms/step - loss: 0.3843 - f1_score: 0.8972 - val_loss: 0.4005 - val_f1_score: 0.8961\n",
      "Epoch 73/115\n",
      "21/21 [==============================] - 0s 12ms/step - loss: 0.3822 - f1_score: 0.8953 - val_loss: 0.4039 - val_f1_score: 0.8842\n",
      "Epoch 74/115\n",
      "21/21 [==============================] - 0s 12ms/step - loss: 0.3743 - f1_score: 0.8984 - val_loss: 0.3987 - val_f1_score: 0.8901\n",
      "Epoch 75/115\n",
      "21/21 [==============================] - 0s 12ms/step - loss: 0.3698 - f1_score: 0.9072 - val_loss: 0.3953 - val_f1_score: 0.8901\n",
      "Epoch 76/115\n",
      "21/21 [==============================] - 0s 12ms/step - loss: 0.3664 - f1_score: 0.9038 - val_loss: 0.3944 - val_f1_score: 0.8842\n",
      "Epoch 77/115\n",
      "21/21 [==============================] - 0s 13ms/step - loss: 0.3642 - f1_score: 0.9072 - val_loss: 0.3928 - val_f1_score: 0.8901\n",
      "Epoch 78/115\n",
      "21/21 [==============================] - 0s 12ms/step - loss: 0.3590 - f1_score: 0.9040 - val_loss: 0.3862 - val_f1_score: 0.8901\n",
      "Epoch 79/115\n",
      "21/21 [==============================] - 0s 14ms/step - loss: 0.3559 - f1_score: 0.9109 - val_loss: 0.3900 - val_f1_score: 0.8900\n",
      "Epoch 80/115\n",
      "21/21 [==============================] - 0s 13ms/step - loss: 0.3501 - f1_score: 0.9014 - val_loss: 0.3862 - val_f1_score: 0.8960\n",
      "Epoch 81/115\n",
      "21/21 [==============================] - 0s 13ms/step - loss: 0.3487 - f1_score: 0.9112 - val_loss: 0.3840 - val_f1_score: 0.8960\n",
      "Epoch 82/115\n",
      "21/21 [==============================] - 0s 11ms/step - loss: 0.3446 - f1_score: 0.9109 - val_loss: 0.3829 - val_f1_score: 0.8960\n",
      "Epoch 83/115\n",
      "21/21 [==============================] - 0s 11ms/step - loss: 0.3411 - f1_score: 0.9077 - val_loss: 0.3764 - val_f1_score: 0.8960\n",
      "Epoch 84/115\n",
      "21/21 [==============================] - 0s 11ms/step - loss: 0.3390 - f1_score: 0.9142 - val_loss: 0.3785 - val_f1_score: 0.8960\n",
      "Epoch 85/115\n",
      "21/21 [==============================] - 0s 11ms/step - loss: 0.3354 - f1_score: 0.9176 - val_loss: 0.3788 - val_f1_score: 0.8960\n",
      "Epoch 86/115\n",
      "21/21 [==============================] - 0s 11ms/step - loss: 0.3307 - f1_score: 0.9177 - val_loss: 0.3735 - val_f1_score: 0.9088\n",
      "Epoch 87/115\n",
      "21/21 [==============================] - 0s 11ms/step - loss: 0.3281 - f1_score: 0.9206 - val_loss: 0.3742 - val_f1_score: 0.8960\n",
      "Epoch 88/115\n",
      "21/21 [==============================] - 0s 11ms/step - loss: 0.3253 - f1_score: 0.9109 - val_loss: 0.3728 - val_f1_score: 0.8960\n",
      "Epoch 89/115\n",
      "21/21 [==============================] - 0s 11ms/step - loss: 0.3217 - f1_score: 0.9240 - val_loss: 0.3752 - val_f1_score: 0.9088\n",
      "Epoch 90/115\n",
      "21/21 [==============================] - 0s 11ms/step - loss: 0.3193 - f1_score: 0.9271 - val_loss: 0.3696 - val_f1_score: 0.9024\n",
      "Epoch 91/115\n",
      "21/21 [==============================] - 0s 11ms/step - loss: 0.3170 - f1_score: 0.9270 - val_loss: 0.3699 - val_f1_score: 0.8964\n",
      "Epoch 92/115\n",
      "21/21 [==============================] - 0s 11ms/step - loss: 0.3147 - f1_score: 0.9300 - val_loss: 0.3683 - val_f1_score: 0.9024\n",
      "Epoch 93/115\n",
      "21/21 [==============================] - 0s 11ms/step - loss: 0.3102 - f1_score: 0.9302 - val_loss: 0.3702 - val_f1_score: 0.8964\n",
      "Epoch 94/115\n",
      "21/21 [==============================] - 0s 11ms/step - loss: 0.3098 - f1_score: 0.9302 - val_loss: 0.3691 - val_f1_score: 0.8964\n",
      "Epoch 95/115\n",
      "21/21 [==============================] - 0s 11ms/step - loss: 0.3054 - f1_score: 0.9333 - val_loss: 0.3651 - val_f1_score: 0.9088\n",
      "Epoch 96/115\n",
      "21/21 [==============================] - 0s 11ms/step - loss: 0.3032 - f1_score: 0.9302 - val_loss: 0.3696 - val_f1_score: 0.9092\n",
      "Epoch 97/115\n",
      "21/21 [==============================] - 0s 11ms/step - loss: 0.3010 - f1_score: 0.9302 - val_loss: 0.3634 - val_f1_score: 0.9028\n",
      "Epoch 98/115\n",
      "21/21 [==============================] - 0s 11ms/step - loss: 0.2989 - f1_score: 0.9270 - val_loss: 0.3652 - val_f1_score: 0.9092\n",
      "Epoch 99/115\n",
      "21/21 [==============================] - 0s 11ms/step - loss: 0.2961 - f1_score: 0.9272 - val_loss: 0.3688 - val_f1_score: 0.9092\n",
      "Epoch 100/115\n",
      "21/21 [==============================] - 0s 11ms/step - loss: 0.2962 - f1_score: 0.9303 - val_loss: 0.3604 - val_f1_score: 0.9092\n",
      "Epoch 101/115\n",
      "21/21 [==============================] - 0s 11ms/step - loss: 0.2932 - f1_score: 0.9242 - val_loss: 0.3681 - val_f1_score: 0.9028\n",
      "Epoch 102/115\n",
      "21/21 [==============================] - 0s 11ms/step - loss: 0.2914 - f1_score: 0.9240 - val_loss: 0.3580 - val_f1_score: 0.9028\n",
      "Epoch 103/115\n",
      "21/21 [==============================] - 0s 11ms/step - loss: 0.2881 - f1_score: 0.9271 - val_loss: 0.3674 - val_f1_score: 0.9092\n",
      "Epoch 104/115\n",
      "21/21 [==============================] - 0s 11ms/step - loss: 0.2853 - f1_score: 0.9272 - val_loss: 0.3659 - val_f1_score: 0.9092\n",
      "Epoch 105/115\n",
      "21/21 [==============================] - 0s 11ms/step - loss: 0.2840 - f1_score: 0.9302 - val_loss: 0.3659 - val_f1_score: 0.9092\n",
      "Epoch 106/115\n",
      "21/21 [==============================] - 0s 11ms/step - loss: 0.2850 - f1_score: 0.9242 - val_loss: 0.3616 - val_f1_score: 0.9092\n",
      "Epoch 107/115\n",
      "21/21 [==============================] - 0s 11ms/step - loss: 0.2801 - f1_score: 0.9272 - val_loss: 0.3621 - val_f1_score: 0.9093\n",
      "Epoch 108/115\n",
      "21/21 [==============================] - 0s 11ms/step - loss: 0.2808 - f1_score: 0.9333 - val_loss: 0.3603 - val_f1_score: 0.9092\n",
      "Epoch 109/115\n",
      "21/21 [==============================] - 0s 11ms/step - loss: 0.2755 - f1_score: 0.9332 - val_loss: 0.3677 - val_f1_score: 0.9092\n",
      "Epoch 110/115\n",
      "21/21 [==============================] - 0s 12ms/step - loss: 0.2746 - f1_score: 0.9273 - val_loss: 0.3653 - val_f1_score: 0.9092\n",
      "Epoch 111/115\n",
      "21/21 [==============================] - 0s 11ms/step - loss: 0.2740 - f1_score: 0.9364 - val_loss: 0.3559 - val_f1_score: 0.9092\n",
      "Epoch 112/115\n",
      "21/21 [==============================] - 0s 11ms/step - loss: 0.2721 - f1_score: 0.9363 - val_loss: 0.3593 - val_f1_score: 0.9093\n",
      "Epoch 113/115\n",
      "21/21 [==============================] - 0s 11ms/step - loss: 0.2708 - f1_score: 0.9273 - val_loss: 0.3697 - val_f1_score: 0.9092\n",
      "Epoch 114/115\n",
      "21/21 [==============================] - 0s 11ms/step - loss: 0.2686 - f1_score: 0.9363 - val_loss: 0.3632 - val_f1_score: 0.9093\n",
      "Epoch 115/115\n",
      "21/21 [==============================] - 0s 11ms/step - loss: 0.2682 - f1_score: 0.9303 - val_loss: 0.3636 - val_f1_score: 0.9093\n"
     ]
    },
    {
     "data": {
      "text/html": [
       "<style>#sk-container-id-1 {color: black;}#sk-container-id-1 pre{padding: 0;}#sk-container-id-1 div.sk-toggleable {background-color: white;}#sk-container-id-1 label.sk-toggleable__label {cursor: pointer;display: block;width: 100%;margin-bottom: 0;padding: 0.3em;box-sizing: border-box;text-align: center;}#sk-container-id-1 label.sk-toggleable__label-arrow:before {content: \"▸\";float: left;margin-right: 0.25em;color: #696969;}#sk-container-id-1 label.sk-toggleable__label-arrow:hover:before {color: black;}#sk-container-id-1 div.sk-estimator:hover label.sk-toggleable__label-arrow:before {color: black;}#sk-container-id-1 div.sk-toggleable__content {max-height: 0;max-width: 0;overflow: hidden;text-align: left;background-color: #f0f8ff;}#sk-container-id-1 div.sk-toggleable__content pre {margin: 0.2em;color: black;border-radius: 0.25em;background-color: #f0f8ff;}#sk-container-id-1 input.sk-toggleable__control:checked~div.sk-toggleable__content {max-height: 200px;max-width: 100%;overflow: auto;}#sk-container-id-1 input.sk-toggleable__control:checked~label.sk-toggleable__label-arrow:before {content: \"▾\";}#sk-container-id-1 div.sk-estimator input.sk-toggleable__control:checked~label.sk-toggleable__label {background-color: #d4ebff;}#sk-container-id-1 div.sk-label input.sk-toggleable__control:checked~label.sk-toggleable__label {background-color: #d4ebff;}#sk-container-id-1 input.sk-hidden--visually {border: 0;clip: rect(1px 1px 1px 1px);clip: rect(1px, 1px, 1px, 1px);height: 1px;margin: -1px;overflow: hidden;padding: 0;position: absolute;width: 1px;}#sk-container-id-1 div.sk-estimator {font-family: monospace;background-color: #f0f8ff;border: 1px dotted black;border-radius: 0.25em;box-sizing: border-box;margin-bottom: 0.5em;}#sk-container-id-1 div.sk-estimator:hover {background-color: #d4ebff;}#sk-container-id-1 div.sk-parallel-item::after {content: \"\";width: 100%;border-bottom: 1px solid gray;flex-grow: 1;}#sk-container-id-1 div.sk-label:hover label.sk-toggleable__label {background-color: #d4ebff;}#sk-container-id-1 div.sk-serial::before {content: \"\";position: absolute;border-left: 1px solid gray;box-sizing: border-box;top: 0;bottom: 0;left: 50%;z-index: 0;}#sk-container-id-1 div.sk-serial {display: flex;flex-direction: column;align-items: center;background-color: white;padding-right: 0.2em;padding-left: 0.2em;position: relative;}#sk-container-id-1 div.sk-item {position: relative;z-index: 1;}#sk-container-id-1 div.sk-parallel {display: flex;align-items: stretch;justify-content: center;background-color: white;position: relative;}#sk-container-id-1 div.sk-item::before, #sk-container-id-1 div.sk-parallel-item::before {content: \"\";position: absolute;border-left: 1px solid gray;box-sizing: border-box;top: 0;bottom: 0;left: 50%;z-index: -1;}#sk-container-id-1 div.sk-parallel-item {display: flex;flex-direction: column;z-index: 1;position: relative;background-color: white;}#sk-container-id-1 div.sk-parallel-item:first-child::after {align-self: flex-end;width: 50%;}#sk-container-id-1 div.sk-parallel-item:last-child::after {align-self: flex-start;width: 50%;}#sk-container-id-1 div.sk-parallel-item:only-child::after {width: 0;}#sk-container-id-1 div.sk-dashed-wrapped {border: 1px dashed gray;margin: 0 0.4em 0.5em 0.4em;box-sizing: border-box;padding-bottom: 0.4em;background-color: white;}#sk-container-id-1 div.sk-label label {font-family: monospace;font-weight: bold;display: inline-block;line-height: 1.2em;}#sk-container-id-1 div.sk-label-container {text-align: center;}#sk-container-id-1 div.sk-container {/* jupyter's `normalize.less` sets `[hidden] { display: none; }` but bootstrap.min.css set `[hidden] { display: none !important; }` so we also need the `!important` here to be able to override the default hidden behavior on the sphinx rendered scikit-learn.org. See: https://github.com/scikit-learn/scikit-learn/issues/21755 */display: inline-block !important;position: relative;}#sk-container-id-1 div.sk-text-repr-fallback {display: none;}</style><div id=\"sk-container-id-1\" class=\"sk-top-container\"><div class=\"sk-text-repr-fallback\"><pre>KerasClassifier(\n",
       "\tmodel=None\n",
       "\tbuild_fn=&lt;keras.src.engine.sequential.Sequential object at 0x2b059a3e0&gt;\n",
       "\twarm_start=False\n",
       "\trandom_state=None\n",
       "\toptimizer=rmsprop\n",
       "\tloss=None\n",
       "\tmetrics=None\n",
       "\tbatch_size=None\n",
       "\tvalidation_batch_size=None\n",
       "\tverbose=1\n",
       "\tcallbacks=None\n",
       "\tvalidation_split=0.0\n",
       "\tshuffle=True\n",
       "\trun_eagerly=False\n",
       "\tepochs=1\n",
       "\tclass_weight=None\n",
       ")</pre><b>In a Jupyter environment, please rerun this cell to show the HTML representation or trust the notebook. <br />On GitHub, the HTML representation is unable to render, please try loading this page with nbviewer.org.</b></div><div class=\"sk-container\" hidden><div class=\"sk-item\"><div class=\"sk-estimator sk-toggleable\"><input class=\"sk-toggleable__control sk-hidden--visually\" id=\"sk-estimator-id-1\" type=\"checkbox\" checked><label for=\"sk-estimator-id-1\" class=\"sk-toggleable__label sk-toggleable__label-arrow\">KerasClassifier</label><div class=\"sk-toggleable__content\"><pre>KerasClassifier(\n",
       "\tmodel=None\n",
       "\tbuild_fn=&lt;keras.src.engine.sequential.Sequential object at 0x2b059a3e0&gt;\n",
       "\twarm_start=False\n",
       "\trandom_state=None\n",
       "\toptimizer=rmsprop\n",
       "\tloss=None\n",
       "\tmetrics=None\n",
       "\tbatch_size=None\n",
       "\tvalidation_batch_size=None\n",
       "\tverbose=1\n",
       "\tcallbacks=None\n",
       "\tvalidation_split=0.0\n",
       "\tshuffle=True\n",
       "\trun_eagerly=False\n",
       "\tepochs=1\n",
       "\tclass_weight=None\n",
       ")</pre></div></div></div></div></div>"
      ],
      "text/plain": [
       "KerasClassifier(\n",
       "\tmodel=None\n",
       "\tbuild_fn=<keras.src.engine.sequential.Sequential object at 0x2b059a3e0>\n",
       "\twarm_start=False\n",
       "\trandom_state=None\n",
       "\toptimizer=rmsprop\n",
       "\tloss=None\n",
       "\tmetrics=None\n",
       "\tbatch_size=None\n",
       "\tvalidation_batch_size=None\n",
       "\tverbose=1\n",
       "\tcallbacks=None\n",
       "\tvalidation_split=0.0\n",
       "\tshuffle=True\n",
       "\trun_eagerly=False\n",
       "\tepochs=1\n",
       "\tclass_weight=None\n",
       ")"
      ]
     },
     "execution_count": 10,
     "metadata": {},
     "output_type": "execute_result"
    }
   ],
   "source": [
    "clf_tf.fit(\n",
    "     X = X_train,\n",
    "     y = y_train_one_hot,\n",
    "     validation_data = [X_test, y_test_one_hot],\n",
    "     epochs = 115,\n",
    "     batch_size = 16\n",
    ")\n",
    "\n",
    "# clf.fit(\n",
    "#     X_train,\n",
    "#     y_train_one_hot,\n",
    "#     validation_data = [X_test, y_test_one_hot],\n",
    "#     epochs = 20,\n",
    "#     batch_size = 4\n",
    "# )"
   ]
  },
  {
   "cell_type": "code",
   "execution_count": null,
   "metadata": {},
   "outputs": [],
   "source": [
    "clf_tf.history_.keys()"
   ]
  },
  {
   "cell_type": "code",
   "execution_count": 11,
   "metadata": {},
   "outputs": [
    {
     "data": {
      "text/plain": [
       "<matplotlib.legend.Legend at 0x2b059a290>"
      ]
     },
     "execution_count": 11,
     "metadata": {},
     "output_type": "execute_result"
    },
    {
     "data": {
      "image/png": "[encoded data removed]",
      "text/plain": [
       "<Figure size 640x480 with 1 Axes>"
      ]
     },
     "metadata": {},
     "output_type": "display_data"
    }
   ],
   "source": [
    "plt.plot(clf_tf.history_[\"f1_score\"], label=\"training set\")\n",
    "plt.plot(clf_tf.history_[\"val_f1_score\"], label=\"validation set\")\n",
    "plt.xlabel(\"epochs\")\n",
    "plt.ylabel(\"f1_score\")\n",
    "plt.legend()"
   ]
  },
  {
   "cell_type": "code",
   "execution_count": 12,
   "metadata": {},
   "outputs": [
    {
     "data": {
      "text/plain": [
       "<matplotlib.legend.Legend at 0x2b2a6ec50>"
      ]
     },
     "execution_count": 12,
     "metadata": {},
     "output_type": "execute_result"
    },
    {
     "data": {
      "image/png": "[encoded data removed]",
      "text/plain": [
       "<Figure size 640x480 with 1 Axes>"
      ]
     },
     "metadata": {},
     "output_type": "display_data"
    }
   ],
   "source": [
    "plt.plot(clf_tf.history_[\"loss\"], label=\"training set\")\n",
    "plt.plot(clf_tf.history_[\"val_loss\"], label=\"validation set\")\n",
    "plt.xlabel(\"epochs\")\n",
    "plt.ylabel(\"loss\")\n",
    "plt.legend()"
   ]
  },
  {
   "cell_type": "code",
   "execution_count": null,
   "metadata": {},
   "outputs": [],
   "source": []
  },
  {
   "cell_type": "code",
   "execution_count": 13,
   "metadata": {},
   "outputs": [
    {
     "name": "stdout",
     "output_type": "stream",
     "text": [
      "6/6 [==============================] - 0s 2ms/step\n"
     ]
    },
    {
     "data": {
      "text/plain": [
       "0.909346316653056"
      ]
     },
     "execution_count": 13,
     "metadata": {},
     "output_type": "execute_result"
    }
   ],
   "source": [
    "from sklearn.metrics import f1_score\n",
    "f1_score(y_test_one_hot,clf_tf.predict(X_test), average='weighted')"
   ]
  },
  {
   "cell_type": "code",
   "execution_count": null,
   "metadata": {},
   "outputs": [],
   "source": [
    "from sklearn.model_selection import GridSearchCV\n",
    "from sklearn.metrics import make_scorer, f1_score\n",
    "\n",
    "#Best: 0.936065 using {'batch_size': 4, 'loss': 'categorical_crossentropy', 'lr': 0.0001, 'optimizer': 'adagrad'}\n",
    "\n",
    "param_grid = {\n",
    "    'optimizer': ['adam', 'adagrad', 'adamax', 'adaw'],\n",
    "    'batch_size': [4, 8, 16],\n",
    "    'lr' : [1e-3, 1e-4, 1e-5],\n",
    "    #'loss' : ['categorical_crossentropy', 'weighted_categorical_crossentropy']\n",
    "}\n",
    "\n",
    "clf_tf = KerasClassifier(build_fn=create_model, lr=0.01,verbose=0)\n",
    "\n",
    "f1_weighted_scorer = make_scorer(f1_score, average='weighted')\n",
    "grid = GridSearchCV(estimator=clf_tf, param_grid=param_grid, cv=3, scoring=f1_weighted_scorer)\n",
    "grid_result = grid.fit(X_train, y_train_one_hot, epochs = 400)\n",
    "\n",
    "print(\"Best: %f using %s\" % (grid_result.best_score_, grid_result.best_params_))\n"
   ]
  }
 ],
 "metadata": {
  "kernelspec": {
   "display_name": "bio482",
   "language": "python",
   "name": "python3"
  },
  "language_info": {
   "codemirror_mode": {
    "name": "ipython",
    "version": 3
   },
   "file_extension": ".py",
   "mimetype": "text/x-python",
   "name": "python",
   "nbconvert_exporter": "python",
   "pygments_lexer": "ipython3",
   "version": "3.10.8"
  }
 },
 "nbformat": 4,
 "nbformat_minor": 2
}
